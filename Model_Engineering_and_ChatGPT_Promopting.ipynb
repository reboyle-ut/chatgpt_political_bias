{
  "nbformat": 4,
  "nbformat_minor": 0,
  "metadata": {
    "colab": {
      "provenance": [],
      "gpuType": "T4"
    },
    "kernelspec": {
      "name": "python3",
      "display_name": "Python 3"
    },
    "language_info": {
      "name": "python"
    },
    "accelerator": "GPU"
  },
  "cells": [
    {
      "cell_type": "markdown",
      "source": [
        "# Table of Contents:\n",
        "\n",
        "**ENGINEER CLASSIFICATION MODEL**\n",
        "\n",
        "1. Pull in training data (cc_news from HuggingFace)\n",
        "2. Preprocessing for features: BoW, N-Gram, TF-IDF, GloVE\n",
        "3. Split Dataset: train-test-split\n",
        "4. Compile Variables: hstack\n",
        "5. Model Training: train different classifiers and perform feature ablation studies  \n",
        "  \n",
        "  A. Classification (Logistic Regression, SVC)  \n",
        "  B. Ensemble (Random Forest, Gradient Boost)  \n",
        "  C. Feed-Forward Network\n",
        "\n",
        "**TEST ON CHATGPT DATA**\n",
        "\n",
        "1. Import and preprocess ChatGPT text\n",
        "2. Featurize, compile features, and check shapes\n",
        "3. Predict with different prompting methods (natural, summary, detailed)\n",
        "4. Store results\n",
        "5. Results"
      ],
      "metadata": {
        "id": "hzMe5cFKtgKo"
      }
    },
    {
      "cell_type": "markdown",
      "source": [
        "**PLEASE NOTE THAT ADDITIONAL SOURCES ARE CITED IN OUR AFFILIATED RESEARCH PAPER**"
      ],
      "metadata": {
        "id": "0cqSiVGLusvW"
      }
    },
    {
      "cell_type": "markdown",
      "source": [
        "# ENGINEER CLASSIFICAITON MODEL"
      ],
      "metadata": {
        "id": "hxmRsFGCpJ_C"
      }
    },
    {
      "cell_type": "markdown",
      "source": [
        "Here, we will engineer a classification model that can classify ChatGPT responses as \"right-,\" \"center-\", or \"left-leaning\"."
      ],
      "metadata": {
        "id": "Z282lqJRuqj_"
      }
    },
    {
      "cell_type": "markdown",
      "source": [
        "## 1. Pull in training data (cc_news from HuggingFace)"
      ],
      "metadata": {
        "id": "ZQSz2cUKpPqG"
      }
    },
    {
      "cell_type": "markdown",
      "source": [
        "Mount Google drive to pull in our data."
      ],
      "metadata": {
        "id": "5MIwp7O6u5zY"
      }
    },
    {
      "cell_type": "code",
      "source": [
        "from google.colab import drive\n",
        "drive.mount('/content/drive')"
      ],
      "metadata": {
        "colab": {
          "base_uri": "https://localhost:8080/"
        },
        "id": "76MRsuvuKBe5",
        "outputId": "45de8062-910c-41df-d025-c493f152cda8"
      },
      "execution_count": null,
      "outputs": [
        {
          "output_type": "stream",
          "name": "stdout",
          "text": [
            "Mounted at /content/drive\n"
          ]
        }
      ]
    },
    {
      "cell_type": "markdown",
      "source": [
        "Read .csv file of parsed down domains (see \"Annotating our Training Dataset\") and check that the data read in properly."
      ],
      "metadata": {
        "id": "Qa_2W88Gu8Xr"
      }
    },
    {
      "cell_type": "code",
      "source": [
        "import pandas as pd\n",
        "\n",
        "path = '/content/drive/MyDrive/nlp_final_project_2023/filtered_train_data.csv'\n",
        "news_df = pd.read_csv(path)"
      ],
      "metadata": {
        "id": "31V65UUdKMiw"
      },
      "execution_count": null,
      "outputs": []
    },
    {
      "cell_type": "code",
      "source": [
        "news_df.head()"
      ],
      "metadata": {
        "colab": {
          "base_uri": "https://localhost:8080/",
          "height": 659
        },
        "id": "v6pu8E-AKdxX",
        "outputId": "f5e7758d-4a48-4efa-f9b0-3a21d5979093"
      },
      "execution_count": null,
      "outputs": [
        {
          "output_type": "execute_result",
          "data": {
            "text/plain": [
              "   Unnamed: 0                                              title  \\\n",
              "0       11724    Cleveland Shooter Disowned By Family On Twitter   \n",
              "1       11725  Weinstein Company launches probe into co-found...   \n",
              "2       11726  Hilary Duff's Ex-Husband Mike Comrie Investiga...   \n",
              "3       11727  At 117, Jamaican woman likely just became worl...   \n",
              "4       11728  Mark Hamill's Carrie Fisher Tribute: \"Making H...   \n",
              "\n",
              "                                                text         domain  \\\n",
              "0  Donald Harvey, also dubbed as the 'Angel of De...  www.yahoo.com   \n",
              "1  Movie company says it is taking claims “very s...  www.yahoo.com   \n",
              "2  Former NHL star Mike Comrie — once married to ...  www.yahoo.com   \n",
              "3  The world's oldest person Violet Brown, center...  www.yahoo.com   \n",
              "4  (Photo: Albert L. Ortega/Gettyimages)\\nCarrie ...  www.yahoo.com   \n",
              "\n",
              "                  date                                        description  \\\n",
              "0  2017-04-17 05:27:27  Cleveland Police issued an aggravated murder w...   \n",
              "1  2017-10-07 04:31:25  Movie company says it is taking claims “very s...   \n",
              "2  2017-02-15 15:22:55  Former NHL star Mike Comrie — once married to ...   \n",
              "3  2017-04-17 22:55:18  DUANVALE, Jamaica (AP) — Violet Brown spent mu...   \n",
              "4  2017-01-02 00:00:00  \"She was a handful, but my life would have bee...   \n",
              "\n",
              "                                                 url  \\\n",
              "0  https://www.yahoo.com/news/cleveland-shooter-d...   \n",
              "1  https://www.yahoo.com/movies/weinstein-company...   \n",
              "2  https://www.yahoo.com/celebrity/hilary-duffs-e...   \n",
              "3  https://www.yahoo.com/news/117-jamaican-woman-...   \n",
              "4  https://www.yahoo.com/movies/mark-hamills-carr...   \n",
              "\n",
              "                                           image_url leaning-label  \n",
              "0  https://s.yimg.com/uu/api/res/1.2/vZB0t9O5GGqs...  conservative  \n",
              "1  https://s.yimg.com/uu/api/res/1.2/4wtFnh7lUeYk...  conservative  \n",
              "2  https://s.yimg.com/uu/api/res/1.2/..p2z00Och0J...  conservative  \n",
              "3  https://s.yimg.com/uu/api/res/1.2/Vd4NgTACWY1z...  conservative  \n",
              "4  https://s.yimg.com/uu/api/res/1.2/Ole1yyNg3gmL...  conservative  "
            ],
            "text/html": [
              "\n",
              "  <div id=\"df-ab3a78b4-7663-4738-8638-690ee39c0781\" class=\"colab-df-container\">\n",
              "    <div>\n",
              "<style scoped>\n",
              "    .dataframe tbody tr th:only-of-type {\n",
              "        vertical-align: middle;\n",
              "    }\n",
              "\n",
              "    .dataframe tbody tr th {\n",
              "        vertical-align: top;\n",
              "    }\n",
              "\n",
              "    .dataframe thead th {\n",
              "        text-align: right;\n",
              "    }\n",
              "</style>\n",
              "<table border=\"1\" class=\"dataframe\">\n",
              "  <thead>\n",
              "    <tr style=\"text-align: right;\">\n",
              "      <th></th>\n",
              "      <th>Unnamed: 0</th>\n",
              "      <th>title</th>\n",
              "      <th>text</th>\n",
              "      <th>domain</th>\n",
              "      <th>date</th>\n",
              "      <th>description</th>\n",
              "      <th>url</th>\n",
              "      <th>image_url</th>\n",
              "      <th>leaning-label</th>\n",
              "    </tr>\n",
              "  </thead>\n",
              "  <tbody>\n",
              "    <tr>\n",
              "      <th>0</th>\n",
              "      <td>11724</td>\n",
              "      <td>Cleveland Shooter Disowned By Family On Twitter</td>\n",
              "      <td>Donald Harvey, also dubbed as the 'Angel of De...</td>\n",
              "      <td>www.yahoo.com</td>\n",
              "      <td>2017-04-17 05:27:27</td>\n",
              "      <td>Cleveland Police issued an aggravated murder w...</td>\n",
              "      <td>https://www.yahoo.com/news/cleveland-shooter-d...</td>\n",
              "      <td>https://s.yimg.com/uu/api/res/1.2/vZB0t9O5GGqs...</td>\n",
              "      <td>conservative</td>\n",
              "    </tr>\n",
              "    <tr>\n",
              "      <th>1</th>\n",
              "      <td>11725</td>\n",
              "      <td>Weinstein Company launches probe into co-found...</td>\n",
              "      <td>Movie company says it is taking claims “very s...</td>\n",
              "      <td>www.yahoo.com</td>\n",
              "      <td>2017-10-07 04:31:25</td>\n",
              "      <td>Movie company says it is taking claims “very s...</td>\n",
              "      <td>https://www.yahoo.com/movies/weinstein-company...</td>\n",
              "      <td>https://s.yimg.com/uu/api/res/1.2/4wtFnh7lUeYk...</td>\n",
              "      <td>conservative</td>\n",
              "    </tr>\n",
              "    <tr>\n",
              "      <th>2</th>\n",
              "      <td>11726</td>\n",
              "      <td>Hilary Duff's Ex-Husband Mike Comrie Investiga...</td>\n",
              "      <td>Former NHL star Mike Comrie — once married to ...</td>\n",
              "      <td>www.yahoo.com</td>\n",
              "      <td>2017-02-15 15:22:55</td>\n",
              "      <td>Former NHL star Mike Comrie — once married to ...</td>\n",
              "      <td>https://www.yahoo.com/celebrity/hilary-duffs-e...</td>\n",
              "      <td>https://s.yimg.com/uu/api/res/1.2/..p2z00Och0J...</td>\n",
              "      <td>conservative</td>\n",
              "    </tr>\n",
              "    <tr>\n",
              "      <th>3</th>\n",
              "      <td>11727</td>\n",
              "      <td>At 117, Jamaican woman likely just became worl...</td>\n",
              "      <td>The world's oldest person Violet Brown, center...</td>\n",
              "      <td>www.yahoo.com</td>\n",
              "      <td>2017-04-17 22:55:18</td>\n",
              "      <td>DUANVALE, Jamaica (AP) — Violet Brown spent mu...</td>\n",
              "      <td>https://www.yahoo.com/news/117-jamaican-woman-...</td>\n",
              "      <td>https://s.yimg.com/uu/api/res/1.2/Vd4NgTACWY1z...</td>\n",
              "      <td>conservative</td>\n",
              "    </tr>\n",
              "    <tr>\n",
              "      <th>4</th>\n",
              "      <td>11728</td>\n",
              "      <td>Mark Hamill's Carrie Fisher Tribute: \"Making H...</td>\n",
              "      <td>(Photo: Albert L. Ortega/Gettyimages)\\nCarrie ...</td>\n",
              "      <td>www.yahoo.com</td>\n",
              "      <td>2017-01-02 00:00:00</td>\n",
              "      <td>\"She was a handful, but my life would have bee...</td>\n",
              "      <td>https://www.yahoo.com/movies/mark-hamills-carr...</td>\n",
              "      <td>https://s.yimg.com/uu/api/res/1.2/Ole1yyNg3gmL...</td>\n",
              "      <td>conservative</td>\n",
              "    </tr>\n",
              "  </tbody>\n",
              "</table>\n",
              "</div>\n",
              "    <div class=\"colab-df-buttons\">\n",
              "\n",
              "  <div class=\"colab-df-container\">\n",
              "    <button class=\"colab-df-convert\" onclick=\"convertToInteractive('df-ab3a78b4-7663-4738-8638-690ee39c0781')\"\n",
              "            title=\"Convert this dataframe to an interactive table.\"\n",
              "            style=\"display:none;\">\n",
              "\n",
              "  <svg xmlns=\"http://www.w3.org/2000/svg\" height=\"24px\" viewBox=\"0 -960 960 960\">\n",
              "    <path d=\"M120-120v-720h720v720H120Zm60-500h600v-160H180v160Zm220 220h160v-160H400v160Zm0 220h160v-160H400v160ZM180-400h160v-160H180v160Zm440 0h160v-160H620v160ZM180-180h160v-160H180v160Zm440 0h160v-160H620v160Z\"/>\n",
              "  </svg>\n",
              "    </button>\n",
              "\n",
              "  <style>\n",
              "    .colab-df-container {\n",
              "      display:flex;\n",
              "      gap: 12px;\n",
              "    }\n",
              "\n",
              "    .colab-df-convert {\n",
              "      background-color: #E8F0FE;\n",
              "      border: none;\n",
              "      border-radius: 50%;\n",
              "      cursor: pointer;\n",
              "      display: none;\n",
              "      fill: #1967D2;\n",
              "      height: 32px;\n",
              "      padding: 0 0 0 0;\n",
              "      width: 32px;\n",
              "    }\n",
              "\n",
              "    .colab-df-convert:hover {\n",
              "      background-color: #E2EBFA;\n",
              "      box-shadow: 0px 1px 2px rgba(60, 64, 67, 0.3), 0px 1px 3px 1px rgba(60, 64, 67, 0.15);\n",
              "      fill: #174EA6;\n",
              "    }\n",
              "\n",
              "    .colab-df-buttons div {\n",
              "      margin-bottom: 4px;\n",
              "    }\n",
              "\n",
              "    [theme=dark] .colab-df-convert {\n",
              "      background-color: #3B4455;\n",
              "      fill: #D2E3FC;\n",
              "    }\n",
              "\n",
              "    [theme=dark] .colab-df-convert:hover {\n",
              "      background-color: #434B5C;\n",
              "      box-shadow: 0px 1px 3px 1px rgba(0, 0, 0, 0.15);\n",
              "      filter: drop-shadow(0px 1px 2px rgba(0, 0, 0, 0.3));\n",
              "      fill: #FFFFFF;\n",
              "    }\n",
              "  </style>\n",
              "\n",
              "    <script>\n",
              "      const buttonEl =\n",
              "        document.querySelector('#df-ab3a78b4-7663-4738-8638-690ee39c0781 button.colab-df-convert');\n",
              "      buttonEl.style.display =\n",
              "        google.colab.kernel.accessAllowed ? 'block' : 'none';\n",
              "\n",
              "      async function convertToInteractive(key) {\n",
              "        const element = document.querySelector('#df-ab3a78b4-7663-4738-8638-690ee39c0781');\n",
              "        const dataTable =\n",
              "          await google.colab.kernel.invokeFunction('convertToInteractive',\n",
              "                                                    [key], {});\n",
              "        if (!dataTable) return;\n",
              "\n",
              "        const docLinkHtml = 'Like what you see? Visit the ' +\n",
              "          '<a target=\"_blank\" href=https://colab.research.google.com/notebooks/data_table.ipynb>data table notebook</a>'\n",
              "          + ' to learn more about interactive tables.';\n",
              "        element.innerHTML = '';\n",
              "        dataTable['output_type'] = 'display_data';\n",
              "        await google.colab.output.renderOutput(dataTable, element);\n",
              "        const docLink = document.createElement('div');\n",
              "        docLink.innerHTML = docLinkHtml;\n",
              "        element.appendChild(docLink);\n",
              "      }\n",
              "    </script>\n",
              "  </div>\n",
              "\n",
              "\n",
              "<div id=\"df-cf3cf111-1414-4032-ae29-0517bad4d1be\">\n",
              "  <button class=\"colab-df-quickchart\" onclick=\"quickchart('df-cf3cf111-1414-4032-ae29-0517bad4d1be')\"\n",
              "            title=\"Suggest charts\"\n",
              "            style=\"display:none;\">\n",
              "\n",
              "<svg xmlns=\"http://www.w3.org/2000/svg\" height=\"24px\"viewBox=\"0 0 24 24\"\n",
              "     width=\"24px\">\n",
              "    <g>\n",
              "        <path d=\"M19 3H5c-1.1 0-2 .9-2 2v14c0 1.1.9 2 2 2h14c1.1 0 2-.9 2-2V5c0-1.1-.9-2-2-2zM9 17H7v-7h2v7zm4 0h-2V7h2v10zm4 0h-2v-4h2v4z\"/>\n",
              "    </g>\n",
              "</svg>\n",
              "  </button>\n",
              "\n",
              "<style>\n",
              "  .colab-df-quickchart {\n",
              "      --bg-color: #E8F0FE;\n",
              "      --fill-color: #1967D2;\n",
              "      --hover-bg-color: #E2EBFA;\n",
              "      --hover-fill-color: #174EA6;\n",
              "      --disabled-fill-color: #AAA;\n",
              "      --disabled-bg-color: #DDD;\n",
              "  }\n",
              "\n",
              "  [theme=dark] .colab-df-quickchart {\n",
              "      --bg-color: #3B4455;\n",
              "      --fill-color: #D2E3FC;\n",
              "      --hover-bg-color: #434B5C;\n",
              "      --hover-fill-color: #FFFFFF;\n",
              "      --disabled-bg-color: #3B4455;\n",
              "      --disabled-fill-color: #666;\n",
              "  }\n",
              "\n",
              "  .colab-df-quickchart {\n",
              "    background-color: var(--bg-color);\n",
              "    border: none;\n",
              "    border-radius: 50%;\n",
              "    cursor: pointer;\n",
              "    display: none;\n",
              "    fill: var(--fill-color);\n",
              "    height: 32px;\n",
              "    padding: 0;\n",
              "    width: 32px;\n",
              "  }\n",
              "\n",
              "  .colab-df-quickchart:hover {\n",
              "    background-color: var(--hover-bg-color);\n",
              "    box-shadow: 0 1px 2px rgba(60, 64, 67, 0.3), 0 1px 3px 1px rgba(60, 64, 67, 0.15);\n",
              "    fill: var(--button-hover-fill-color);\n",
              "  }\n",
              "\n",
              "  .colab-df-quickchart-complete:disabled,\n",
              "  .colab-df-quickchart-complete:disabled:hover {\n",
              "    background-color: var(--disabled-bg-color);\n",
              "    fill: var(--disabled-fill-color);\n",
              "    box-shadow: none;\n",
              "  }\n",
              "\n",
              "  .colab-df-spinner {\n",
              "    border: 2px solid var(--fill-color);\n",
              "    border-color: transparent;\n",
              "    border-bottom-color: var(--fill-color);\n",
              "    animation:\n",
              "      spin 1s steps(1) infinite;\n",
              "  }\n",
              "\n",
              "  @keyframes spin {\n",
              "    0% {\n",
              "      border-color: transparent;\n",
              "      border-bottom-color: var(--fill-color);\n",
              "      border-left-color: var(--fill-color);\n",
              "    }\n",
              "    20% {\n",
              "      border-color: transparent;\n",
              "      border-left-color: var(--fill-color);\n",
              "      border-top-color: var(--fill-color);\n",
              "    }\n",
              "    30% {\n",
              "      border-color: transparent;\n",
              "      border-left-color: var(--fill-color);\n",
              "      border-top-color: var(--fill-color);\n",
              "      border-right-color: var(--fill-color);\n",
              "    }\n",
              "    40% {\n",
              "      border-color: transparent;\n",
              "      border-right-color: var(--fill-color);\n",
              "      border-top-color: var(--fill-color);\n",
              "    }\n",
              "    60% {\n",
              "      border-color: transparent;\n",
              "      border-right-color: var(--fill-color);\n",
              "    }\n",
              "    80% {\n",
              "      border-color: transparent;\n",
              "      border-right-color: var(--fill-color);\n",
              "      border-bottom-color: var(--fill-color);\n",
              "    }\n",
              "    90% {\n",
              "      border-color: transparent;\n",
              "      border-bottom-color: var(--fill-color);\n",
              "    }\n",
              "  }\n",
              "</style>\n",
              "\n",
              "  <script>\n",
              "    async function quickchart(key) {\n",
              "      const quickchartButtonEl =\n",
              "        document.querySelector('#' + key + ' button');\n",
              "      quickchartButtonEl.disabled = true;  // To prevent multiple clicks.\n",
              "      quickchartButtonEl.classList.add('colab-df-spinner');\n",
              "      try {\n",
              "        const charts = await google.colab.kernel.invokeFunction(\n",
              "            'suggestCharts', [key], {});\n",
              "      } catch (error) {\n",
              "        console.error('Error during call to suggestCharts:', error);\n",
              "      }\n",
              "      quickchartButtonEl.classList.remove('colab-df-spinner');\n",
              "      quickchartButtonEl.classList.add('colab-df-quickchart-complete');\n",
              "    }\n",
              "    (() => {\n",
              "      let quickchartButtonEl =\n",
              "        document.querySelector('#df-cf3cf111-1414-4032-ae29-0517bad4d1be button');\n",
              "      quickchartButtonEl.style.display =\n",
              "        google.colab.kernel.accessAllowed ? 'block' : 'none';\n",
              "    })();\n",
              "  </script>\n",
              "</div>\n",
              "    </div>\n",
              "  </div>\n"
            ]
          },
          "metadata": {},
          "execution_count": 3
        }
      ]
    },
    {
      "cell_type": "markdown",
      "source": [
        "Check data counts."
      ],
      "metadata": {
        "id": "wz9S7QYeu_WK"
      }
    },
    {
      "cell_type": "code",
      "source": [
        "news_df.count()"
      ],
      "metadata": {
        "colab": {
          "base_uri": "https://localhost:8080/"
        },
        "id": "G4m9tjN0KhDU",
        "outputId": "3d725d3d-439e-4bdf-a0d8-cd696021b2bc"
      },
      "execution_count": null,
      "outputs": [
        {
          "output_type": "execute_result",
          "data": {
            "text/plain": [
              "Unnamed: 0       10555\n",
              "title            10555\n",
              "text             10555\n",
              "domain           10555\n",
              "date             10545\n",
              "description      10471\n",
              "url              10555\n",
              "image_url        10555\n",
              "leaning-label    10555\n",
              "dtype: int64"
            ]
          },
          "metadata": {},
          "execution_count": 4
        }
      ]
    },
    {
      "cell_type": "markdown",
      "source": [
        "Missing some descriptions but should be fine?"
      ],
      "metadata": {
        "id": "Mnsy3bwVK7C0"
      }
    },
    {
      "cell_type": "code",
      "source": [
        "# Drop previus index column\n",
        "news_df = news_df.drop(columns='Unnamed: 0')"
      ],
      "metadata": {
        "id": "6-898T3VKkz_"
      },
      "execution_count": null,
      "outputs": []
    },
    {
      "cell_type": "code",
      "source": [
        "\n",
        "news_df.head()"
      ],
      "metadata": {
        "colab": {
          "base_uri": "https://localhost:8080/",
          "height": 659
        },
        "id": "LjECQ0HWLMqS",
        "outputId": "29a215c7-fbc5-4b95-cf73-b7e5eaf9944f"
      },
      "execution_count": null,
      "outputs": [
        {
          "output_type": "execute_result",
          "data": {
            "text/plain": [
              "                                               title  \\\n",
              "0    Cleveland Shooter Disowned By Family On Twitter   \n",
              "1  Weinstein Company launches probe into co-found...   \n",
              "2  Hilary Duff's Ex-Husband Mike Comrie Investiga...   \n",
              "3  At 117, Jamaican woman likely just became worl...   \n",
              "4  Mark Hamill's Carrie Fisher Tribute: \"Making H...   \n",
              "\n",
              "                                                text         domain  \\\n",
              "0  Donald Harvey, also dubbed as the 'Angel of De...  www.yahoo.com   \n",
              "1  Movie company says it is taking claims “very s...  www.yahoo.com   \n",
              "2  Former NHL star Mike Comrie — once married to ...  www.yahoo.com   \n",
              "3  The world's oldest person Violet Brown, center...  www.yahoo.com   \n",
              "4  (Photo: Albert L. Ortega/Gettyimages)\\nCarrie ...  www.yahoo.com   \n",
              "\n",
              "                  date                                        description  \\\n",
              "0  2017-04-17 05:27:27  Cleveland Police issued an aggravated murder w...   \n",
              "1  2017-10-07 04:31:25  Movie company says it is taking claims “very s...   \n",
              "2  2017-02-15 15:22:55  Former NHL star Mike Comrie — once married to ...   \n",
              "3  2017-04-17 22:55:18  DUANVALE, Jamaica (AP) — Violet Brown spent mu...   \n",
              "4  2017-01-02 00:00:00  \"She was a handful, but my life would have bee...   \n",
              "\n",
              "                                                 url  \\\n",
              "0  https://www.yahoo.com/news/cleveland-shooter-d...   \n",
              "1  https://www.yahoo.com/movies/weinstein-company...   \n",
              "2  https://www.yahoo.com/celebrity/hilary-duffs-e...   \n",
              "3  https://www.yahoo.com/news/117-jamaican-woman-...   \n",
              "4  https://www.yahoo.com/movies/mark-hamills-carr...   \n",
              "\n",
              "                                           image_url leaning-label  \n",
              "0  https://s.yimg.com/uu/api/res/1.2/vZB0t9O5GGqs...  conservative  \n",
              "1  https://s.yimg.com/uu/api/res/1.2/4wtFnh7lUeYk...  conservative  \n",
              "2  https://s.yimg.com/uu/api/res/1.2/..p2z00Och0J...  conservative  \n",
              "3  https://s.yimg.com/uu/api/res/1.2/Vd4NgTACWY1z...  conservative  \n",
              "4  https://s.yimg.com/uu/api/res/1.2/Ole1yyNg3gmL...  conservative  "
            ],
            "text/html": [
              "\n",
              "  <div id=\"df-7c4fd03b-0c2a-4032-a39f-c5d4e1a8debe\" class=\"colab-df-container\">\n",
              "    <div>\n",
              "<style scoped>\n",
              "    .dataframe tbody tr th:only-of-type {\n",
              "        vertical-align: middle;\n",
              "    }\n",
              "\n",
              "    .dataframe tbody tr th {\n",
              "        vertical-align: top;\n",
              "    }\n",
              "\n",
              "    .dataframe thead th {\n",
              "        text-align: right;\n",
              "    }\n",
              "</style>\n",
              "<table border=\"1\" class=\"dataframe\">\n",
              "  <thead>\n",
              "    <tr style=\"text-align: right;\">\n",
              "      <th></th>\n",
              "      <th>title</th>\n",
              "      <th>text</th>\n",
              "      <th>domain</th>\n",
              "      <th>date</th>\n",
              "      <th>description</th>\n",
              "      <th>url</th>\n",
              "      <th>image_url</th>\n",
              "      <th>leaning-label</th>\n",
              "    </tr>\n",
              "  </thead>\n",
              "  <tbody>\n",
              "    <tr>\n",
              "      <th>0</th>\n",
              "      <td>Cleveland Shooter Disowned By Family On Twitter</td>\n",
              "      <td>Donald Harvey, also dubbed as the 'Angel of De...</td>\n",
              "      <td>www.yahoo.com</td>\n",
              "      <td>2017-04-17 05:27:27</td>\n",
              "      <td>Cleveland Police issued an aggravated murder w...</td>\n",
              "      <td>https://www.yahoo.com/news/cleveland-shooter-d...</td>\n",
              "      <td>https://s.yimg.com/uu/api/res/1.2/vZB0t9O5GGqs...</td>\n",
              "      <td>conservative</td>\n",
              "    </tr>\n",
              "    <tr>\n",
              "      <th>1</th>\n",
              "      <td>Weinstein Company launches probe into co-found...</td>\n",
              "      <td>Movie company says it is taking claims “very s...</td>\n",
              "      <td>www.yahoo.com</td>\n",
              "      <td>2017-10-07 04:31:25</td>\n",
              "      <td>Movie company says it is taking claims “very s...</td>\n",
              "      <td>https://www.yahoo.com/movies/weinstein-company...</td>\n",
              "      <td>https://s.yimg.com/uu/api/res/1.2/4wtFnh7lUeYk...</td>\n",
              "      <td>conservative</td>\n",
              "    </tr>\n",
              "    <tr>\n",
              "      <th>2</th>\n",
              "      <td>Hilary Duff's Ex-Husband Mike Comrie Investiga...</td>\n",
              "      <td>Former NHL star Mike Comrie — once married to ...</td>\n",
              "      <td>www.yahoo.com</td>\n",
              "      <td>2017-02-15 15:22:55</td>\n",
              "      <td>Former NHL star Mike Comrie — once married to ...</td>\n",
              "      <td>https://www.yahoo.com/celebrity/hilary-duffs-e...</td>\n",
              "      <td>https://s.yimg.com/uu/api/res/1.2/..p2z00Och0J...</td>\n",
              "      <td>conservative</td>\n",
              "    </tr>\n",
              "    <tr>\n",
              "      <th>3</th>\n",
              "      <td>At 117, Jamaican woman likely just became worl...</td>\n",
              "      <td>The world's oldest person Violet Brown, center...</td>\n",
              "      <td>www.yahoo.com</td>\n",
              "      <td>2017-04-17 22:55:18</td>\n",
              "      <td>DUANVALE, Jamaica (AP) — Violet Brown spent mu...</td>\n",
              "      <td>https://www.yahoo.com/news/117-jamaican-woman-...</td>\n",
              "      <td>https://s.yimg.com/uu/api/res/1.2/Vd4NgTACWY1z...</td>\n",
              "      <td>conservative</td>\n",
              "    </tr>\n",
              "    <tr>\n",
              "      <th>4</th>\n",
              "      <td>Mark Hamill's Carrie Fisher Tribute: \"Making H...</td>\n",
              "      <td>(Photo: Albert L. Ortega/Gettyimages)\\nCarrie ...</td>\n",
              "      <td>www.yahoo.com</td>\n",
              "      <td>2017-01-02 00:00:00</td>\n",
              "      <td>\"She was a handful, but my life would have bee...</td>\n",
              "      <td>https://www.yahoo.com/movies/mark-hamills-carr...</td>\n",
              "      <td>https://s.yimg.com/uu/api/res/1.2/Ole1yyNg3gmL...</td>\n",
              "      <td>conservative</td>\n",
              "    </tr>\n",
              "  </tbody>\n",
              "</table>\n",
              "</div>\n",
              "    <div class=\"colab-df-buttons\">\n",
              "\n",
              "  <div class=\"colab-df-container\">\n",
              "    <button class=\"colab-df-convert\" onclick=\"convertToInteractive('df-7c4fd03b-0c2a-4032-a39f-c5d4e1a8debe')\"\n",
              "            title=\"Convert this dataframe to an interactive table.\"\n",
              "            style=\"display:none;\">\n",
              "\n",
              "  <svg xmlns=\"http://www.w3.org/2000/svg\" height=\"24px\" viewBox=\"0 -960 960 960\">\n",
              "    <path d=\"M120-120v-720h720v720H120Zm60-500h600v-160H180v160Zm220 220h160v-160H400v160Zm0 220h160v-160H400v160ZM180-400h160v-160H180v160Zm440 0h160v-160H620v160ZM180-180h160v-160H180v160Zm440 0h160v-160H620v160Z\"/>\n",
              "  </svg>\n",
              "    </button>\n",
              "\n",
              "  <style>\n",
              "    .colab-df-container {\n",
              "      display:flex;\n",
              "      gap: 12px;\n",
              "    }\n",
              "\n",
              "    .colab-df-convert {\n",
              "      background-color: #E8F0FE;\n",
              "      border: none;\n",
              "      border-radius: 50%;\n",
              "      cursor: pointer;\n",
              "      display: none;\n",
              "      fill: #1967D2;\n",
              "      height: 32px;\n",
              "      padding: 0 0 0 0;\n",
              "      width: 32px;\n",
              "    }\n",
              "\n",
              "    .colab-df-convert:hover {\n",
              "      background-color: #E2EBFA;\n",
              "      box-shadow: 0px 1px 2px rgba(60, 64, 67, 0.3), 0px 1px 3px 1px rgba(60, 64, 67, 0.15);\n",
              "      fill: #174EA6;\n",
              "    }\n",
              "\n",
              "    .colab-df-buttons div {\n",
              "      margin-bottom: 4px;\n",
              "    }\n",
              "\n",
              "    [theme=dark] .colab-df-convert {\n",
              "      background-color: #3B4455;\n",
              "      fill: #D2E3FC;\n",
              "    }\n",
              "\n",
              "    [theme=dark] .colab-df-convert:hover {\n",
              "      background-color: #434B5C;\n",
              "      box-shadow: 0px 1px 3px 1px rgba(0, 0, 0, 0.15);\n",
              "      filter: drop-shadow(0px 1px 2px rgba(0, 0, 0, 0.3));\n",
              "      fill: #FFFFFF;\n",
              "    }\n",
              "  </style>\n",
              "\n",
              "    <script>\n",
              "      const buttonEl =\n",
              "        document.querySelector('#df-7c4fd03b-0c2a-4032-a39f-c5d4e1a8debe button.colab-df-convert');\n",
              "      buttonEl.style.display =\n",
              "        google.colab.kernel.accessAllowed ? 'block' : 'none';\n",
              "\n",
              "      async function convertToInteractive(key) {\n",
              "        const element = document.querySelector('#df-7c4fd03b-0c2a-4032-a39f-c5d4e1a8debe');\n",
              "        const dataTable =\n",
              "          await google.colab.kernel.invokeFunction('convertToInteractive',\n",
              "                                                    [key], {});\n",
              "        if (!dataTable) return;\n",
              "\n",
              "        const docLinkHtml = 'Like what you see? Visit the ' +\n",
              "          '<a target=\"_blank\" href=https://colab.research.google.com/notebooks/data_table.ipynb>data table notebook</a>'\n",
              "          + ' to learn more about interactive tables.';\n",
              "        element.innerHTML = '';\n",
              "        dataTable['output_type'] = 'display_data';\n",
              "        await google.colab.output.renderOutput(dataTable, element);\n",
              "        const docLink = document.createElement('div');\n",
              "        docLink.innerHTML = docLinkHtml;\n",
              "        element.appendChild(docLink);\n",
              "      }\n",
              "    </script>\n",
              "  </div>\n",
              "\n",
              "\n",
              "<div id=\"df-b7a6c5e0-2a35-4d48-8c3a-238cc9943394\">\n",
              "  <button class=\"colab-df-quickchart\" onclick=\"quickchart('df-b7a6c5e0-2a35-4d48-8c3a-238cc9943394')\"\n",
              "            title=\"Suggest charts\"\n",
              "            style=\"display:none;\">\n",
              "\n",
              "<svg xmlns=\"http://www.w3.org/2000/svg\" height=\"24px\"viewBox=\"0 0 24 24\"\n",
              "     width=\"24px\">\n",
              "    <g>\n",
              "        <path d=\"M19 3H5c-1.1 0-2 .9-2 2v14c0 1.1.9 2 2 2h14c1.1 0 2-.9 2-2V5c0-1.1-.9-2-2-2zM9 17H7v-7h2v7zm4 0h-2V7h2v10zm4 0h-2v-4h2v4z\"/>\n",
              "    </g>\n",
              "</svg>\n",
              "  </button>\n",
              "\n",
              "<style>\n",
              "  .colab-df-quickchart {\n",
              "      --bg-color: #E8F0FE;\n",
              "      --fill-color: #1967D2;\n",
              "      --hover-bg-color: #E2EBFA;\n",
              "      --hover-fill-color: #174EA6;\n",
              "      --disabled-fill-color: #AAA;\n",
              "      --disabled-bg-color: #DDD;\n",
              "  }\n",
              "\n",
              "  [theme=dark] .colab-df-quickchart {\n",
              "      --bg-color: #3B4455;\n",
              "      --fill-color: #D2E3FC;\n",
              "      --hover-bg-color: #434B5C;\n",
              "      --hover-fill-color: #FFFFFF;\n",
              "      --disabled-bg-color: #3B4455;\n",
              "      --disabled-fill-color: #666;\n",
              "  }\n",
              "\n",
              "  .colab-df-quickchart {\n",
              "    background-color: var(--bg-color);\n",
              "    border: none;\n",
              "    border-radius: 50%;\n",
              "    cursor: pointer;\n",
              "    display: none;\n",
              "    fill: var(--fill-color);\n",
              "    height: 32px;\n",
              "    padding: 0;\n",
              "    width: 32px;\n",
              "  }\n",
              "\n",
              "  .colab-df-quickchart:hover {\n",
              "    background-color: var(--hover-bg-color);\n",
              "    box-shadow: 0 1px 2px rgba(60, 64, 67, 0.3), 0 1px 3px 1px rgba(60, 64, 67, 0.15);\n",
              "    fill: var(--button-hover-fill-color);\n",
              "  }\n",
              "\n",
              "  .colab-df-quickchart-complete:disabled,\n",
              "  .colab-df-quickchart-complete:disabled:hover {\n",
              "    background-color: var(--disabled-bg-color);\n",
              "    fill: var(--disabled-fill-color);\n",
              "    box-shadow: none;\n",
              "  }\n",
              "\n",
              "  .colab-df-spinner {\n",
              "    border: 2px solid var(--fill-color);\n",
              "    border-color: transparent;\n",
              "    border-bottom-color: var(--fill-color);\n",
              "    animation:\n",
              "      spin 1s steps(1) infinite;\n",
              "  }\n",
              "\n",
              "  @keyframes spin {\n",
              "    0% {\n",
              "      border-color: transparent;\n",
              "      border-bottom-color: var(--fill-color);\n",
              "      border-left-color: var(--fill-color);\n",
              "    }\n",
              "    20% {\n",
              "      border-color: transparent;\n",
              "      border-left-color: var(--fill-color);\n",
              "      border-top-color: var(--fill-color);\n",
              "    }\n",
              "    30% {\n",
              "      border-color: transparent;\n",
              "      border-left-color: var(--fill-color);\n",
              "      border-top-color: var(--fill-color);\n",
              "      border-right-color: var(--fill-color);\n",
              "    }\n",
              "    40% {\n",
              "      border-color: transparent;\n",
              "      border-right-color: var(--fill-color);\n",
              "      border-top-color: var(--fill-color);\n",
              "    }\n",
              "    60% {\n",
              "      border-color: transparent;\n",
              "      border-right-color: var(--fill-color);\n",
              "    }\n",
              "    80% {\n",
              "      border-color: transparent;\n",
              "      border-right-color: var(--fill-color);\n",
              "      border-bottom-color: var(--fill-color);\n",
              "    }\n",
              "    90% {\n",
              "      border-color: transparent;\n",
              "      border-bottom-color: var(--fill-color);\n",
              "    }\n",
              "  }\n",
              "</style>\n",
              "\n",
              "  <script>\n",
              "    async function quickchart(key) {\n",
              "      const quickchartButtonEl =\n",
              "        document.querySelector('#' + key + ' button');\n",
              "      quickchartButtonEl.disabled = true;  // To prevent multiple clicks.\n",
              "      quickchartButtonEl.classList.add('colab-df-spinner');\n",
              "      try {\n",
              "        const charts = await google.colab.kernel.invokeFunction(\n",
              "            'suggestCharts', [key], {});\n",
              "      } catch (error) {\n",
              "        console.error('Error during call to suggestCharts:', error);\n",
              "      }\n",
              "      quickchartButtonEl.classList.remove('colab-df-spinner');\n",
              "      quickchartButtonEl.classList.add('colab-df-quickchart-complete');\n",
              "    }\n",
              "    (() => {\n",
              "      let quickchartButtonEl =\n",
              "        document.querySelector('#df-b7a6c5e0-2a35-4d48-8c3a-238cc9943394 button');\n",
              "      quickchartButtonEl.style.display =\n",
              "        google.colab.kernel.accessAllowed ? 'block' : 'none';\n",
              "    })();\n",
              "  </script>\n",
              "</div>\n",
              "    </div>\n",
              "  </div>\n"
            ]
          },
          "metadata": {},
          "execution_count": 6
        }
      ]
    },
    {
      "cell_type": "markdown",
      "source": [
        "Check that one instance of the data looks good:"
      ],
      "metadata": {
        "id": "FW53v4iGvI_A"
      }
    },
    {
      "cell_type": "code",
      "source": [
        "# news_df.head()"
      ],
      "metadata": {
        "id": "K4DJVdeF2tvd"
      },
      "execution_count": null,
      "outputs": []
    },
    {
      "cell_type": "code",
      "source": [
        "print(news_df['text'].iloc[0])"
      ],
      "metadata": {
        "colab": {
          "base_uri": "https://localhost:8080/"
        },
        "id": "OtK0hopSLRSN",
        "outputId": "ea86d04f-c326-49b1-8982-d721836d443e"
      },
      "execution_count": null,
      "outputs": [
        {
          "output_type": "stream",
          "name": "stdout",
          "text": [
            "Donald Harvey, also dubbed as the 'Angel of Death,' used arsenic, rat poison and cyanide to kill patients at hospitals where he worked during 1970s and '80s.\n",
            "Steve Stephens, 37, who has been accused of homicide Sunday of 74-year-old Ohio resident named Robert Godwin Sr., has been publicly disowned by his family, according to a Twitter post from his account. The shooting, which was streamed on Facebook Live, took place at 635 E. 93rd St. around 2 p.m. EDT.\n",
            "The Twitter post on Stephens' account read: \"We absolutely do not condone this type of behavior and this atrocity, therefore we do not consider Steve a part of this family. I would like everyone to refrain from posting pictures of our family in association with Steve, for we do not want our young ones to be burdened by this man. Please respect our privacy.\"\n",
            "Cleveland Police Department issued an aggravated murder warrant against Stephens on Sunday night. They also alerted residents of Pennsylvania, New York, Indiana and Michigan as the manhunt is still on and the authorities suspect he might have fled the state.\n",
            "Stephens, an employee at Beech Brook, a children's behavioral health center in Ohio, in a separate video on his Facebook page, claimed to have \"killed 12 people today.\" He called this his \"Easter day slaughter.\" His Facebook posts mentioned that he had \"lost everything to gambling,\" according to NBC News. Police authorities are yet to confirm the number of victims the suspect claims to have killed.\n",
            "Stephens claimed in his live stream that he killed the old man Godwin because of a woman named Joy Lane. \"She's the reason why all of this is about to happen to you,\" Stephens said in the video, according to New York Daily News.\n",
            "Joy Lane, in a text message to CBS News, offered condolences to the family of the deceased.\n",
            "\"What happened today is senseless,\" Cleveland Police Chief Calvin Williams said at a news conference.\n",
            "\"I know, Steve, that you have relationship with some of clergy in Northeast Ohio. I encourage you to give them a call and then call us and turn yourself in,\" he added.\n",
            "According to Washington Post, a Facebook spokesperson said in a statement: \"This is a horrific crime and we do not allow this content on Facebook. We work hard to keep a safe environment on Facebook and are in touch with law enforcement in emergencies when there are direct threats to physical safety.\"\n",
            "Related Articles\n"
          ]
        }
      ]
    },
    {
      "cell_type": "markdown",
      "source": [
        "This is a classification problem of right, left, or moderate. Let's keep our choices in mind."
      ],
      "metadata": {
        "id": "b2Zk5WLDk9X2"
      }
    },
    {
      "cell_type": "code",
      "source": [
        "# choices = [\"liberal\", \"conservative\", \"moderate\"]"
      ],
      "metadata": {
        "id": "UOAnGuIPMsMJ"
      },
      "execution_count": null,
      "outputs": []
    },
    {
      "cell_type": "markdown",
      "source": [
        "We're just looking at bodies of text because ChatGPT would likely be only looking at text. We can narrow down our dataframe to something more manageable."
      ],
      "metadata": {
        "id": "Ku9Zvt-rlfga"
      }
    },
    {
      "cell_type": "code",
      "source": [
        "news_features = news_df[['domain', 'date', 'title', 'description', 'text', 'leaning-label']]"
      ],
      "metadata": {
        "id": "-2r76zSklUEB"
      },
      "execution_count": null,
      "outputs": []
    },
    {
      "cell_type": "code",
      "source": [
        "news_features.head()"
      ],
      "metadata": {
        "colab": {
          "base_uri": "https://localhost:8080/",
          "height": 659
        },
        "id": "Y3uiNqP_l2Xx",
        "outputId": "223aacab-bf55-4a72-e5ef-f87504e0c03c"
      },
      "execution_count": null,
      "outputs": [
        {
          "output_type": "execute_result",
          "data": {
            "text/plain": [
              "          domain                 date  \\\n",
              "0  www.yahoo.com  2017-04-17 05:27:27   \n",
              "1  www.yahoo.com  2017-10-07 04:31:25   \n",
              "2  www.yahoo.com  2017-02-15 15:22:55   \n",
              "3  www.yahoo.com  2017-04-17 22:55:18   \n",
              "4  www.yahoo.com  2017-01-02 00:00:00   \n",
              "\n",
              "                                               title  \\\n",
              "0    Cleveland Shooter Disowned By Family On Twitter   \n",
              "1  Weinstein Company launches probe into co-found...   \n",
              "2  Hilary Duff's Ex-Husband Mike Comrie Investiga...   \n",
              "3  At 117, Jamaican woman likely just became worl...   \n",
              "4  Mark Hamill's Carrie Fisher Tribute: \"Making H...   \n",
              "\n",
              "                                         description  \\\n",
              "0  Cleveland Police issued an aggravated murder w...   \n",
              "1  Movie company says it is taking claims “very s...   \n",
              "2  Former NHL star Mike Comrie — once married to ...   \n",
              "3  DUANVALE, Jamaica (AP) — Violet Brown spent mu...   \n",
              "4  \"She was a handful, but my life would have bee...   \n",
              "\n",
              "                                                text leaning-label  \n",
              "0  Donald Harvey, also dubbed as the 'Angel of De...  conservative  \n",
              "1  Movie company says it is taking claims “very s...  conservative  \n",
              "2  Former NHL star Mike Comrie — once married to ...  conservative  \n",
              "3  The world's oldest person Violet Brown, center...  conservative  \n",
              "4  (Photo: Albert L. Ortega/Gettyimages)\\nCarrie ...  conservative  "
            ],
            "text/html": [
              "\n",
              "  <div id=\"df-12c28b2d-4c3e-46e7-a258-2e6d08048eb5\" class=\"colab-df-container\">\n",
              "    <div>\n",
              "<style scoped>\n",
              "    .dataframe tbody tr th:only-of-type {\n",
              "        vertical-align: middle;\n",
              "    }\n",
              "\n",
              "    .dataframe tbody tr th {\n",
              "        vertical-align: top;\n",
              "    }\n",
              "\n",
              "    .dataframe thead th {\n",
              "        text-align: right;\n",
              "    }\n",
              "</style>\n",
              "<table border=\"1\" class=\"dataframe\">\n",
              "  <thead>\n",
              "    <tr style=\"text-align: right;\">\n",
              "      <th></th>\n",
              "      <th>domain</th>\n",
              "      <th>date</th>\n",
              "      <th>title</th>\n",
              "      <th>description</th>\n",
              "      <th>text</th>\n",
              "      <th>leaning-label</th>\n",
              "    </tr>\n",
              "  </thead>\n",
              "  <tbody>\n",
              "    <tr>\n",
              "      <th>0</th>\n",
              "      <td>www.yahoo.com</td>\n",
              "      <td>2017-04-17 05:27:27</td>\n",
              "      <td>Cleveland Shooter Disowned By Family On Twitter</td>\n",
              "      <td>Cleveland Police issued an aggravated murder w...</td>\n",
              "      <td>Donald Harvey, also dubbed as the 'Angel of De...</td>\n",
              "      <td>conservative</td>\n",
              "    </tr>\n",
              "    <tr>\n",
              "      <th>1</th>\n",
              "      <td>www.yahoo.com</td>\n",
              "      <td>2017-10-07 04:31:25</td>\n",
              "      <td>Weinstein Company launches probe into co-found...</td>\n",
              "      <td>Movie company says it is taking claims “very s...</td>\n",
              "      <td>Movie company says it is taking claims “very s...</td>\n",
              "      <td>conservative</td>\n",
              "    </tr>\n",
              "    <tr>\n",
              "      <th>2</th>\n",
              "      <td>www.yahoo.com</td>\n",
              "      <td>2017-02-15 15:22:55</td>\n",
              "      <td>Hilary Duff's Ex-Husband Mike Comrie Investiga...</td>\n",
              "      <td>Former NHL star Mike Comrie — once married to ...</td>\n",
              "      <td>Former NHL star Mike Comrie — once married to ...</td>\n",
              "      <td>conservative</td>\n",
              "    </tr>\n",
              "    <tr>\n",
              "      <th>3</th>\n",
              "      <td>www.yahoo.com</td>\n",
              "      <td>2017-04-17 22:55:18</td>\n",
              "      <td>At 117, Jamaican woman likely just became worl...</td>\n",
              "      <td>DUANVALE, Jamaica (AP) — Violet Brown spent mu...</td>\n",
              "      <td>The world's oldest person Violet Brown, center...</td>\n",
              "      <td>conservative</td>\n",
              "    </tr>\n",
              "    <tr>\n",
              "      <th>4</th>\n",
              "      <td>www.yahoo.com</td>\n",
              "      <td>2017-01-02 00:00:00</td>\n",
              "      <td>Mark Hamill's Carrie Fisher Tribute: \"Making H...</td>\n",
              "      <td>\"She was a handful, but my life would have bee...</td>\n",
              "      <td>(Photo: Albert L. Ortega/Gettyimages)\\nCarrie ...</td>\n",
              "      <td>conservative</td>\n",
              "    </tr>\n",
              "  </tbody>\n",
              "</table>\n",
              "</div>\n",
              "    <div class=\"colab-df-buttons\">\n",
              "\n",
              "  <div class=\"colab-df-container\">\n",
              "    <button class=\"colab-df-convert\" onclick=\"convertToInteractive('df-12c28b2d-4c3e-46e7-a258-2e6d08048eb5')\"\n",
              "            title=\"Convert this dataframe to an interactive table.\"\n",
              "            style=\"display:none;\">\n",
              "\n",
              "  <svg xmlns=\"http://www.w3.org/2000/svg\" height=\"24px\" viewBox=\"0 -960 960 960\">\n",
              "    <path d=\"M120-120v-720h720v720H120Zm60-500h600v-160H180v160Zm220 220h160v-160H400v160Zm0 220h160v-160H400v160ZM180-400h160v-160H180v160Zm440 0h160v-160H620v160ZM180-180h160v-160H180v160Zm440 0h160v-160H620v160Z\"/>\n",
              "  </svg>\n",
              "    </button>\n",
              "\n",
              "  <style>\n",
              "    .colab-df-container {\n",
              "      display:flex;\n",
              "      gap: 12px;\n",
              "    }\n",
              "\n",
              "    .colab-df-convert {\n",
              "      background-color: #E8F0FE;\n",
              "      border: none;\n",
              "      border-radius: 50%;\n",
              "      cursor: pointer;\n",
              "      display: none;\n",
              "      fill: #1967D2;\n",
              "      height: 32px;\n",
              "      padding: 0 0 0 0;\n",
              "      width: 32px;\n",
              "    }\n",
              "\n",
              "    .colab-df-convert:hover {\n",
              "      background-color: #E2EBFA;\n",
              "      box-shadow: 0px 1px 2px rgba(60, 64, 67, 0.3), 0px 1px 3px 1px rgba(60, 64, 67, 0.15);\n",
              "      fill: #174EA6;\n",
              "    }\n",
              "\n",
              "    .colab-df-buttons div {\n",
              "      margin-bottom: 4px;\n",
              "    }\n",
              "\n",
              "    [theme=dark] .colab-df-convert {\n",
              "      background-color: #3B4455;\n",
              "      fill: #D2E3FC;\n",
              "    }\n",
              "\n",
              "    [theme=dark] .colab-df-convert:hover {\n",
              "      background-color: #434B5C;\n",
              "      box-shadow: 0px 1px 3px 1px rgba(0, 0, 0, 0.15);\n",
              "      filter: drop-shadow(0px 1px 2px rgba(0, 0, 0, 0.3));\n",
              "      fill: #FFFFFF;\n",
              "    }\n",
              "  </style>\n",
              "\n",
              "    <script>\n",
              "      const buttonEl =\n",
              "        document.querySelector('#df-12c28b2d-4c3e-46e7-a258-2e6d08048eb5 button.colab-df-convert');\n",
              "      buttonEl.style.display =\n",
              "        google.colab.kernel.accessAllowed ? 'block' : 'none';\n",
              "\n",
              "      async function convertToInteractive(key) {\n",
              "        const element = document.querySelector('#df-12c28b2d-4c3e-46e7-a258-2e6d08048eb5');\n",
              "        const dataTable =\n",
              "          await google.colab.kernel.invokeFunction('convertToInteractive',\n",
              "                                                    [key], {});\n",
              "        if (!dataTable) return;\n",
              "\n",
              "        const docLinkHtml = 'Like what you see? Visit the ' +\n",
              "          '<a target=\"_blank\" href=https://colab.research.google.com/notebooks/data_table.ipynb>data table notebook</a>'\n",
              "          + ' to learn more about interactive tables.';\n",
              "        element.innerHTML = '';\n",
              "        dataTable['output_type'] = 'display_data';\n",
              "        await google.colab.output.renderOutput(dataTable, element);\n",
              "        const docLink = document.createElement('div');\n",
              "        docLink.innerHTML = docLinkHtml;\n",
              "        element.appendChild(docLink);\n",
              "      }\n",
              "    </script>\n",
              "  </div>\n",
              "\n",
              "\n",
              "<div id=\"df-c1f4bd4d-e5eb-491d-b443-ac58adc5445a\">\n",
              "  <button class=\"colab-df-quickchart\" onclick=\"quickchart('df-c1f4bd4d-e5eb-491d-b443-ac58adc5445a')\"\n",
              "            title=\"Suggest charts\"\n",
              "            style=\"display:none;\">\n",
              "\n",
              "<svg xmlns=\"http://www.w3.org/2000/svg\" height=\"24px\"viewBox=\"0 0 24 24\"\n",
              "     width=\"24px\">\n",
              "    <g>\n",
              "        <path d=\"M19 3H5c-1.1 0-2 .9-2 2v14c0 1.1.9 2 2 2h14c1.1 0 2-.9 2-2V5c0-1.1-.9-2-2-2zM9 17H7v-7h2v7zm4 0h-2V7h2v10zm4 0h-2v-4h2v4z\"/>\n",
              "    </g>\n",
              "</svg>\n",
              "  </button>\n",
              "\n",
              "<style>\n",
              "  .colab-df-quickchart {\n",
              "      --bg-color: #E8F0FE;\n",
              "      --fill-color: #1967D2;\n",
              "      --hover-bg-color: #E2EBFA;\n",
              "      --hover-fill-color: #174EA6;\n",
              "      --disabled-fill-color: #AAA;\n",
              "      --disabled-bg-color: #DDD;\n",
              "  }\n",
              "\n",
              "  [theme=dark] .colab-df-quickchart {\n",
              "      --bg-color: #3B4455;\n",
              "      --fill-color: #D2E3FC;\n",
              "      --hover-bg-color: #434B5C;\n",
              "      --hover-fill-color: #FFFFFF;\n",
              "      --disabled-bg-color: #3B4455;\n",
              "      --disabled-fill-color: #666;\n",
              "  }\n",
              "\n",
              "  .colab-df-quickchart {\n",
              "    background-color: var(--bg-color);\n",
              "    border: none;\n",
              "    border-radius: 50%;\n",
              "    cursor: pointer;\n",
              "    display: none;\n",
              "    fill: var(--fill-color);\n",
              "    height: 32px;\n",
              "    padding: 0;\n",
              "    width: 32px;\n",
              "  }\n",
              "\n",
              "  .colab-df-quickchart:hover {\n",
              "    background-color: var(--hover-bg-color);\n",
              "    box-shadow: 0 1px 2px rgba(60, 64, 67, 0.3), 0 1px 3px 1px rgba(60, 64, 67, 0.15);\n",
              "    fill: var(--button-hover-fill-color);\n",
              "  }\n",
              "\n",
              "  .colab-df-quickchart-complete:disabled,\n",
              "  .colab-df-quickchart-complete:disabled:hover {\n",
              "    background-color: var(--disabled-bg-color);\n",
              "    fill: var(--disabled-fill-color);\n",
              "    box-shadow: none;\n",
              "  }\n",
              "\n",
              "  .colab-df-spinner {\n",
              "    border: 2px solid var(--fill-color);\n",
              "    border-color: transparent;\n",
              "    border-bottom-color: var(--fill-color);\n",
              "    animation:\n",
              "      spin 1s steps(1) infinite;\n",
              "  }\n",
              "\n",
              "  @keyframes spin {\n",
              "    0% {\n",
              "      border-color: transparent;\n",
              "      border-bottom-color: var(--fill-color);\n",
              "      border-left-color: var(--fill-color);\n",
              "    }\n",
              "    20% {\n",
              "      border-color: transparent;\n",
              "      border-left-color: var(--fill-color);\n",
              "      border-top-color: var(--fill-color);\n",
              "    }\n",
              "    30% {\n",
              "      border-color: transparent;\n",
              "      border-left-color: var(--fill-color);\n",
              "      border-top-color: var(--fill-color);\n",
              "      border-right-color: var(--fill-color);\n",
              "    }\n",
              "    40% {\n",
              "      border-color: transparent;\n",
              "      border-right-color: var(--fill-color);\n",
              "      border-top-color: var(--fill-color);\n",
              "    }\n",
              "    60% {\n",
              "      border-color: transparent;\n",
              "      border-right-color: var(--fill-color);\n",
              "    }\n",
              "    80% {\n",
              "      border-color: transparent;\n",
              "      border-right-color: var(--fill-color);\n",
              "      border-bottom-color: var(--fill-color);\n",
              "    }\n",
              "    90% {\n",
              "      border-color: transparent;\n",
              "      border-bottom-color: var(--fill-color);\n",
              "    }\n",
              "  }\n",
              "</style>\n",
              "\n",
              "  <script>\n",
              "    async function quickchart(key) {\n",
              "      const quickchartButtonEl =\n",
              "        document.querySelector('#' + key + ' button');\n",
              "      quickchartButtonEl.disabled = true;  // To prevent multiple clicks.\n",
              "      quickchartButtonEl.classList.add('colab-df-spinner');\n",
              "      try {\n",
              "        const charts = await google.colab.kernel.invokeFunction(\n",
              "            'suggestCharts', [key], {});\n",
              "      } catch (error) {\n",
              "        console.error('Error during call to suggestCharts:', error);\n",
              "      }\n",
              "      quickchartButtonEl.classList.remove('colab-df-spinner');\n",
              "      quickchartButtonEl.classList.add('colab-df-quickchart-complete');\n",
              "    }\n",
              "    (() => {\n",
              "      let quickchartButtonEl =\n",
              "        document.querySelector('#df-c1f4bd4d-e5eb-491d-b443-ac58adc5445a button');\n",
              "      quickchartButtonEl.style.display =\n",
              "        google.colab.kernel.accessAllowed ? 'block' : 'none';\n",
              "    })();\n",
              "  </script>\n",
              "</div>\n",
              "    </div>\n",
              "  </div>\n"
            ]
          },
          "metadata": {},
          "execution_count": 10
        }
      ]
    },
    {
      "cell_type": "code",
      "source": [
        "news_features.count()"
      ],
      "metadata": {
        "colab": {
          "base_uri": "https://localhost:8080/"
        },
        "id": "EItYUEjhl3Zd",
        "outputId": "29203d1d-0902-4464-9d7f-3b40073acc09"
      },
      "execution_count": null,
      "outputs": [
        {
          "output_type": "execute_result",
          "data": {
            "text/plain": [
              "domain           10555\n",
              "date             10545\n",
              "title            10555\n",
              "description      10471\n",
              "text             10555\n",
              "leaning-label    10555\n",
              "dtype: int64"
            ]
          },
          "metadata": {},
          "execution_count": 11
        }
      ]
    },
    {
      "cell_type": "code",
      "source": [
        "# Nice!"
      ],
      "metadata": {
        "id": "hWwezv_Kl9Do"
      },
      "execution_count": null,
      "outputs": []
    },
    {
      "cell_type": "markdown",
      "source": [
        "Now we want to make sure we have a numerical leaning label for each text label. A numerical representation is easier to use when calculating our results.\n",
        "\n",
        "Reference: https://stackoverflow.com/questions/70047812/label-assignment-from-lookup-dictionary-keys-and-value-in-python"
      ],
      "metadata": {
        "id": "CFjvLWhnVjIt"
      }
    },
    {
      "cell_type": "code",
      "source": [
        "# Add new column\n",
        "label_key = {'moderate':0, 'conservative':1, 'liberal':2}\n",
        "news_features['numerical-label'] = news_features['leaning-label'].map(label_key)\n"
      ],
      "metadata": {
        "colab": {
          "base_uri": "https://localhost:8080/"
        },
        "id": "0zf8bbF2VrhZ",
        "outputId": "70858d77-eeb4-47e1-b3d9-4acb95e1e292"
      },
      "execution_count": null,
      "outputs": [
        {
          "output_type": "stream",
          "name": "stderr",
          "text": [
            "<ipython-input-13-fede08e92649>:3: SettingWithCopyWarning: \n",
            "A value is trying to be set on a copy of a slice from a DataFrame.\n",
            "Try using .loc[row_indexer,col_indexer] = value instead\n",
            "\n",
            "See the caveats in the documentation: https://pandas.pydata.org/pandas-docs/stable/user_guide/indexing.html#returning-a-view-versus-a-copy\n",
            "  news_features['numerical-label'] = news_features['leaning-label'].map(label_key)\n"
          ]
        }
      ]
    },
    {
      "cell_type": "markdown",
      "source": [
        "Check some examples, as well as data.head()."
      ],
      "metadata": {
        "id": "YtaEzVz-vWYI"
      }
    },
    {
      "cell_type": "code",
      "source": [
        "news_features.iloc[1342]"
      ],
      "metadata": {
        "colab": {
          "base_uri": "https://localhost:8080/"
        },
        "id": "C1DrsOkBbjtG",
        "outputId": "2c68d1ab-f2bc-4eaf-c52e-0b5bb6263317"
      },
      "execution_count": null,
      "outputs": [
        {
          "output_type": "execute_result",
          "data": {
            "text/plain": [
              "domain                                                   www.bbc.com\n",
              "date                                             2018-04-24 17:30:44\n",
              "title                    Toronto van attack: Moment suspect arrested\n",
              "description        Alek Minassia pleaded \"kill me\" and claimed to...\n",
              "text               Video\\nA man suspected of killing 10 people an...\n",
              "leaning-label                                               moderate\n",
              "numerical-label                                                    0\n",
              "Name: 1342, dtype: object"
            ]
          },
          "metadata": {},
          "execution_count": 14
        }
      ]
    },
    {
      "cell_type": "code",
      "source": [
        "news_features.head()"
      ],
      "metadata": {
        "colab": {
          "base_uri": "https://localhost:8080/",
          "height": 659
        },
        "id": "79p_QXSIbxAw",
        "outputId": "f7659176-2ebe-4bb1-e618-788641361119"
      },
      "execution_count": null,
      "outputs": [
        {
          "output_type": "execute_result",
          "data": {
            "text/plain": [
              "          domain                 date  \\\n",
              "0  www.yahoo.com  2017-04-17 05:27:27   \n",
              "1  www.yahoo.com  2017-10-07 04:31:25   \n",
              "2  www.yahoo.com  2017-02-15 15:22:55   \n",
              "3  www.yahoo.com  2017-04-17 22:55:18   \n",
              "4  www.yahoo.com  2017-01-02 00:00:00   \n",
              "\n",
              "                                               title  \\\n",
              "0    Cleveland Shooter Disowned By Family On Twitter   \n",
              "1  Weinstein Company launches probe into co-found...   \n",
              "2  Hilary Duff's Ex-Husband Mike Comrie Investiga...   \n",
              "3  At 117, Jamaican woman likely just became worl...   \n",
              "4  Mark Hamill's Carrie Fisher Tribute: \"Making H...   \n",
              "\n",
              "                                         description  \\\n",
              "0  Cleveland Police issued an aggravated murder w...   \n",
              "1  Movie company says it is taking claims “very s...   \n",
              "2  Former NHL star Mike Comrie — once married to ...   \n",
              "3  DUANVALE, Jamaica (AP) — Violet Brown spent mu...   \n",
              "4  \"She was a handful, but my life would have bee...   \n",
              "\n",
              "                                                text leaning-label  \\\n",
              "0  Donald Harvey, also dubbed as the 'Angel of De...  conservative   \n",
              "1  Movie company says it is taking claims “very s...  conservative   \n",
              "2  Former NHL star Mike Comrie — once married to ...  conservative   \n",
              "3  The world's oldest person Violet Brown, center...  conservative   \n",
              "4  (Photo: Albert L. Ortega/Gettyimages)\\nCarrie ...  conservative   \n",
              "\n",
              "   numerical-label  \n",
              "0                1  \n",
              "1                1  \n",
              "2                1  \n",
              "3                1  \n",
              "4                1  "
            ],
            "text/html": [
              "\n",
              "  <div id=\"df-0f86900d-005d-4c31-9655-558015444b48\" class=\"colab-df-container\">\n",
              "    <div>\n",
              "<style scoped>\n",
              "    .dataframe tbody tr th:only-of-type {\n",
              "        vertical-align: middle;\n",
              "    }\n",
              "\n",
              "    .dataframe tbody tr th {\n",
              "        vertical-align: top;\n",
              "    }\n",
              "\n",
              "    .dataframe thead th {\n",
              "        text-align: right;\n",
              "    }\n",
              "</style>\n",
              "<table border=\"1\" class=\"dataframe\">\n",
              "  <thead>\n",
              "    <tr style=\"text-align: right;\">\n",
              "      <th></th>\n",
              "      <th>domain</th>\n",
              "      <th>date</th>\n",
              "      <th>title</th>\n",
              "      <th>description</th>\n",
              "      <th>text</th>\n",
              "      <th>leaning-label</th>\n",
              "      <th>numerical-label</th>\n",
              "    </tr>\n",
              "  </thead>\n",
              "  <tbody>\n",
              "    <tr>\n",
              "      <th>0</th>\n",
              "      <td>www.yahoo.com</td>\n",
              "      <td>2017-04-17 05:27:27</td>\n",
              "      <td>Cleveland Shooter Disowned By Family On Twitter</td>\n",
              "      <td>Cleveland Police issued an aggravated murder w...</td>\n",
              "      <td>Donald Harvey, also dubbed as the 'Angel of De...</td>\n",
              "      <td>conservative</td>\n",
              "      <td>1</td>\n",
              "    </tr>\n",
              "    <tr>\n",
              "      <th>1</th>\n",
              "      <td>www.yahoo.com</td>\n",
              "      <td>2017-10-07 04:31:25</td>\n",
              "      <td>Weinstein Company launches probe into co-found...</td>\n",
              "      <td>Movie company says it is taking claims “very s...</td>\n",
              "      <td>Movie company says it is taking claims “very s...</td>\n",
              "      <td>conservative</td>\n",
              "      <td>1</td>\n",
              "    </tr>\n",
              "    <tr>\n",
              "      <th>2</th>\n",
              "      <td>www.yahoo.com</td>\n",
              "      <td>2017-02-15 15:22:55</td>\n",
              "      <td>Hilary Duff's Ex-Husband Mike Comrie Investiga...</td>\n",
              "      <td>Former NHL star Mike Comrie — once married to ...</td>\n",
              "      <td>Former NHL star Mike Comrie — once married to ...</td>\n",
              "      <td>conservative</td>\n",
              "      <td>1</td>\n",
              "    </tr>\n",
              "    <tr>\n",
              "      <th>3</th>\n",
              "      <td>www.yahoo.com</td>\n",
              "      <td>2017-04-17 22:55:18</td>\n",
              "      <td>At 117, Jamaican woman likely just became worl...</td>\n",
              "      <td>DUANVALE, Jamaica (AP) — Violet Brown spent mu...</td>\n",
              "      <td>The world's oldest person Violet Brown, center...</td>\n",
              "      <td>conservative</td>\n",
              "      <td>1</td>\n",
              "    </tr>\n",
              "    <tr>\n",
              "      <th>4</th>\n",
              "      <td>www.yahoo.com</td>\n",
              "      <td>2017-01-02 00:00:00</td>\n",
              "      <td>Mark Hamill's Carrie Fisher Tribute: \"Making H...</td>\n",
              "      <td>\"She was a handful, but my life would have bee...</td>\n",
              "      <td>(Photo: Albert L. Ortega/Gettyimages)\\nCarrie ...</td>\n",
              "      <td>conservative</td>\n",
              "      <td>1</td>\n",
              "    </tr>\n",
              "  </tbody>\n",
              "</table>\n",
              "</div>\n",
              "    <div class=\"colab-df-buttons\">\n",
              "\n",
              "  <div class=\"colab-df-container\">\n",
              "    <button class=\"colab-df-convert\" onclick=\"convertToInteractive('df-0f86900d-005d-4c31-9655-558015444b48')\"\n",
              "            title=\"Convert this dataframe to an interactive table.\"\n",
              "            style=\"display:none;\">\n",
              "\n",
              "  <svg xmlns=\"http://www.w3.org/2000/svg\" height=\"24px\" viewBox=\"0 -960 960 960\">\n",
              "    <path d=\"M120-120v-720h720v720H120Zm60-500h600v-160H180v160Zm220 220h160v-160H400v160Zm0 220h160v-160H400v160ZM180-400h160v-160H180v160Zm440 0h160v-160H620v160ZM180-180h160v-160H180v160Zm440 0h160v-160H620v160Z\"/>\n",
              "  </svg>\n",
              "    </button>\n",
              "\n",
              "  <style>\n",
              "    .colab-df-container {\n",
              "      display:flex;\n",
              "      gap: 12px;\n",
              "    }\n",
              "\n",
              "    .colab-df-convert {\n",
              "      background-color: #E8F0FE;\n",
              "      border: none;\n",
              "      border-radius: 50%;\n",
              "      cursor: pointer;\n",
              "      display: none;\n",
              "      fill: #1967D2;\n",
              "      height: 32px;\n",
              "      padding: 0 0 0 0;\n",
              "      width: 32px;\n",
              "    }\n",
              "\n",
              "    .colab-df-convert:hover {\n",
              "      background-color: #E2EBFA;\n",
              "      box-shadow: 0px 1px 2px rgba(60, 64, 67, 0.3), 0px 1px 3px 1px rgba(60, 64, 67, 0.15);\n",
              "      fill: #174EA6;\n",
              "    }\n",
              "\n",
              "    .colab-df-buttons div {\n",
              "      margin-bottom: 4px;\n",
              "    }\n",
              "\n",
              "    [theme=dark] .colab-df-convert {\n",
              "      background-color: #3B4455;\n",
              "      fill: #D2E3FC;\n",
              "    }\n",
              "\n",
              "    [theme=dark] .colab-df-convert:hover {\n",
              "      background-color: #434B5C;\n",
              "      box-shadow: 0px 1px 3px 1px rgba(0, 0, 0, 0.15);\n",
              "      filter: drop-shadow(0px 1px 2px rgba(0, 0, 0, 0.3));\n",
              "      fill: #FFFFFF;\n",
              "    }\n",
              "  </style>\n",
              "\n",
              "    <script>\n",
              "      const buttonEl =\n",
              "        document.querySelector('#df-0f86900d-005d-4c31-9655-558015444b48 button.colab-df-convert');\n",
              "      buttonEl.style.display =\n",
              "        google.colab.kernel.accessAllowed ? 'block' : 'none';\n",
              "\n",
              "      async function convertToInteractive(key) {\n",
              "        const element = document.querySelector('#df-0f86900d-005d-4c31-9655-558015444b48');\n",
              "        const dataTable =\n",
              "          await google.colab.kernel.invokeFunction('convertToInteractive',\n",
              "                                                    [key], {});\n",
              "        if (!dataTable) return;\n",
              "\n",
              "        const docLinkHtml = 'Like what you see? Visit the ' +\n",
              "          '<a target=\"_blank\" href=https://colab.research.google.com/notebooks/data_table.ipynb>data table notebook</a>'\n",
              "          + ' to learn more about interactive tables.';\n",
              "        element.innerHTML = '';\n",
              "        dataTable['output_type'] = 'display_data';\n",
              "        await google.colab.output.renderOutput(dataTable, element);\n",
              "        const docLink = document.createElement('div');\n",
              "        docLink.innerHTML = docLinkHtml;\n",
              "        element.appendChild(docLink);\n",
              "      }\n",
              "    </script>\n",
              "  </div>\n",
              "\n",
              "\n",
              "<div id=\"df-c5794a7d-736a-4abc-bc7e-d37327cb5786\">\n",
              "  <button class=\"colab-df-quickchart\" onclick=\"quickchart('df-c5794a7d-736a-4abc-bc7e-d37327cb5786')\"\n",
              "            title=\"Suggest charts\"\n",
              "            style=\"display:none;\">\n",
              "\n",
              "<svg xmlns=\"http://www.w3.org/2000/svg\" height=\"24px\"viewBox=\"0 0 24 24\"\n",
              "     width=\"24px\">\n",
              "    <g>\n",
              "        <path d=\"M19 3H5c-1.1 0-2 .9-2 2v14c0 1.1.9 2 2 2h14c1.1 0 2-.9 2-2V5c0-1.1-.9-2-2-2zM9 17H7v-7h2v7zm4 0h-2V7h2v10zm4 0h-2v-4h2v4z\"/>\n",
              "    </g>\n",
              "</svg>\n",
              "  </button>\n",
              "\n",
              "<style>\n",
              "  .colab-df-quickchart {\n",
              "      --bg-color: #E8F0FE;\n",
              "      --fill-color: #1967D2;\n",
              "      --hover-bg-color: #E2EBFA;\n",
              "      --hover-fill-color: #174EA6;\n",
              "      --disabled-fill-color: #AAA;\n",
              "      --disabled-bg-color: #DDD;\n",
              "  }\n",
              "\n",
              "  [theme=dark] .colab-df-quickchart {\n",
              "      --bg-color: #3B4455;\n",
              "      --fill-color: #D2E3FC;\n",
              "      --hover-bg-color: #434B5C;\n",
              "      --hover-fill-color: #FFFFFF;\n",
              "      --disabled-bg-color: #3B4455;\n",
              "      --disabled-fill-color: #666;\n",
              "  }\n",
              "\n",
              "  .colab-df-quickchart {\n",
              "    background-color: var(--bg-color);\n",
              "    border: none;\n",
              "    border-radius: 50%;\n",
              "    cursor: pointer;\n",
              "    display: none;\n",
              "    fill: var(--fill-color);\n",
              "    height: 32px;\n",
              "    padding: 0;\n",
              "    width: 32px;\n",
              "  }\n",
              "\n",
              "  .colab-df-quickchart:hover {\n",
              "    background-color: var(--hover-bg-color);\n",
              "    box-shadow: 0 1px 2px rgba(60, 64, 67, 0.3), 0 1px 3px 1px rgba(60, 64, 67, 0.15);\n",
              "    fill: var(--button-hover-fill-color);\n",
              "  }\n",
              "\n",
              "  .colab-df-quickchart-complete:disabled,\n",
              "  .colab-df-quickchart-complete:disabled:hover {\n",
              "    background-color: var(--disabled-bg-color);\n",
              "    fill: var(--disabled-fill-color);\n",
              "    box-shadow: none;\n",
              "  }\n",
              "\n",
              "  .colab-df-spinner {\n",
              "    border: 2px solid var(--fill-color);\n",
              "    border-color: transparent;\n",
              "    border-bottom-color: var(--fill-color);\n",
              "    animation:\n",
              "      spin 1s steps(1) infinite;\n",
              "  }\n",
              "\n",
              "  @keyframes spin {\n",
              "    0% {\n",
              "      border-color: transparent;\n",
              "      border-bottom-color: var(--fill-color);\n",
              "      border-left-color: var(--fill-color);\n",
              "    }\n",
              "    20% {\n",
              "      border-color: transparent;\n",
              "      border-left-color: var(--fill-color);\n",
              "      border-top-color: var(--fill-color);\n",
              "    }\n",
              "    30% {\n",
              "      border-color: transparent;\n",
              "      border-left-color: var(--fill-color);\n",
              "      border-top-color: var(--fill-color);\n",
              "      border-right-color: var(--fill-color);\n",
              "    }\n",
              "    40% {\n",
              "      border-color: transparent;\n",
              "      border-right-color: var(--fill-color);\n",
              "      border-top-color: var(--fill-color);\n",
              "    }\n",
              "    60% {\n",
              "      border-color: transparent;\n",
              "      border-right-color: var(--fill-color);\n",
              "    }\n",
              "    80% {\n",
              "      border-color: transparent;\n",
              "      border-right-color: var(--fill-color);\n",
              "      border-bottom-color: var(--fill-color);\n",
              "    }\n",
              "    90% {\n",
              "      border-color: transparent;\n",
              "      border-bottom-color: var(--fill-color);\n",
              "    }\n",
              "  }\n",
              "</style>\n",
              "\n",
              "  <script>\n",
              "    async function quickchart(key) {\n",
              "      const quickchartButtonEl =\n",
              "        document.querySelector('#' + key + ' button');\n",
              "      quickchartButtonEl.disabled = true;  // To prevent multiple clicks.\n",
              "      quickchartButtonEl.classList.add('colab-df-spinner');\n",
              "      try {\n",
              "        const charts = await google.colab.kernel.invokeFunction(\n",
              "            'suggestCharts', [key], {});\n",
              "      } catch (error) {\n",
              "        console.error('Error during call to suggestCharts:', error);\n",
              "      }\n",
              "      quickchartButtonEl.classList.remove('colab-df-spinner');\n",
              "      quickchartButtonEl.classList.add('colab-df-quickchart-complete');\n",
              "    }\n",
              "    (() => {\n",
              "      let quickchartButtonEl =\n",
              "        document.querySelector('#df-c5794a7d-736a-4abc-bc7e-d37327cb5786 button');\n",
              "      quickchartButtonEl.style.display =\n",
              "        google.colab.kernel.accessAllowed ? 'block' : 'none';\n",
              "    })();\n",
              "  </script>\n",
              "</div>\n",
              "    </div>\n",
              "  </div>\n"
            ]
          },
          "metadata": {},
          "execution_count": 15
        }
      ]
    },
    {
      "cell_type": "markdown",
      "source": [
        "## 2. Preprocessing for features: BoW, N-Gram, TF-IDF, GloVE"
      ],
      "metadata": {
        "id": "FZweWakbZ1l4"
      }
    },
    {
      "cell_type": "markdown",
      "source": [
        "Now, we need to featurize our data so we can feed it into our classifier during training. We are going to do three main features--Bag of Words, N-Gram, TF-IDF, and GloVe. Featurizing requires some basic preprocessing."
      ],
      "metadata": {
        "id": "3sD1FE6FvZct"
      }
    },
    {
      "cell_type": "markdown",
      "source": [
        "List of features and the affiliated preprocessing steps:\n",
        "- BoW, N-Gram, TF-IDF:  \n",
        "  - Clean and remove URLs, hashtags, etc.\n",
        "  - Tokenize\n",
        "  - Remove stop words\n",
        "  - Lemmatize\n",
        "- GloVe\n"
      ],
      "metadata": {
        "id": "zmMsFaX9Wfuj"
      }
    },
    {
      "cell_type": "markdown",
      "source": [
        "First, let's remove URLs, mentions, hashtags, non-English text, and other outlying formatting issues. We will use regular expressions that we also harnassed in Assignment 3."
      ],
      "metadata": {
        "id": "KESPgQyEvlV9"
      }
    },
    {
      "cell_type": "code",
      "source": [
        "# From assignment 3\n",
        "\n",
        "import re # Import regular expressions\n",
        "\n",
        "# URLs (has http:// or www.)\n",
        "# url_pattern = r'https?://\\S+|www\\.\\S+' #Failed attempt\n",
        "url_pattern = r'(https:\\/\\/|www.)[\\S]+' # matches https:// or www. through any nonspace character\n",
        "news_features['text-processed'] = news_features['text'].str.replace(url_pattern, \"\")"
      ],
      "metadata": {
        "colab": {
          "base_uri": "https://localhost:8080/"
        },
        "id": "9fsnxe_kl-G7",
        "outputId": "e3a5512f-201a-40a4-cc06-8f0830033082"
      },
      "execution_count": null,
      "outputs": [
        {
          "output_type": "stream",
          "name": "stderr",
          "text": [
            "<ipython-input-16-47dd59a9f3d8>:8: FutureWarning: The default value of regex will change from True to False in a future version.\n",
            "  news_features['text-processed'] = news_features['text'].str.replace(url_pattern, \"\")\n"
          ]
        }
      ]
    },
    {
      "cell_type": "code",
      "source": [
        "# Mentions (has the @ symbol)\n",
        "mention_pattern = r'@[\\S]+' # matches anything following an @ symbol\n",
        "news_features['text-processed'] = news_features['text-processed'].str.replace(mention_pattern, \"\")"
      ],
      "metadata": {
        "colab": {
          "base_uri": "https://localhost:8080/"
        },
        "id": "3ghr8p_ocPmh",
        "outputId": "4a04883b-b343-40e7-9ccc-f68a67cb5841"
      },
      "execution_count": null,
      "outputs": [
        {
          "output_type": "stream",
          "name": "stderr",
          "text": [
            "<ipython-input-17-06af5017597f>:3: FutureWarning: The default value of regex will change from True to False in a future version.\n",
            "  news_features['text-processed'] = news_features['text-processed'].str.replace(mention_pattern, \"\")\n"
          ]
        }
      ]
    },
    {
      "cell_type": "code",
      "source": [
        "# Hashtags\n",
        "hashtag_pattern = r'#[\\S]+' # matches anything following a # symbol\n",
        "news_features['text-processed'] = news_features['text-processed'].str.replace(hashtag_pattern, \"\")"
      ],
      "metadata": {
        "colab": {
          "base_uri": "https://localhost:8080/"
        },
        "id": "3NluDj7TcSBt",
        "outputId": "a11cd515-901b-4923-b78b-23d95cc0607f"
      },
      "execution_count": null,
      "outputs": [
        {
          "output_type": "stream",
          "name": "stderr",
          "text": [
            "<ipython-input-18-cc5058b453f2>:3: FutureWarning: The default value of regex will change from True to False in a future version.\n",
            "  news_features['text-processed'] = news_features['text-processed'].str.replace(hashtag_pattern, \"\")\n"
          ]
        }
      ]
    },
    {
      "cell_type": "code",
      "source": [
        "# Non-English text - characters languages\n",
        "not_roman = r\"[^a-zA-Z'\\s]\" # defines anything that is not alphanumeric text or spaces\n",
        "news_features['text-processed'] = news_features['text-processed'].str.replace(not_roman, \" \")"
      ],
      "metadata": {
        "colab": {
          "base_uri": "https://localhost:8080/"
        },
        "id": "-o3aTS-rcXjY",
        "outputId": "06c653af-2b9f-4552-fbe2-627f76f35ad8"
      },
      "execution_count": null,
      "outputs": [
        {
          "output_type": "stream",
          "name": "stderr",
          "text": [
            "<ipython-input-19-ae960c9c35f6>:3: FutureWarning: The default value of regex will change from True to False in a future version.\n",
            "  news_features['text-processed'] = news_features['text-processed'].str.replace(not_roman, \" \")\n"
          ]
        }
      ]
    },
    {
      "cell_type": "code",
      "source": [
        "# # Remove numbers\n",
        "# numbers = r'\\d'\n",
        "# news_features['text-processed'] = news_features['text-processed'].str.replace(numbers, \"\")"
      ],
      "metadata": {
        "id": "-0X6Fd6JcbLV"
      },
      "execution_count": null,
      "outputs": []
    },
    {
      "cell_type": "code",
      "source": [
        "# Get rid of random hyphens\n",
        "hyphen = r'-'\n",
        "news_features['text-processed'] = news_features['text-processed'].str.replace(hyphen, \" \")"
      ],
      "metadata": {
        "id": "K7r6Q-gbcc1L"
      },
      "execution_count": null,
      "outputs": []
    },
    {
      "cell_type": "code",
      "source": [
        "# Make sure everything has only one space between it\n",
        "space = r'\\s\\s+' # selects anything that is more than one space, including line breaks\n",
        "news_features['text-processed'] = news_features['text-processed'].str.replace(space, \" \")"
      ],
      "metadata": {
        "colab": {
          "base_uri": "https://localhost:8080/"
        },
        "id": "f3cDRBkXceKh",
        "outputId": "98017260-0fc7-4ff0-8230-1e3512ca564a"
      },
      "execution_count": null,
      "outputs": [
        {
          "output_type": "stream",
          "name": "stderr",
          "text": [
            "<ipython-input-22-683f1d3ccf66>:3: FutureWarning: The default value of regex will change from True to False in a future version.\n",
            "  news_features['text-processed'] = news_features['text-processed'].str.replace(space, \" \")\n"
          ]
        }
      ]
    },
    {
      "cell_type": "markdown",
      "source": [
        "Let's check that it worked:"
      ],
      "metadata": {
        "id": "R0oV6k_yvuRP"
      }
    },
    {
      "cell_type": "code",
      "source": [
        "news_features.head()"
      ],
      "metadata": {
        "colab": {
          "base_uri": "https://localhost:8080/",
          "height": 677
        },
        "id": "d7rnOvlomuK_",
        "outputId": "8cfcb3ef-20c9-42af-fde5-801000fcf49b"
      },
      "execution_count": null,
      "outputs": [
        {
          "output_type": "execute_result",
          "data": {
            "text/plain": [
              "          domain                 date  \\\n",
              "0  www.yahoo.com  2017-04-17 05:27:27   \n",
              "1  www.yahoo.com  2017-10-07 04:31:25   \n",
              "2  www.yahoo.com  2017-02-15 15:22:55   \n",
              "3  www.yahoo.com  2017-04-17 22:55:18   \n",
              "4  www.yahoo.com  2017-01-02 00:00:00   \n",
              "\n",
              "                                               title  \\\n",
              "0    Cleveland Shooter Disowned By Family On Twitter   \n",
              "1  Weinstein Company launches probe into co-found...   \n",
              "2  Hilary Duff's Ex-Husband Mike Comrie Investiga...   \n",
              "3  At 117, Jamaican woman likely just became worl...   \n",
              "4  Mark Hamill's Carrie Fisher Tribute: \"Making H...   \n",
              "\n",
              "                                         description  \\\n",
              "0  Cleveland Police issued an aggravated murder w...   \n",
              "1  Movie company says it is taking claims “very s...   \n",
              "2  Former NHL star Mike Comrie — once married to ...   \n",
              "3  DUANVALE, Jamaica (AP) — Violet Brown spent mu...   \n",
              "4  \"She was a handful, but my life would have bee...   \n",
              "\n",
              "                                                text leaning-label  \\\n",
              "0  Donald Harvey, also dubbed as the 'Angel of De...  conservative   \n",
              "1  Movie company says it is taking claims “very s...  conservative   \n",
              "2  Former NHL star Mike Comrie — once married to ...  conservative   \n",
              "3  The world's oldest person Violet Brown, center...  conservative   \n",
              "4  (Photo: Albert L. Ortega/Gettyimages)\\nCarrie ...  conservative   \n",
              "\n",
              "   numerical-label                                     text-processed  \n",
              "0                1  Donald Harvey also dubbed as the 'Angel of Dea...  \n",
              "1                1  Movie company says it is taking claims very se...  \n",
              "2                1  Former NHL star Mike Comrie once married to Hi...  \n",
              "3                1  The world's oldest person Violet Brown center ...  \n",
              "4                1   Photo Albert L Ortega Gettyimages Carrie and ...  "
            ],
            "text/html": [
              "\n",
              "  <div id=\"df-230baf03-d20f-4b81-9131-d941be302185\" class=\"colab-df-container\">\n",
              "    <div>\n",
              "<style scoped>\n",
              "    .dataframe tbody tr th:only-of-type {\n",
              "        vertical-align: middle;\n",
              "    }\n",
              "\n",
              "    .dataframe tbody tr th {\n",
              "        vertical-align: top;\n",
              "    }\n",
              "\n",
              "    .dataframe thead th {\n",
              "        text-align: right;\n",
              "    }\n",
              "</style>\n",
              "<table border=\"1\" class=\"dataframe\">\n",
              "  <thead>\n",
              "    <tr style=\"text-align: right;\">\n",
              "      <th></th>\n",
              "      <th>domain</th>\n",
              "      <th>date</th>\n",
              "      <th>title</th>\n",
              "      <th>description</th>\n",
              "      <th>text</th>\n",
              "      <th>leaning-label</th>\n",
              "      <th>numerical-label</th>\n",
              "      <th>text-processed</th>\n",
              "    </tr>\n",
              "  </thead>\n",
              "  <tbody>\n",
              "    <tr>\n",
              "      <th>0</th>\n",
              "      <td>www.yahoo.com</td>\n",
              "      <td>2017-04-17 05:27:27</td>\n",
              "      <td>Cleveland Shooter Disowned By Family On Twitter</td>\n",
              "      <td>Cleveland Police issued an aggravated murder w...</td>\n",
              "      <td>Donald Harvey, also dubbed as the 'Angel of De...</td>\n",
              "      <td>conservative</td>\n",
              "      <td>1</td>\n",
              "      <td>Donald Harvey also dubbed as the 'Angel of Dea...</td>\n",
              "    </tr>\n",
              "    <tr>\n",
              "      <th>1</th>\n",
              "      <td>www.yahoo.com</td>\n",
              "      <td>2017-10-07 04:31:25</td>\n",
              "      <td>Weinstein Company launches probe into co-found...</td>\n",
              "      <td>Movie company says it is taking claims “very s...</td>\n",
              "      <td>Movie company says it is taking claims “very s...</td>\n",
              "      <td>conservative</td>\n",
              "      <td>1</td>\n",
              "      <td>Movie company says it is taking claims very se...</td>\n",
              "    </tr>\n",
              "    <tr>\n",
              "      <th>2</th>\n",
              "      <td>www.yahoo.com</td>\n",
              "      <td>2017-02-15 15:22:55</td>\n",
              "      <td>Hilary Duff's Ex-Husband Mike Comrie Investiga...</td>\n",
              "      <td>Former NHL star Mike Comrie — once married to ...</td>\n",
              "      <td>Former NHL star Mike Comrie — once married to ...</td>\n",
              "      <td>conservative</td>\n",
              "      <td>1</td>\n",
              "      <td>Former NHL star Mike Comrie once married to Hi...</td>\n",
              "    </tr>\n",
              "    <tr>\n",
              "      <th>3</th>\n",
              "      <td>www.yahoo.com</td>\n",
              "      <td>2017-04-17 22:55:18</td>\n",
              "      <td>At 117, Jamaican woman likely just became worl...</td>\n",
              "      <td>DUANVALE, Jamaica (AP) — Violet Brown spent mu...</td>\n",
              "      <td>The world's oldest person Violet Brown, center...</td>\n",
              "      <td>conservative</td>\n",
              "      <td>1</td>\n",
              "      <td>The world's oldest person Violet Brown center ...</td>\n",
              "    </tr>\n",
              "    <tr>\n",
              "      <th>4</th>\n",
              "      <td>www.yahoo.com</td>\n",
              "      <td>2017-01-02 00:00:00</td>\n",
              "      <td>Mark Hamill's Carrie Fisher Tribute: \"Making H...</td>\n",
              "      <td>\"She was a handful, but my life would have bee...</td>\n",
              "      <td>(Photo: Albert L. Ortega/Gettyimages)\\nCarrie ...</td>\n",
              "      <td>conservative</td>\n",
              "      <td>1</td>\n",
              "      <td>Photo Albert L Ortega Gettyimages Carrie and ...</td>\n",
              "    </tr>\n",
              "  </tbody>\n",
              "</table>\n",
              "</div>\n",
              "    <div class=\"colab-df-buttons\">\n",
              "\n",
              "  <div class=\"colab-df-container\">\n",
              "    <button class=\"colab-df-convert\" onclick=\"convertToInteractive('df-230baf03-d20f-4b81-9131-d941be302185')\"\n",
              "            title=\"Convert this dataframe to an interactive table.\"\n",
              "            style=\"display:none;\">\n",
              "\n",
              "  <svg xmlns=\"http://www.w3.org/2000/svg\" height=\"24px\" viewBox=\"0 -960 960 960\">\n",
              "    <path d=\"M120-120v-720h720v720H120Zm60-500h600v-160H180v160Zm220 220h160v-160H400v160Zm0 220h160v-160H400v160ZM180-400h160v-160H180v160Zm440 0h160v-160H620v160ZM180-180h160v-160H180v160Zm440 0h160v-160H620v160Z\"/>\n",
              "  </svg>\n",
              "    </button>\n",
              "\n",
              "  <style>\n",
              "    .colab-df-container {\n",
              "      display:flex;\n",
              "      gap: 12px;\n",
              "    }\n",
              "\n",
              "    .colab-df-convert {\n",
              "      background-color: #E8F0FE;\n",
              "      border: none;\n",
              "      border-radius: 50%;\n",
              "      cursor: pointer;\n",
              "      display: none;\n",
              "      fill: #1967D2;\n",
              "      height: 32px;\n",
              "      padding: 0 0 0 0;\n",
              "      width: 32px;\n",
              "    }\n",
              "\n",
              "    .colab-df-convert:hover {\n",
              "      background-color: #E2EBFA;\n",
              "      box-shadow: 0px 1px 2px rgba(60, 64, 67, 0.3), 0px 1px 3px 1px rgba(60, 64, 67, 0.15);\n",
              "      fill: #174EA6;\n",
              "    }\n",
              "\n",
              "    .colab-df-buttons div {\n",
              "      margin-bottom: 4px;\n",
              "    }\n",
              "\n",
              "    [theme=dark] .colab-df-convert {\n",
              "      background-color: #3B4455;\n",
              "      fill: #D2E3FC;\n",
              "    }\n",
              "\n",
              "    [theme=dark] .colab-df-convert:hover {\n",
              "      background-color: #434B5C;\n",
              "      box-shadow: 0px 1px 3px 1px rgba(0, 0, 0, 0.15);\n",
              "      filter: drop-shadow(0px 1px 2px rgba(0, 0, 0, 0.3));\n",
              "      fill: #FFFFFF;\n",
              "    }\n",
              "  </style>\n",
              "\n",
              "    <script>\n",
              "      const buttonEl =\n",
              "        document.querySelector('#df-230baf03-d20f-4b81-9131-d941be302185 button.colab-df-convert');\n",
              "      buttonEl.style.display =\n",
              "        google.colab.kernel.accessAllowed ? 'block' : 'none';\n",
              "\n",
              "      async function convertToInteractive(key) {\n",
              "        const element = document.querySelector('#df-230baf03-d20f-4b81-9131-d941be302185');\n",
              "        const dataTable =\n",
              "          await google.colab.kernel.invokeFunction('convertToInteractive',\n",
              "                                                    [key], {});\n",
              "        if (!dataTable) return;\n",
              "\n",
              "        const docLinkHtml = 'Like what you see? Visit the ' +\n",
              "          '<a target=\"_blank\" href=https://colab.research.google.com/notebooks/data_table.ipynb>data table notebook</a>'\n",
              "          + ' to learn more about interactive tables.';\n",
              "        element.innerHTML = '';\n",
              "        dataTable['output_type'] = 'display_data';\n",
              "        await google.colab.output.renderOutput(dataTable, element);\n",
              "        const docLink = document.createElement('div');\n",
              "        docLink.innerHTML = docLinkHtml;\n",
              "        element.appendChild(docLink);\n",
              "      }\n",
              "    </script>\n",
              "  </div>\n",
              "\n",
              "\n",
              "<div id=\"df-c536aeb7-1e5d-47df-93e1-6544291b3191\">\n",
              "  <button class=\"colab-df-quickchart\" onclick=\"quickchart('df-c536aeb7-1e5d-47df-93e1-6544291b3191')\"\n",
              "            title=\"Suggest charts\"\n",
              "            style=\"display:none;\">\n",
              "\n",
              "<svg xmlns=\"http://www.w3.org/2000/svg\" height=\"24px\"viewBox=\"0 0 24 24\"\n",
              "     width=\"24px\">\n",
              "    <g>\n",
              "        <path d=\"M19 3H5c-1.1 0-2 .9-2 2v14c0 1.1.9 2 2 2h14c1.1 0 2-.9 2-2V5c0-1.1-.9-2-2-2zM9 17H7v-7h2v7zm4 0h-2V7h2v10zm4 0h-2v-4h2v4z\"/>\n",
              "    </g>\n",
              "</svg>\n",
              "  </button>\n",
              "\n",
              "<style>\n",
              "  .colab-df-quickchart {\n",
              "      --bg-color: #E8F0FE;\n",
              "      --fill-color: #1967D2;\n",
              "      --hover-bg-color: #E2EBFA;\n",
              "      --hover-fill-color: #174EA6;\n",
              "      --disabled-fill-color: #AAA;\n",
              "      --disabled-bg-color: #DDD;\n",
              "  }\n",
              "\n",
              "  [theme=dark] .colab-df-quickchart {\n",
              "      --bg-color: #3B4455;\n",
              "      --fill-color: #D2E3FC;\n",
              "      --hover-bg-color: #434B5C;\n",
              "      --hover-fill-color: #FFFFFF;\n",
              "      --disabled-bg-color: #3B4455;\n",
              "      --disabled-fill-color: #666;\n",
              "  }\n",
              "\n",
              "  .colab-df-quickchart {\n",
              "    background-color: var(--bg-color);\n",
              "    border: none;\n",
              "    border-radius: 50%;\n",
              "    cursor: pointer;\n",
              "    display: none;\n",
              "    fill: var(--fill-color);\n",
              "    height: 32px;\n",
              "    padding: 0;\n",
              "    width: 32px;\n",
              "  }\n",
              "\n",
              "  .colab-df-quickchart:hover {\n",
              "    background-color: var(--hover-bg-color);\n",
              "    box-shadow: 0 1px 2px rgba(60, 64, 67, 0.3), 0 1px 3px 1px rgba(60, 64, 67, 0.15);\n",
              "    fill: var(--button-hover-fill-color);\n",
              "  }\n",
              "\n",
              "  .colab-df-quickchart-complete:disabled,\n",
              "  .colab-df-quickchart-complete:disabled:hover {\n",
              "    background-color: var(--disabled-bg-color);\n",
              "    fill: var(--disabled-fill-color);\n",
              "    box-shadow: none;\n",
              "  }\n",
              "\n",
              "  .colab-df-spinner {\n",
              "    border: 2px solid var(--fill-color);\n",
              "    border-color: transparent;\n",
              "    border-bottom-color: var(--fill-color);\n",
              "    animation:\n",
              "      spin 1s steps(1) infinite;\n",
              "  }\n",
              "\n",
              "  @keyframes spin {\n",
              "    0% {\n",
              "      border-color: transparent;\n",
              "      border-bottom-color: var(--fill-color);\n",
              "      border-left-color: var(--fill-color);\n",
              "    }\n",
              "    20% {\n",
              "      border-color: transparent;\n",
              "      border-left-color: var(--fill-color);\n",
              "      border-top-color: var(--fill-color);\n",
              "    }\n",
              "    30% {\n",
              "      border-color: transparent;\n",
              "      border-left-color: var(--fill-color);\n",
              "      border-top-color: var(--fill-color);\n",
              "      border-right-color: var(--fill-color);\n",
              "    }\n",
              "    40% {\n",
              "      border-color: transparent;\n",
              "      border-right-color: var(--fill-color);\n",
              "      border-top-color: var(--fill-color);\n",
              "    }\n",
              "    60% {\n",
              "      border-color: transparent;\n",
              "      border-right-color: var(--fill-color);\n",
              "    }\n",
              "    80% {\n",
              "      border-color: transparent;\n",
              "      border-right-color: var(--fill-color);\n",
              "      border-bottom-color: var(--fill-color);\n",
              "    }\n",
              "    90% {\n",
              "      border-color: transparent;\n",
              "      border-bottom-color: var(--fill-color);\n",
              "    }\n",
              "  }\n",
              "</style>\n",
              "\n",
              "  <script>\n",
              "    async function quickchart(key) {\n",
              "      const quickchartButtonEl =\n",
              "        document.querySelector('#' + key + ' button');\n",
              "      quickchartButtonEl.disabled = true;  // To prevent multiple clicks.\n",
              "      quickchartButtonEl.classList.add('colab-df-spinner');\n",
              "      try {\n",
              "        const charts = await google.colab.kernel.invokeFunction(\n",
              "            'suggestCharts', [key], {});\n",
              "      } catch (error) {\n",
              "        console.error('Error during call to suggestCharts:', error);\n",
              "      }\n",
              "      quickchartButtonEl.classList.remove('colab-df-spinner');\n",
              "      quickchartButtonEl.classList.add('colab-df-quickchart-complete');\n",
              "    }\n",
              "    (() => {\n",
              "      let quickchartButtonEl =\n",
              "        document.querySelector('#df-c536aeb7-1e5d-47df-93e1-6544291b3191 button');\n",
              "      quickchartButtonEl.style.display =\n",
              "        google.colab.kernel.accessAllowed ? 'block' : 'none';\n",
              "    })();\n",
              "  </script>\n",
              "</div>\n",
              "    </div>\n",
              "  </div>\n"
            ]
          },
          "metadata": {},
          "execution_count": 23
        }
      ]
    },
    {
      "cell_type": "code",
      "source": [
        "print(news_features['text-processed'].iloc[348])"
      ],
      "metadata": {
        "colab": {
          "base_uri": "https://localhost:8080/"
        },
        "id": "B3HzB2yrcl5h",
        "outputId": "ad4f57d5-534b-46e2-998a-e1920a217c32"
      },
      "execution_count": null,
      "outputs": [
        {
          "output_type": "stream",
          "name": "stdout",
          "text": [
            "This undated picture provided on Monday Feb by the Albanian National Coastline Agency shows a shipwreck discovered by the RPM's Hercules research vessel in Ionian Sea Albania The country is promoting the archaeological finds in the waters off its southwest coast to raise public interest and to attract attention of decision makers who can help preserve the discoveries The Albanian National Coastline Agency opened an exhibition on Monday Feb of pictures showing underwater finds of potential archaeological significance from the last decade The Albanian National Coastline Agency via AP TIRANA Albania AP Albania is promoting the archaeological finds in the waters off its southwest coast to raise public interest and to attract attention of decision makers who can help preserve the discoveries The Albanian National Coastline Agency opened an exhibit Monday of photographs showing underwater finds of potential archaeological significance from the last decade The nonprofit RPM Nautical Foundation has mapped about one third of Albania's coast so far from Saranda near Greece's Corfu island to Vlora National coastline agency head Auron Tare says the scan found shipwrecks in the Ionian Sea six of them more than year old Tare said the ships and other objects show ancient Illyria Albania's predecessor was a commercial pass rather than a pirates' place Tare said He says the archaeological wealth of Albania's mile coastline needs more legal protections and better care to make it a popular tourist destination The country does not have a scuba diving industry but that could change if the findings are promoted properly Tare said We have a lot of such archaeological underwater heritage but so far we have not known how to keep preserve and use them he said The exhibition includes photos of amphorae two handled storage pots and jars used for wine or oil in ancient Greece and other items encrusted with tiny shells The wreckage from ships are thought to represent a much longer time period from the th and th centuries B C and the Austrian Hungarian Empire during World War I to British or Italian navy vessels from World War II During the communist regime that ruled Albania until the army's control of the coastline deterred smugglers who might have been tempted to disturb submerged artifacts Many items since have been stolen The nautical archaeology department at the Albanian Institute of Archaeology started collaborating years ago with the RPM Nautical Foundation which is based in Key West Florida to scan the ocean floor and remaining relics Neritan Ceka a veteran archaeologist involved in the maritime discoveries said the foundation's research vessel discovered a wealth of untouched finds That great archaeological wealth should be shown to the local population to preserve it and worldwide due to its research importance Ceka said \n"
          ]
        }
      ]
    },
    {
      "cell_type": "markdown",
      "source": [
        "Now, we want to tokenize our text, breaking it up into single words that we can continue to filter. Let's download the 'punkt' library from nltk and apply the tokenizer from their pipeline.\n",
        "\n",
        "**The below preprocessing code was inspired from labs completed in Dr. Abhijit Mishra's Natural Language Processing and Applications course at UT Austin's School of Information.**"
      ],
      "metadata": {
        "id": "E3kwif9XvwTF"
      }
    },
    {
      "cell_type": "code",
      "source": [
        "import nltk # Import nltk library\n",
        "nltk.download('punkt') # Use `punkt` to define punctuation\n",
        "from nltk.tokenize import word_tokenize # Import word_tokenize"
      ],
      "metadata": {
        "colab": {
          "base_uri": "https://localhost:8080/"
        },
        "id": "KZfwSYG_mxVo",
        "outputId": "ad34c805-bde6-41c1-ef4f-cad9819df634"
      },
      "execution_count": null,
      "outputs": [
        {
          "output_type": "stream",
          "name": "stderr",
          "text": [
            "[nltk_data] Downloading package punkt to /root/nltk_data...\n",
            "[nltk_data]   Unzipping tokenizers/punkt.zip.\n"
          ]
        }
      ]
    },
    {
      "cell_type": "code",
      "source": [
        "news_features['text-processed'] = (news_features['text-processed'].str.lower()).apply(word_tokenize)"
      ],
      "metadata": {
        "id": "4BppH38nc3cY"
      },
      "execution_count": null,
      "outputs": []
    },
    {
      "cell_type": "markdown",
      "source": [
        "Now we have tokenized words. We can filter out stopwords using nltk's list of stopwrods to filter out using a list comprehension."
      ],
      "metadata": {
        "id": "3bbu0Gkjv5eP"
      }
    },
    {
      "cell_type": "code",
      "source": [
        "# news_features.head()"
      ],
      "metadata": {
        "id": "-q4UG3Vsc96d"
      },
      "execution_count": null,
      "outputs": []
    },
    {
      "cell_type": "code",
      "source": [
        "nltk.download('stopwords')\n",
        "\n",
        "from nltk.corpus import stopwords # Import stopwords\n",
        "stop_words = set(stopwords.words('english')) # Set stopwords to 'English'\n",
        "\n",
        "print(stop_words) # Did we do this right??"
      ],
      "metadata": {
        "colab": {
          "base_uri": "https://localhost:8080/"
        },
        "id": "27Y73imtdJcq",
        "outputId": "817ff8ed-368a-4d43-fc70-62497999de56"
      },
      "execution_count": null,
      "outputs": [
        {
          "output_type": "stream",
          "name": "stdout",
          "text": [
            "{'their', 'an', \"that'll\", 'aren', 'a', 'then', 'because', 'here', 'ain', 'how', 'yourself', 'over', 'is', 'under', 'shan', \"hasn't\", 'and', 'below', \"you'd\", 'against', 'y', 'our', 'wouldn', 'from', 'should', 'doesn', \"shan't\", \"shouldn't\", 'but', 'weren', 'wasn', 'his', 'himself', 'any', 'does', 'these', 'being', 'just', 's', 'those', 'there', 'at', 'such', 'now', 'me', 'once', 'didn', 'the', 'you', 'by', 'as', 'not', 'further', 'off', 'can', 'hasn', \"haven't\", 'were', \"should've\", 'more', 'so', 'whom', 'has', 'same', 'won', 'herself', 'did', 'her', 'having', \"won't\", 'had', 'if', 'that', 'been', 'have', 'all', 'd', 'it', \"weren't\", \"you're\", \"you've\", \"hadn't\", 'don', \"needn't\", 'my', 'yours', 'itself', 'most', \"she's\", 'while', 'other', 'about', 'she', 'am', 'm', \"it's\", 'out', 'nor', 'mustn', 'needn', 'with', 'myself', 'are', 'll', 'shouldn', \"you'll\", 'why', 'own', \"couldn't\", 'until', 'through', \"aren't\", 'ourselves', 't', 'this', 'your', 'on', 'in', 'couldn', 'isn', \"wasn't\", 'into', 'i', 'up', 'o', 'than', 'down', 'who', 'ma', 'during', 'them', 'him', 'what', 've', 'between', 'hadn', \"wouldn't\", 'few', 'theirs', 'after', 'when', 'very', 'he', 'where', 'each', \"don't\", 'which', 'was', 'of', 'be', 'no', \"didn't\", 'ours', 'themselves', 'again', 'both', 'they', 'haven', \"doesn't\", \"mightn't\", \"mustn't\", 'or', 'to', 'some', 'yourselves', 'doing', 'above', \"isn't\", 're', 'hers', 'only', 'too', 'before', 'for', 'its', 'will', 'do', 'mightn', 'we'}\n"
          ]
        },
        {
          "output_type": "stream",
          "name": "stderr",
          "text": [
            "[nltk_data] Downloading package stopwords to /root/nltk_data...\n",
            "[nltk_data]   Unzipping corpora/stopwords.zip.\n"
          ]
        }
      ]
    },
    {
      "cell_type": "code",
      "source": [
        "# We can use .apply() and can iterate through each tokenizezd row to remove stopwords with lambda\n",
        "news_features['text-processed'] = news_features['text-processed'].apply(lambda x: [word for word in x if word not in stop_words])"
      ],
      "metadata": {
        "id": "kqbKi6rsdNW0"
      },
      "execution_count": null,
      "outputs": []
    },
    {
      "cell_type": "markdown",
      "source": [
        "Now, we lemmatize, which removes noise by transforming words like \"rats\" and \"rat\" to both \"rat.\""
      ],
      "metadata": {
        "id": "noaTIAs3v_gK"
      }
    },
    {
      "cell_type": "code",
      "source": [
        "# news_features.head()"
      ],
      "metadata": {
        "id": "y4Y0q2VRdRwL"
      },
      "execution_count": null,
      "outputs": []
    },
    {
      "cell_type": "code",
      "source": [
        "# Lemmatize function with help from practicum 2\n",
        "# Import wordnet, the Lemmatizer, and set it equal to a variable\n",
        "\n",
        "nltk.download('wordnet')\n",
        "from nltk.stem import WordNetLemmatizer\n",
        "lemmatizer = WordNetLemmatizer()"
      ],
      "metadata": {
        "colab": {
          "base_uri": "https://localhost:8080/"
        },
        "id": "owPx7eA_dWwo",
        "outputId": "91c690ac-8842-4909-cbb1-fb1019a994b6"
      },
      "execution_count": null,
      "outputs": [
        {
          "output_type": "stream",
          "name": "stderr",
          "text": [
            "[nltk_data] Downloading package wordnet to /root/nltk_data...\n"
          ]
        }
      ]
    },
    {
      "cell_type": "code",
      "source": [
        "news_features['text-processed'] = news_features['text-processed'].apply(lambda x: [lemmatizer.lemmatize(word) for word in x])"
      ],
      "metadata": {
        "id": "-mBHMthudaun"
      },
      "execution_count": null,
      "outputs": []
    },
    {
      "cell_type": "code",
      "source": [
        "news_features.head()"
      ],
      "metadata": {
        "colab": {
          "base_uri": "https://localhost:8080/",
          "height": 659
        },
        "id": "mShlvPPpdjDv",
        "outputId": "6ca4c56f-33b2-4cf5-c2ab-f8d4bc58c35b"
      },
      "execution_count": null,
      "outputs": [
        {
          "output_type": "execute_result",
          "data": {
            "text/plain": [
              "          domain                 date  \\\n",
              "0  www.yahoo.com  2017-04-17 05:27:27   \n",
              "1  www.yahoo.com  2017-10-07 04:31:25   \n",
              "2  www.yahoo.com  2017-02-15 15:22:55   \n",
              "3  www.yahoo.com  2017-04-17 22:55:18   \n",
              "4  www.yahoo.com  2017-01-02 00:00:00   \n",
              "\n",
              "                                               title  \\\n",
              "0    Cleveland Shooter Disowned By Family On Twitter   \n",
              "1  Weinstein Company launches probe into co-found...   \n",
              "2  Hilary Duff's Ex-Husband Mike Comrie Investiga...   \n",
              "3  At 117, Jamaican woman likely just became worl...   \n",
              "4  Mark Hamill's Carrie Fisher Tribute: \"Making H...   \n",
              "\n",
              "                                         description  \\\n",
              "0  Cleveland Police issued an aggravated murder w...   \n",
              "1  Movie company says it is taking claims “very s...   \n",
              "2  Former NHL star Mike Comrie — once married to ...   \n",
              "3  DUANVALE, Jamaica (AP) — Violet Brown spent mu...   \n",
              "4  \"She was a handful, but my life would have bee...   \n",
              "\n",
              "                                                text leaning-label  \\\n",
              "0  Donald Harvey, also dubbed as the 'Angel of De...  conservative   \n",
              "1  Movie company says it is taking claims “very s...  conservative   \n",
              "2  Former NHL star Mike Comrie — once married to ...  conservative   \n",
              "3  The world's oldest person Violet Brown, center...  conservative   \n",
              "4  (Photo: Albert L. Ortega/Gettyimages)\\nCarrie ...  conservative   \n",
              "\n",
              "   numerical-label                                     text-processed  \n",
              "0                1  [donald, harvey, also, dubbed, 'angel, death, ...  \n",
              "1                1  [movie, company, say, taking, claim, seriously...  \n",
              "2                1  [former, nhl, star, mike, comrie, married, hil...  \n",
              "3                1  [world, 's, oldest, person, violet, brown, cen...  \n",
              "4                1  [photo, albert, l, ortega, gettyimages, carrie...  "
            ],
            "text/html": [
              "\n",
              "  <div id=\"df-95e258e0-5eef-49ce-99f7-3ace5807dc29\" class=\"colab-df-container\">\n",
              "    <div>\n",
              "<style scoped>\n",
              "    .dataframe tbody tr th:only-of-type {\n",
              "        vertical-align: middle;\n",
              "    }\n",
              "\n",
              "    .dataframe tbody tr th {\n",
              "        vertical-align: top;\n",
              "    }\n",
              "\n",
              "    .dataframe thead th {\n",
              "        text-align: right;\n",
              "    }\n",
              "</style>\n",
              "<table border=\"1\" class=\"dataframe\">\n",
              "  <thead>\n",
              "    <tr style=\"text-align: right;\">\n",
              "      <th></th>\n",
              "      <th>domain</th>\n",
              "      <th>date</th>\n",
              "      <th>title</th>\n",
              "      <th>description</th>\n",
              "      <th>text</th>\n",
              "      <th>leaning-label</th>\n",
              "      <th>numerical-label</th>\n",
              "      <th>text-processed</th>\n",
              "    </tr>\n",
              "  </thead>\n",
              "  <tbody>\n",
              "    <tr>\n",
              "      <th>0</th>\n",
              "      <td>www.yahoo.com</td>\n",
              "      <td>2017-04-17 05:27:27</td>\n",
              "      <td>Cleveland Shooter Disowned By Family On Twitter</td>\n",
              "      <td>Cleveland Police issued an aggravated murder w...</td>\n",
              "      <td>Donald Harvey, also dubbed as the 'Angel of De...</td>\n",
              "      <td>conservative</td>\n",
              "      <td>1</td>\n",
              "      <td>[donald, harvey, also, dubbed, 'angel, death, ...</td>\n",
              "    </tr>\n",
              "    <tr>\n",
              "      <th>1</th>\n",
              "      <td>www.yahoo.com</td>\n",
              "      <td>2017-10-07 04:31:25</td>\n",
              "      <td>Weinstein Company launches probe into co-found...</td>\n",
              "      <td>Movie company says it is taking claims “very s...</td>\n",
              "      <td>Movie company says it is taking claims “very s...</td>\n",
              "      <td>conservative</td>\n",
              "      <td>1</td>\n",
              "      <td>[movie, company, say, taking, claim, seriously...</td>\n",
              "    </tr>\n",
              "    <tr>\n",
              "      <th>2</th>\n",
              "      <td>www.yahoo.com</td>\n",
              "      <td>2017-02-15 15:22:55</td>\n",
              "      <td>Hilary Duff's Ex-Husband Mike Comrie Investiga...</td>\n",
              "      <td>Former NHL star Mike Comrie — once married to ...</td>\n",
              "      <td>Former NHL star Mike Comrie — once married to ...</td>\n",
              "      <td>conservative</td>\n",
              "      <td>1</td>\n",
              "      <td>[former, nhl, star, mike, comrie, married, hil...</td>\n",
              "    </tr>\n",
              "    <tr>\n",
              "      <th>3</th>\n",
              "      <td>www.yahoo.com</td>\n",
              "      <td>2017-04-17 22:55:18</td>\n",
              "      <td>At 117, Jamaican woman likely just became worl...</td>\n",
              "      <td>DUANVALE, Jamaica (AP) — Violet Brown spent mu...</td>\n",
              "      <td>The world's oldest person Violet Brown, center...</td>\n",
              "      <td>conservative</td>\n",
              "      <td>1</td>\n",
              "      <td>[world, 's, oldest, person, violet, brown, cen...</td>\n",
              "    </tr>\n",
              "    <tr>\n",
              "      <th>4</th>\n",
              "      <td>www.yahoo.com</td>\n",
              "      <td>2017-01-02 00:00:00</td>\n",
              "      <td>Mark Hamill's Carrie Fisher Tribute: \"Making H...</td>\n",
              "      <td>\"She was a handful, but my life would have bee...</td>\n",
              "      <td>(Photo: Albert L. Ortega/Gettyimages)\\nCarrie ...</td>\n",
              "      <td>conservative</td>\n",
              "      <td>1</td>\n",
              "      <td>[photo, albert, l, ortega, gettyimages, carrie...</td>\n",
              "    </tr>\n",
              "  </tbody>\n",
              "</table>\n",
              "</div>\n",
              "    <div class=\"colab-df-buttons\">\n",
              "\n",
              "  <div class=\"colab-df-container\">\n",
              "    <button class=\"colab-df-convert\" onclick=\"convertToInteractive('df-95e258e0-5eef-49ce-99f7-3ace5807dc29')\"\n",
              "            title=\"Convert this dataframe to an interactive table.\"\n",
              "            style=\"display:none;\">\n",
              "\n",
              "  <svg xmlns=\"http://www.w3.org/2000/svg\" height=\"24px\" viewBox=\"0 -960 960 960\">\n",
              "    <path d=\"M120-120v-720h720v720H120Zm60-500h600v-160H180v160Zm220 220h160v-160H400v160Zm0 220h160v-160H400v160ZM180-400h160v-160H180v160Zm440 0h160v-160H620v160ZM180-180h160v-160H180v160Zm440 0h160v-160H620v160Z\"/>\n",
              "  </svg>\n",
              "    </button>\n",
              "\n",
              "  <style>\n",
              "    .colab-df-container {\n",
              "      display:flex;\n",
              "      gap: 12px;\n",
              "    }\n",
              "\n",
              "    .colab-df-convert {\n",
              "      background-color: #E8F0FE;\n",
              "      border: none;\n",
              "      border-radius: 50%;\n",
              "      cursor: pointer;\n",
              "      display: none;\n",
              "      fill: #1967D2;\n",
              "      height: 32px;\n",
              "      padding: 0 0 0 0;\n",
              "      width: 32px;\n",
              "    }\n",
              "\n",
              "    .colab-df-convert:hover {\n",
              "      background-color: #E2EBFA;\n",
              "      box-shadow: 0px 1px 2px rgba(60, 64, 67, 0.3), 0px 1px 3px 1px rgba(60, 64, 67, 0.15);\n",
              "      fill: #174EA6;\n",
              "    }\n",
              "\n",
              "    .colab-df-buttons div {\n",
              "      margin-bottom: 4px;\n",
              "    }\n",
              "\n",
              "    [theme=dark] .colab-df-convert {\n",
              "      background-color: #3B4455;\n",
              "      fill: #D2E3FC;\n",
              "    }\n",
              "\n",
              "    [theme=dark] .colab-df-convert:hover {\n",
              "      background-color: #434B5C;\n",
              "      box-shadow: 0px 1px 3px 1px rgba(0, 0, 0, 0.15);\n",
              "      filter: drop-shadow(0px 1px 2px rgba(0, 0, 0, 0.3));\n",
              "      fill: #FFFFFF;\n",
              "    }\n",
              "  </style>\n",
              "\n",
              "    <script>\n",
              "      const buttonEl =\n",
              "        document.querySelector('#df-95e258e0-5eef-49ce-99f7-3ace5807dc29 button.colab-df-convert');\n",
              "      buttonEl.style.display =\n",
              "        google.colab.kernel.accessAllowed ? 'block' : 'none';\n",
              "\n",
              "      async function convertToInteractive(key) {\n",
              "        const element = document.querySelector('#df-95e258e0-5eef-49ce-99f7-3ace5807dc29');\n",
              "        const dataTable =\n",
              "          await google.colab.kernel.invokeFunction('convertToInteractive',\n",
              "                                                    [key], {});\n",
              "        if (!dataTable) return;\n",
              "\n",
              "        const docLinkHtml = 'Like what you see? Visit the ' +\n",
              "          '<a target=\"_blank\" href=https://colab.research.google.com/notebooks/data_table.ipynb>data table notebook</a>'\n",
              "          + ' to learn more about interactive tables.';\n",
              "        element.innerHTML = '';\n",
              "        dataTable['output_type'] = 'display_data';\n",
              "        await google.colab.output.renderOutput(dataTable, element);\n",
              "        const docLink = document.createElement('div');\n",
              "        docLink.innerHTML = docLinkHtml;\n",
              "        element.appendChild(docLink);\n",
              "      }\n",
              "    </script>\n",
              "  </div>\n",
              "\n",
              "\n",
              "<div id=\"df-bc2279da-e4dc-4c97-bfc4-af16e519c422\">\n",
              "  <button class=\"colab-df-quickchart\" onclick=\"quickchart('df-bc2279da-e4dc-4c97-bfc4-af16e519c422')\"\n",
              "            title=\"Suggest charts\"\n",
              "            style=\"display:none;\">\n",
              "\n",
              "<svg xmlns=\"http://www.w3.org/2000/svg\" height=\"24px\"viewBox=\"0 0 24 24\"\n",
              "     width=\"24px\">\n",
              "    <g>\n",
              "        <path d=\"M19 3H5c-1.1 0-2 .9-2 2v14c0 1.1.9 2 2 2h14c1.1 0 2-.9 2-2V5c0-1.1-.9-2-2-2zM9 17H7v-7h2v7zm4 0h-2V7h2v10zm4 0h-2v-4h2v4z\"/>\n",
              "    </g>\n",
              "</svg>\n",
              "  </button>\n",
              "\n",
              "<style>\n",
              "  .colab-df-quickchart {\n",
              "      --bg-color: #E8F0FE;\n",
              "      --fill-color: #1967D2;\n",
              "      --hover-bg-color: #E2EBFA;\n",
              "      --hover-fill-color: #174EA6;\n",
              "      --disabled-fill-color: #AAA;\n",
              "      --disabled-bg-color: #DDD;\n",
              "  }\n",
              "\n",
              "  [theme=dark] .colab-df-quickchart {\n",
              "      --bg-color: #3B4455;\n",
              "      --fill-color: #D2E3FC;\n",
              "      --hover-bg-color: #434B5C;\n",
              "      --hover-fill-color: #FFFFFF;\n",
              "      --disabled-bg-color: #3B4455;\n",
              "      --disabled-fill-color: #666;\n",
              "  }\n",
              "\n",
              "  .colab-df-quickchart {\n",
              "    background-color: var(--bg-color);\n",
              "    border: none;\n",
              "    border-radius: 50%;\n",
              "    cursor: pointer;\n",
              "    display: none;\n",
              "    fill: var(--fill-color);\n",
              "    height: 32px;\n",
              "    padding: 0;\n",
              "    width: 32px;\n",
              "  }\n",
              "\n",
              "  .colab-df-quickchart:hover {\n",
              "    background-color: var(--hover-bg-color);\n",
              "    box-shadow: 0 1px 2px rgba(60, 64, 67, 0.3), 0 1px 3px 1px rgba(60, 64, 67, 0.15);\n",
              "    fill: var(--button-hover-fill-color);\n",
              "  }\n",
              "\n",
              "  .colab-df-quickchart-complete:disabled,\n",
              "  .colab-df-quickchart-complete:disabled:hover {\n",
              "    background-color: var(--disabled-bg-color);\n",
              "    fill: var(--disabled-fill-color);\n",
              "    box-shadow: none;\n",
              "  }\n",
              "\n",
              "  .colab-df-spinner {\n",
              "    border: 2px solid var(--fill-color);\n",
              "    border-color: transparent;\n",
              "    border-bottom-color: var(--fill-color);\n",
              "    animation:\n",
              "      spin 1s steps(1) infinite;\n",
              "  }\n",
              "\n",
              "  @keyframes spin {\n",
              "    0% {\n",
              "      border-color: transparent;\n",
              "      border-bottom-color: var(--fill-color);\n",
              "      border-left-color: var(--fill-color);\n",
              "    }\n",
              "    20% {\n",
              "      border-color: transparent;\n",
              "      border-left-color: var(--fill-color);\n",
              "      border-top-color: var(--fill-color);\n",
              "    }\n",
              "    30% {\n",
              "      border-color: transparent;\n",
              "      border-left-color: var(--fill-color);\n",
              "      border-top-color: var(--fill-color);\n",
              "      border-right-color: var(--fill-color);\n",
              "    }\n",
              "    40% {\n",
              "      border-color: transparent;\n",
              "      border-right-color: var(--fill-color);\n",
              "      border-top-color: var(--fill-color);\n",
              "    }\n",
              "    60% {\n",
              "      border-color: transparent;\n",
              "      border-right-color: var(--fill-color);\n",
              "    }\n",
              "    80% {\n",
              "      border-color: transparent;\n",
              "      border-right-color: var(--fill-color);\n",
              "      border-bottom-color: var(--fill-color);\n",
              "    }\n",
              "    90% {\n",
              "      border-color: transparent;\n",
              "      border-bottom-color: var(--fill-color);\n",
              "    }\n",
              "  }\n",
              "</style>\n",
              "\n",
              "  <script>\n",
              "    async function quickchart(key) {\n",
              "      const quickchartButtonEl =\n",
              "        document.querySelector('#' + key + ' button');\n",
              "      quickchartButtonEl.disabled = true;  // To prevent multiple clicks.\n",
              "      quickchartButtonEl.classList.add('colab-df-spinner');\n",
              "      try {\n",
              "        const charts = await google.colab.kernel.invokeFunction(\n",
              "            'suggestCharts', [key], {});\n",
              "      } catch (error) {\n",
              "        console.error('Error during call to suggestCharts:', error);\n",
              "      }\n",
              "      quickchartButtonEl.classList.remove('colab-df-spinner');\n",
              "      quickchartButtonEl.classList.add('colab-df-quickchart-complete');\n",
              "    }\n",
              "    (() => {\n",
              "      let quickchartButtonEl =\n",
              "        document.querySelector('#df-bc2279da-e4dc-4c97-bfc4-af16e519c422 button');\n",
              "      quickchartButtonEl.style.display =\n",
              "        google.colab.kernel.accessAllowed ? 'block' : 'none';\n",
              "    })();\n",
              "  </script>\n",
              "</div>\n",
              "    </div>\n",
              "  </div>\n"
            ]
          },
          "metadata": {},
          "execution_count": 33
        }
      ]
    },
    {
      "cell_type": "markdown",
      "source": [
        "Now we download our .csv file."
      ],
      "metadata": {
        "id": "SrCj2ZrtwHNu"
      }
    },
    {
      "cell_type": "code",
      "source": [
        "# Download .csv\n",
        "news_features.to_csv('news_features.csv')"
      ],
      "metadata": {
        "id": "bjlwuw-0eW3g"
      },
      "execution_count": null,
      "outputs": []
    },
    {
      "cell_type": "code",
      "source": [
        "import pandas as pd"
      ],
      "metadata": {
        "id": "xHexuCMrx_WJ"
      },
      "execution_count": null,
      "outputs": []
    },
    {
      "cell_type": "code",
      "source": [
        "news_features = pd.read_csv('/content/news_features.csv')"
      ],
      "metadata": {
        "id": "95iAoPoUyF0Y"
      },
      "execution_count": null,
      "outputs": []
    },
    {
      "cell_type": "code",
      "source": [
        "# len(news_features)"
      ],
      "metadata": {
        "id": "frhpgXlDyK__"
      },
      "execution_count": null,
      "outputs": []
    },
    {
      "cell_type": "markdown",
      "source": [
        "We are left with pre-processed text that can be used to extract numerical features."
      ],
      "metadata": {
        "id": "1cQGADALwJBu"
      }
    },
    {
      "cell_type": "markdown",
      "source": [
        "### GloVe"
      ],
      "metadata": {
        "id": "EauLB-iJgK6c"
      }
    },
    {
      "cell_type": "markdown",
      "source": [
        "In order to get GloVe embeddings, we have to unzip the GloVe file and load our vectors. We will use 200 dimension GloVe vectors, because they contain more nuance. We used Dr. Abhijit Mishra's example on how to load in GloVe vectors for this section."
      ],
      "metadata": {
        "id": "RsFcss4EwNG-"
      }
    },
    {
      "cell_type": "code",
      "source": [
        "# this is a one time download\n",
        "!wget -c http://nlp.stanford.edu/data/glove.6B.zip\n",
        "!unzip glove.6B.zip\n",
        "\n",
        "# do some necessary conversions\n",
        "!python -m gensim.scripts.glove2word2vec --input  glove.6B.200d.txt --output glove.6B.200d.vec\n",
        "!rm glove*.txt"
      ],
      "metadata": {
        "colab": {
          "base_uri": "https://localhost:8080/"
        },
        "id": "D03kITjzzHGx",
        "outputId": "fac4c42b-a171-4ccc-9436-dc90b6ee58a7"
      },
      "execution_count": null,
      "outputs": [
        {
          "output_type": "stream",
          "name": "stdout",
          "text": [
            "--2023-12-03 16:35:25--  http://nlp.stanford.edu/data/glove.6B.zip\n",
            "Resolving nlp.stanford.edu (nlp.stanford.edu)... 171.64.67.140\n",
            "Connecting to nlp.stanford.edu (nlp.stanford.edu)|171.64.67.140|:80... connected.\n",
            "HTTP request sent, awaiting response... 302 Found\n",
            "Location: https://nlp.stanford.edu/data/glove.6B.zip [following]\n",
            "--2023-12-03 16:35:25--  https://nlp.stanford.edu/data/glove.6B.zip\n",
            "Connecting to nlp.stanford.edu (nlp.stanford.edu)|171.64.67.140|:443... connected.\n",
            "HTTP request sent, awaiting response... 301 Moved Permanently\n",
            "Location: https://downloads.cs.stanford.edu/nlp/data/glove.6B.zip [following]\n",
            "--2023-12-03 16:35:25--  https://downloads.cs.stanford.edu/nlp/data/glove.6B.zip\n",
            "Resolving downloads.cs.stanford.edu (downloads.cs.stanford.edu)... 171.64.64.22\n",
            "Connecting to downloads.cs.stanford.edu (downloads.cs.stanford.edu)|171.64.64.22|:443... connected.\n",
            "HTTP request sent, awaiting response... 200 OK\n",
            "Length: 862182613 (822M) [application/zip]\n",
            "Saving to: ‘glove.6B.zip’\n",
            "\n",
            "glove.6B.zip        100%[===================>] 822.24M  5.02MB/s    in 2m 39s  \n",
            "\n",
            "2023-12-03 16:38:04 (5.19 MB/s) - ‘glove.6B.zip’ saved [862182613/862182613]\n",
            "\n",
            "Archive:  glove.6B.zip\n",
            "  inflating: glove.6B.50d.txt        \n",
            "  inflating: glove.6B.100d.txt       \n",
            "  inflating: glove.6B.200d.txt       \n",
            "  inflating: glove.6B.300d.txt       \n",
            "2023-12-03 16:38:40,593 - glove2word2vec - INFO - running /usr/local/lib/python3.10/dist-packages/gensim/scripts/glove2word2vec.py --input glove.6B.200d.txt --output glove.6B.200d.vec\n",
            "/usr/local/lib/python3.10/dist-packages/gensim/scripts/glove2word2vec.py:125: DeprecationWarning: Call to deprecated `glove2word2vec` (KeyedVectors.load_word2vec_format(.., binary=False, no_header=True) loads GLoVE text vectors.).\n",
            "  num_lines, num_dims = glove2word2vec(args.input, args.output)\n",
            "2023-12-03 16:38:40,594 - keyedvectors - INFO - loading projection weights from glove.6B.200d.txt\n",
            "2023-12-03 16:39:38,352 - utils - INFO - KeyedVectors lifecycle event {'msg': 'loaded (400000, 200) matrix of type float32 from glove.6B.200d.txt', 'binary': False, 'encoding': 'utf8', 'datetime': '2023-12-03T16:39:38.351117', 'gensim': '4.3.2', 'python': '3.10.12 (main, Nov 20 2023, 15:14:05) [GCC 11.4.0]', 'platform': 'Linux-5.15.120+-x86_64-with-glibc2.35', 'event': 'load_word2vec_format'}\n",
            "2023-12-03 16:39:38,353 - glove2word2vec - INFO - converting 400000 vectors from glove.6B.200d.txt to glove.6B.200d.vec\n",
            "2023-12-03 16:39:38,687 - keyedvectors - INFO - storing 400000x200 projection weights into glove.6B.200d.vec\n",
            "2023-12-03 16:40:27,383 - glove2word2vec - INFO - Converted model with 400000 vectors and 200 dimensions\n"
          ]
        }
      ]
    },
    {
      "cell_type": "markdown",
      "source": [
        "We load our vectors, then retrieve an embedding from those vectors for each word in each document of our corpus. Then, we can average the embeddings for each document, to get one single embedding (200 dimensions) that represents the average of each document."
      ],
      "metadata": {
        "id": "DFzBwmt3wZio"
      }
    },
    {
      "cell_type": "code",
      "source": [
        "import numpy as np\n",
        "from gensim.models import KeyedVectors\n",
        "\n",
        "# Load pre-trained GloVe embeddings\n",
        "word_vectors = KeyedVectors.load_word2vec_format('glove.6B.200d.vec', binary=False)"
      ],
      "metadata": {
        "id": "QSvoyWuazALw"
      },
      "execution_count": null,
      "outputs": []
    },
    {
      "cell_type": "code",
      "source": [
        "# Make a function that averages GloVe vectors\n",
        "# From practicum 5\n",
        "def get_average_glove_vector(text):\n",
        "    vectors = [word_vectors[word] for word in text if word in word_vectors]\n",
        "    if vectors:\n",
        "        return np.mean(vectors, axis=0)\n",
        "    else:\n",
        "        return np.zeros(word_vectors.vector_size)"
      ],
      "metadata": {
        "id": "50aaN_2qzWqQ"
      },
      "execution_count": null,
      "outputs": []
    },
    {
      "cell_type": "markdown",
      "source": [
        "Now, we can apply the function that averages all of those embeddings, and can check our dataset."
      ],
      "metadata": {
        "id": "OsQ8nbiEwmx4"
      }
    },
    {
      "cell_type": "code",
      "source": [
        "news_features['glove'] = news_features['text-processed'].apply(get_average_glove_vector)"
      ],
      "metadata": {
        "id": "7RGMD66K8oeS"
      },
      "execution_count": null,
      "outputs": []
    },
    {
      "cell_type": "code",
      "source": [
        "news_features.head()"
      ],
      "metadata": {
        "colab": {
          "base_uri": "https://localhost:8080/",
          "height": 659
        },
        "id": "xo6QlPDZ76Ru",
        "outputId": "29d5ae00-7b80-42ea-b914-02fd20a3e94c"
      },
      "execution_count": null,
      "outputs": [
        {
          "output_type": "execute_result",
          "data": {
            "text/plain": [
              "   Unnamed: 0         domain                 date  \\\n",
              "0           0  www.yahoo.com  2017-04-17 05:27:27   \n",
              "1           1  www.yahoo.com  2017-10-07 04:31:25   \n",
              "2           2  www.yahoo.com  2017-02-15 15:22:55   \n",
              "3           3  www.yahoo.com  2017-04-17 22:55:18   \n",
              "4           4  www.yahoo.com  2017-01-02 00:00:00   \n",
              "\n",
              "                                               title  \\\n",
              "0    Cleveland Shooter Disowned By Family On Twitter   \n",
              "1  Weinstein Company launches probe into co-found...   \n",
              "2  Hilary Duff's Ex-Husband Mike Comrie Investiga...   \n",
              "3  At 117, Jamaican woman likely just became worl...   \n",
              "4  Mark Hamill's Carrie Fisher Tribute: \"Making H...   \n",
              "\n",
              "                                         description  \\\n",
              "0  Cleveland Police issued an aggravated murder w...   \n",
              "1  Movie company says it is taking claims “very s...   \n",
              "2  Former NHL star Mike Comrie — once married to ...   \n",
              "3  DUANVALE, Jamaica (AP) — Violet Brown spent mu...   \n",
              "4  \"She was a handful, but my life would have bee...   \n",
              "\n",
              "                                                text leaning-label  \\\n",
              "0  Donald Harvey, also dubbed as the 'Angel of De...  conservative   \n",
              "1  Movie company says it is taking claims “very s...  conservative   \n",
              "2  Former NHL star Mike Comrie — once married to ...  conservative   \n",
              "3  The world's oldest person Violet Brown, center...  conservative   \n",
              "4  (Photo: Albert L. Ortega/Gettyimages)\\nCarrie ...  conservative   \n",
              "\n",
              "   numerical-label                                     text-processed  \\\n",
              "0                1  ['donald', 'harvey', 'also', 'dubbed', \"'angel...   \n",
              "1                1  ['movie', 'company', 'say', 'taking', 'claim',...   \n",
              "2                1  ['former', 'nhl', 'star', 'mike', 'comrie', 'm...   \n",
              "3                1  ['world', \"'s\", 'oldest', 'person', 'violet', ...   \n",
              "4                1  ['photo', 'albert', 'l', 'ortega', 'gettyimage...   \n",
              "\n",
              "                                               glove  \n",
              "0  [0.038828976, 0.35248274, -0.16552818, -0.0523...  \n",
              "1  [0.03548508, 0.36543903, -0.17005034, -0.07168...  \n",
              "2  [0.046540175, 0.30033353, -0.16914955, -0.0656...  \n",
              "3  [0.038885757, 0.34846243, -0.18184175, -0.0459...  \n",
              "4  [0.041827377, 0.31809318, -0.18032931, -0.0497...  "
            ],
            "text/html": [
              "\n",
              "  <div id=\"df-59541df4-a78a-40ee-a3c0-8e955aef4b2f\" class=\"colab-df-container\">\n",
              "    <div>\n",
              "<style scoped>\n",
              "    .dataframe tbody tr th:only-of-type {\n",
              "        vertical-align: middle;\n",
              "    }\n",
              "\n",
              "    .dataframe tbody tr th {\n",
              "        vertical-align: top;\n",
              "    }\n",
              "\n",
              "    .dataframe thead th {\n",
              "        text-align: right;\n",
              "    }\n",
              "</style>\n",
              "<table border=\"1\" class=\"dataframe\">\n",
              "  <thead>\n",
              "    <tr style=\"text-align: right;\">\n",
              "      <th></th>\n",
              "      <th>Unnamed: 0</th>\n",
              "      <th>domain</th>\n",
              "      <th>date</th>\n",
              "      <th>title</th>\n",
              "      <th>description</th>\n",
              "      <th>text</th>\n",
              "      <th>leaning-label</th>\n",
              "      <th>numerical-label</th>\n",
              "      <th>text-processed</th>\n",
              "      <th>glove</th>\n",
              "    </tr>\n",
              "  </thead>\n",
              "  <tbody>\n",
              "    <tr>\n",
              "      <th>0</th>\n",
              "      <td>0</td>\n",
              "      <td>www.yahoo.com</td>\n",
              "      <td>2017-04-17 05:27:27</td>\n",
              "      <td>Cleveland Shooter Disowned By Family On Twitter</td>\n",
              "      <td>Cleveland Police issued an aggravated murder w...</td>\n",
              "      <td>Donald Harvey, also dubbed as the 'Angel of De...</td>\n",
              "      <td>conservative</td>\n",
              "      <td>1</td>\n",
              "      <td>['donald', 'harvey', 'also', 'dubbed', \"'angel...</td>\n",
              "      <td>[0.038828976, 0.35248274, -0.16552818, -0.0523...</td>\n",
              "    </tr>\n",
              "    <tr>\n",
              "      <th>1</th>\n",
              "      <td>1</td>\n",
              "      <td>www.yahoo.com</td>\n",
              "      <td>2017-10-07 04:31:25</td>\n",
              "      <td>Weinstein Company launches probe into co-found...</td>\n",
              "      <td>Movie company says it is taking claims “very s...</td>\n",
              "      <td>Movie company says it is taking claims “very s...</td>\n",
              "      <td>conservative</td>\n",
              "      <td>1</td>\n",
              "      <td>['movie', 'company', 'say', 'taking', 'claim',...</td>\n",
              "      <td>[0.03548508, 0.36543903, -0.17005034, -0.07168...</td>\n",
              "    </tr>\n",
              "    <tr>\n",
              "      <th>2</th>\n",
              "      <td>2</td>\n",
              "      <td>www.yahoo.com</td>\n",
              "      <td>2017-02-15 15:22:55</td>\n",
              "      <td>Hilary Duff's Ex-Husband Mike Comrie Investiga...</td>\n",
              "      <td>Former NHL star Mike Comrie — once married to ...</td>\n",
              "      <td>Former NHL star Mike Comrie — once married to ...</td>\n",
              "      <td>conservative</td>\n",
              "      <td>1</td>\n",
              "      <td>['former', 'nhl', 'star', 'mike', 'comrie', 'm...</td>\n",
              "      <td>[0.046540175, 0.30033353, -0.16914955, -0.0656...</td>\n",
              "    </tr>\n",
              "    <tr>\n",
              "      <th>3</th>\n",
              "      <td>3</td>\n",
              "      <td>www.yahoo.com</td>\n",
              "      <td>2017-04-17 22:55:18</td>\n",
              "      <td>At 117, Jamaican woman likely just became worl...</td>\n",
              "      <td>DUANVALE, Jamaica (AP) — Violet Brown spent mu...</td>\n",
              "      <td>The world's oldest person Violet Brown, center...</td>\n",
              "      <td>conservative</td>\n",
              "      <td>1</td>\n",
              "      <td>['world', \"'s\", 'oldest', 'person', 'violet', ...</td>\n",
              "      <td>[0.038885757, 0.34846243, -0.18184175, -0.0459...</td>\n",
              "    </tr>\n",
              "    <tr>\n",
              "      <th>4</th>\n",
              "      <td>4</td>\n",
              "      <td>www.yahoo.com</td>\n",
              "      <td>2017-01-02 00:00:00</td>\n",
              "      <td>Mark Hamill's Carrie Fisher Tribute: \"Making H...</td>\n",
              "      <td>\"She was a handful, but my life would have bee...</td>\n",
              "      <td>(Photo: Albert L. Ortega/Gettyimages)\\nCarrie ...</td>\n",
              "      <td>conservative</td>\n",
              "      <td>1</td>\n",
              "      <td>['photo', 'albert', 'l', 'ortega', 'gettyimage...</td>\n",
              "      <td>[0.041827377, 0.31809318, -0.18032931, -0.0497...</td>\n",
              "    </tr>\n",
              "  </tbody>\n",
              "</table>\n",
              "</div>\n",
              "    <div class=\"colab-df-buttons\">\n",
              "\n",
              "  <div class=\"colab-df-container\">\n",
              "    <button class=\"colab-df-convert\" onclick=\"convertToInteractive('df-59541df4-a78a-40ee-a3c0-8e955aef4b2f')\"\n",
              "            title=\"Convert this dataframe to an interactive table.\"\n",
              "            style=\"display:none;\">\n",
              "\n",
              "  <svg xmlns=\"http://www.w3.org/2000/svg\" height=\"24px\" viewBox=\"0 -960 960 960\">\n",
              "    <path d=\"M120-120v-720h720v720H120Zm60-500h600v-160H180v160Zm220 220h160v-160H400v160Zm0 220h160v-160H400v160ZM180-400h160v-160H180v160Zm440 0h160v-160H620v160ZM180-180h160v-160H180v160Zm440 0h160v-160H620v160Z\"/>\n",
              "  </svg>\n",
              "    </button>\n",
              "\n",
              "  <style>\n",
              "    .colab-df-container {\n",
              "      display:flex;\n",
              "      gap: 12px;\n",
              "    }\n",
              "\n",
              "    .colab-df-convert {\n",
              "      background-color: #E8F0FE;\n",
              "      border: none;\n",
              "      border-radius: 50%;\n",
              "      cursor: pointer;\n",
              "      display: none;\n",
              "      fill: #1967D2;\n",
              "      height: 32px;\n",
              "      padding: 0 0 0 0;\n",
              "      width: 32px;\n",
              "    }\n",
              "\n",
              "    .colab-df-convert:hover {\n",
              "      background-color: #E2EBFA;\n",
              "      box-shadow: 0px 1px 2px rgba(60, 64, 67, 0.3), 0px 1px 3px 1px rgba(60, 64, 67, 0.15);\n",
              "      fill: #174EA6;\n",
              "    }\n",
              "\n",
              "    .colab-df-buttons div {\n",
              "      margin-bottom: 4px;\n",
              "    }\n",
              "\n",
              "    [theme=dark] .colab-df-convert {\n",
              "      background-color: #3B4455;\n",
              "      fill: #D2E3FC;\n",
              "    }\n",
              "\n",
              "    [theme=dark] .colab-df-convert:hover {\n",
              "      background-color: #434B5C;\n",
              "      box-shadow: 0px 1px 3px 1px rgba(0, 0, 0, 0.15);\n",
              "      filter: drop-shadow(0px 1px 2px rgba(0, 0, 0, 0.3));\n",
              "      fill: #FFFFFF;\n",
              "    }\n",
              "  </style>\n",
              "\n",
              "    <script>\n",
              "      const buttonEl =\n",
              "        document.querySelector('#df-59541df4-a78a-40ee-a3c0-8e955aef4b2f button.colab-df-convert');\n",
              "      buttonEl.style.display =\n",
              "        google.colab.kernel.accessAllowed ? 'block' : 'none';\n",
              "\n",
              "      async function convertToInteractive(key) {\n",
              "        const element = document.querySelector('#df-59541df4-a78a-40ee-a3c0-8e955aef4b2f');\n",
              "        const dataTable =\n",
              "          await google.colab.kernel.invokeFunction('convertToInteractive',\n",
              "                                                    [key], {});\n",
              "        if (!dataTable) return;\n",
              "\n",
              "        const docLinkHtml = 'Like what you see? Visit the ' +\n",
              "          '<a target=\"_blank\" href=https://colab.research.google.com/notebooks/data_table.ipynb>data table notebook</a>'\n",
              "          + ' to learn more about interactive tables.';\n",
              "        element.innerHTML = '';\n",
              "        dataTable['output_type'] = 'display_data';\n",
              "        await google.colab.output.renderOutput(dataTable, element);\n",
              "        const docLink = document.createElement('div');\n",
              "        docLink.innerHTML = docLinkHtml;\n",
              "        element.appendChild(docLink);\n",
              "      }\n",
              "    </script>\n",
              "  </div>\n",
              "\n",
              "\n",
              "<div id=\"df-5e6b7ecd-9a38-44cc-85a6-a3a2579f40f9\">\n",
              "  <button class=\"colab-df-quickchart\" onclick=\"quickchart('df-5e6b7ecd-9a38-44cc-85a6-a3a2579f40f9')\"\n",
              "            title=\"Suggest charts\"\n",
              "            style=\"display:none;\">\n",
              "\n",
              "<svg xmlns=\"http://www.w3.org/2000/svg\" height=\"24px\"viewBox=\"0 0 24 24\"\n",
              "     width=\"24px\">\n",
              "    <g>\n",
              "        <path d=\"M19 3H5c-1.1 0-2 .9-2 2v14c0 1.1.9 2 2 2h14c1.1 0 2-.9 2-2V5c0-1.1-.9-2-2-2zM9 17H7v-7h2v7zm4 0h-2V7h2v10zm4 0h-2v-4h2v4z\"/>\n",
              "    </g>\n",
              "</svg>\n",
              "  </button>\n",
              "\n",
              "<style>\n",
              "  .colab-df-quickchart {\n",
              "      --bg-color: #E8F0FE;\n",
              "      --fill-color: #1967D2;\n",
              "      --hover-bg-color: #E2EBFA;\n",
              "      --hover-fill-color: #174EA6;\n",
              "      --disabled-fill-color: #AAA;\n",
              "      --disabled-bg-color: #DDD;\n",
              "  }\n",
              "\n",
              "  [theme=dark] .colab-df-quickchart {\n",
              "      --bg-color: #3B4455;\n",
              "      --fill-color: #D2E3FC;\n",
              "      --hover-bg-color: #434B5C;\n",
              "      --hover-fill-color: #FFFFFF;\n",
              "      --disabled-bg-color: #3B4455;\n",
              "      --disabled-fill-color: #666;\n",
              "  }\n",
              "\n",
              "  .colab-df-quickchart {\n",
              "    background-color: var(--bg-color);\n",
              "    border: none;\n",
              "    border-radius: 50%;\n",
              "    cursor: pointer;\n",
              "    display: none;\n",
              "    fill: var(--fill-color);\n",
              "    height: 32px;\n",
              "    padding: 0;\n",
              "    width: 32px;\n",
              "  }\n",
              "\n",
              "  .colab-df-quickchart:hover {\n",
              "    background-color: var(--hover-bg-color);\n",
              "    box-shadow: 0 1px 2px rgba(60, 64, 67, 0.3), 0 1px 3px 1px rgba(60, 64, 67, 0.15);\n",
              "    fill: var(--button-hover-fill-color);\n",
              "  }\n",
              "\n",
              "  .colab-df-quickchart-complete:disabled,\n",
              "  .colab-df-quickchart-complete:disabled:hover {\n",
              "    background-color: var(--disabled-bg-color);\n",
              "    fill: var(--disabled-fill-color);\n",
              "    box-shadow: none;\n",
              "  }\n",
              "\n",
              "  .colab-df-spinner {\n",
              "    border: 2px solid var(--fill-color);\n",
              "    border-color: transparent;\n",
              "    border-bottom-color: var(--fill-color);\n",
              "    animation:\n",
              "      spin 1s steps(1) infinite;\n",
              "  }\n",
              "\n",
              "  @keyframes spin {\n",
              "    0% {\n",
              "      border-color: transparent;\n",
              "      border-bottom-color: var(--fill-color);\n",
              "      border-left-color: var(--fill-color);\n",
              "    }\n",
              "    20% {\n",
              "      border-color: transparent;\n",
              "      border-left-color: var(--fill-color);\n",
              "      border-top-color: var(--fill-color);\n",
              "    }\n",
              "    30% {\n",
              "      border-color: transparent;\n",
              "      border-left-color: var(--fill-color);\n",
              "      border-top-color: var(--fill-color);\n",
              "      border-right-color: var(--fill-color);\n",
              "    }\n",
              "    40% {\n",
              "      border-color: transparent;\n",
              "      border-right-color: var(--fill-color);\n",
              "      border-top-color: var(--fill-color);\n",
              "    }\n",
              "    60% {\n",
              "      border-color: transparent;\n",
              "      border-right-color: var(--fill-color);\n",
              "    }\n",
              "    80% {\n",
              "      border-color: transparent;\n",
              "      border-right-color: var(--fill-color);\n",
              "      border-bottom-color: var(--fill-color);\n",
              "    }\n",
              "    90% {\n",
              "      border-color: transparent;\n",
              "      border-bottom-color: var(--fill-color);\n",
              "    }\n",
              "  }\n",
              "</style>\n",
              "\n",
              "  <script>\n",
              "    async function quickchart(key) {\n",
              "      const quickchartButtonEl =\n",
              "        document.querySelector('#' + key + ' button');\n",
              "      quickchartButtonEl.disabled = true;  // To prevent multiple clicks.\n",
              "      quickchartButtonEl.classList.add('colab-df-spinner');\n",
              "      try {\n",
              "        const charts = await google.colab.kernel.invokeFunction(\n",
              "            'suggestCharts', [key], {});\n",
              "      } catch (error) {\n",
              "        console.error('Error during call to suggestCharts:', error);\n",
              "      }\n",
              "      quickchartButtonEl.classList.remove('colab-df-spinner');\n",
              "      quickchartButtonEl.classList.add('colab-df-quickchart-complete');\n",
              "    }\n",
              "    (() => {\n",
              "      let quickchartButtonEl =\n",
              "        document.querySelector('#df-5e6b7ecd-9a38-44cc-85a6-a3a2579f40f9 button');\n",
              "      quickchartButtonEl.style.display =\n",
              "        google.colab.kernel.accessAllowed ? 'block' : 'none';\n",
              "    })();\n",
              "  </script>\n",
              "</div>\n",
              "    </div>\n",
              "  </div>\n"
            ]
          },
          "metadata": {},
          "execution_count": 9
        }
      ]
    },
    {
      "cell_type": "markdown",
      "source": [
        "Those embeddings took a while to generate. Let's save a backup .csv."
      ],
      "metadata": {
        "id": "udHqgv5Nwsct"
      }
    },
    {
      "cell_type": "code",
      "source": [
        "import pandas as pd\n",
        "news_features = pd.read_csv('/content/news_features including GLOVE.csv')"
      ],
      "metadata": {
        "id": "F0YQtqd2ECX3"
      },
      "execution_count": null,
      "outputs": []
    },
    {
      "cell_type": "code",
      "source": [
        "news_features.head()"
      ],
      "metadata": {
        "colab": {
          "base_uri": "https://localhost:8080/",
          "height": 659
        },
        "id": "F5JffVjnEKgA",
        "outputId": "c59b0015-939f-47cb-ba01-1081b4049d8f"
      },
      "execution_count": null,
      "outputs": [
        {
          "output_type": "execute_result",
          "data": {
            "text/plain": [
              "   Unnamed: 0.1  Unnamed: 0         domain                 date  \\\n",
              "0             0           0  www.yahoo.com  2017-04-17 05:27:27   \n",
              "1             1           1  www.yahoo.com  2017-10-07 04:31:25   \n",
              "2             2           2  www.yahoo.com  2017-02-15 15:22:55   \n",
              "3             3           3  www.yahoo.com  2017-04-17 22:55:18   \n",
              "4             4           4  www.yahoo.com  2017-01-02 00:00:00   \n",
              "\n",
              "                                               title  \\\n",
              "0    Cleveland Shooter Disowned By Family On Twitter   \n",
              "1  Weinstein Company launches probe into co-found...   \n",
              "2  Hilary Duff's Ex-Husband Mike Comrie Investiga...   \n",
              "3  At 117, Jamaican woman likely just became worl...   \n",
              "4  Mark Hamill's Carrie Fisher Tribute: \"Making H...   \n",
              "\n",
              "                                         description  \\\n",
              "0  Cleveland Police issued an aggravated murder w...   \n",
              "1  Movie company says it is taking claims “very s...   \n",
              "2  Former NHL star Mike Comrie — once married to ...   \n",
              "3  DUANVALE, Jamaica (AP) — Violet Brown spent mu...   \n",
              "4  \"She was a handful, but my life would have bee...   \n",
              "\n",
              "                                                text leaning-label  \\\n",
              "0  Donald Harvey, also dubbed as the 'Angel of De...  conservative   \n",
              "1  Movie company says it is taking claims “very s...  conservative   \n",
              "2  Former NHL star Mike Comrie — once married to ...  conservative   \n",
              "3  The world's oldest person Violet Brown, center...  conservative   \n",
              "4  (Photo: Albert L. Ortega/Gettyimages)\\nCarrie ...  conservative   \n",
              "\n",
              "   numerical-label                                     text-processed  \\\n",
              "0                1  ['donald', 'harvey', 'also', 'dubbed', \"'angel...   \n",
              "1                1  ['movie', 'company', 'say', 'taking', 'claim',...   \n",
              "2                1  ['former', 'nhl', 'star', 'mike', 'comrie', 'm...   \n",
              "3                1  ['world', \"'s\", 'oldest', 'person', 'violet', ...   \n",
              "4                1  ['photo', 'albert', 'l', 'ortega', 'gettyimage...   \n",
              "\n",
              "                                               glove  \n",
              "0  [ 3.88289765e-02  3.52482736e-01 -1.65528178e-...  \n",
              "1  [ 3.54850814e-02  3.65439028e-01 -1.70050338e-...  \n",
              "2  [ 4.65401746e-02  3.00333530e-01 -1.69149548e-...  \n",
              "3  [ 0.03888576  0.34846243 -0.18184175 -0.045955...  \n",
              "4  [ 4.18273769e-02  3.18093181e-01 -1.80329308e-...  "
            ],
            "text/html": [
              "\n",
              "  <div id=\"df-88421937-4a29-4bca-a283-8b4786b433d3\" class=\"colab-df-container\">\n",
              "    <div>\n",
              "<style scoped>\n",
              "    .dataframe tbody tr th:only-of-type {\n",
              "        vertical-align: middle;\n",
              "    }\n",
              "\n",
              "    .dataframe tbody tr th {\n",
              "        vertical-align: top;\n",
              "    }\n",
              "\n",
              "    .dataframe thead th {\n",
              "        text-align: right;\n",
              "    }\n",
              "</style>\n",
              "<table border=\"1\" class=\"dataframe\">\n",
              "  <thead>\n",
              "    <tr style=\"text-align: right;\">\n",
              "      <th></th>\n",
              "      <th>Unnamed: 0.1</th>\n",
              "      <th>Unnamed: 0</th>\n",
              "      <th>domain</th>\n",
              "      <th>date</th>\n",
              "      <th>title</th>\n",
              "      <th>description</th>\n",
              "      <th>text</th>\n",
              "      <th>leaning-label</th>\n",
              "      <th>numerical-label</th>\n",
              "      <th>text-processed</th>\n",
              "      <th>glove</th>\n",
              "    </tr>\n",
              "  </thead>\n",
              "  <tbody>\n",
              "    <tr>\n",
              "      <th>0</th>\n",
              "      <td>0</td>\n",
              "      <td>0</td>\n",
              "      <td>www.yahoo.com</td>\n",
              "      <td>2017-04-17 05:27:27</td>\n",
              "      <td>Cleveland Shooter Disowned By Family On Twitter</td>\n",
              "      <td>Cleveland Police issued an aggravated murder w...</td>\n",
              "      <td>Donald Harvey, also dubbed as the 'Angel of De...</td>\n",
              "      <td>conservative</td>\n",
              "      <td>1</td>\n",
              "      <td>['donald', 'harvey', 'also', 'dubbed', \"'angel...</td>\n",
              "      <td>[ 3.88289765e-02  3.52482736e-01 -1.65528178e-...</td>\n",
              "    </tr>\n",
              "    <tr>\n",
              "      <th>1</th>\n",
              "      <td>1</td>\n",
              "      <td>1</td>\n",
              "      <td>www.yahoo.com</td>\n",
              "      <td>2017-10-07 04:31:25</td>\n",
              "      <td>Weinstein Company launches probe into co-found...</td>\n",
              "      <td>Movie company says it is taking claims “very s...</td>\n",
              "      <td>Movie company says it is taking claims “very s...</td>\n",
              "      <td>conservative</td>\n",
              "      <td>1</td>\n",
              "      <td>['movie', 'company', 'say', 'taking', 'claim',...</td>\n",
              "      <td>[ 3.54850814e-02  3.65439028e-01 -1.70050338e-...</td>\n",
              "    </tr>\n",
              "    <tr>\n",
              "      <th>2</th>\n",
              "      <td>2</td>\n",
              "      <td>2</td>\n",
              "      <td>www.yahoo.com</td>\n",
              "      <td>2017-02-15 15:22:55</td>\n",
              "      <td>Hilary Duff's Ex-Husband Mike Comrie Investiga...</td>\n",
              "      <td>Former NHL star Mike Comrie — once married to ...</td>\n",
              "      <td>Former NHL star Mike Comrie — once married to ...</td>\n",
              "      <td>conservative</td>\n",
              "      <td>1</td>\n",
              "      <td>['former', 'nhl', 'star', 'mike', 'comrie', 'm...</td>\n",
              "      <td>[ 4.65401746e-02  3.00333530e-01 -1.69149548e-...</td>\n",
              "    </tr>\n",
              "    <tr>\n",
              "      <th>3</th>\n",
              "      <td>3</td>\n",
              "      <td>3</td>\n",
              "      <td>www.yahoo.com</td>\n",
              "      <td>2017-04-17 22:55:18</td>\n",
              "      <td>At 117, Jamaican woman likely just became worl...</td>\n",
              "      <td>DUANVALE, Jamaica (AP) — Violet Brown spent mu...</td>\n",
              "      <td>The world's oldest person Violet Brown, center...</td>\n",
              "      <td>conservative</td>\n",
              "      <td>1</td>\n",
              "      <td>['world', \"'s\", 'oldest', 'person', 'violet', ...</td>\n",
              "      <td>[ 0.03888576  0.34846243 -0.18184175 -0.045955...</td>\n",
              "    </tr>\n",
              "    <tr>\n",
              "      <th>4</th>\n",
              "      <td>4</td>\n",
              "      <td>4</td>\n",
              "      <td>www.yahoo.com</td>\n",
              "      <td>2017-01-02 00:00:00</td>\n",
              "      <td>Mark Hamill's Carrie Fisher Tribute: \"Making H...</td>\n",
              "      <td>\"She was a handful, but my life would have bee...</td>\n",
              "      <td>(Photo: Albert L. Ortega/Gettyimages)\\nCarrie ...</td>\n",
              "      <td>conservative</td>\n",
              "      <td>1</td>\n",
              "      <td>['photo', 'albert', 'l', 'ortega', 'gettyimage...</td>\n",
              "      <td>[ 4.18273769e-02  3.18093181e-01 -1.80329308e-...</td>\n",
              "    </tr>\n",
              "  </tbody>\n",
              "</table>\n",
              "</div>\n",
              "    <div class=\"colab-df-buttons\">\n",
              "\n",
              "  <div class=\"colab-df-container\">\n",
              "    <button class=\"colab-df-convert\" onclick=\"convertToInteractive('df-88421937-4a29-4bca-a283-8b4786b433d3')\"\n",
              "            title=\"Convert this dataframe to an interactive table.\"\n",
              "            style=\"display:none;\">\n",
              "\n",
              "  <svg xmlns=\"http://www.w3.org/2000/svg\" height=\"24px\" viewBox=\"0 -960 960 960\">\n",
              "    <path d=\"M120-120v-720h720v720H120Zm60-500h600v-160H180v160Zm220 220h160v-160H400v160Zm0 220h160v-160H400v160ZM180-400h160v-160H180v160Zm440 0h160v-160H620v160ZM180-180h160v-160H180v160Zm440 0h160v-160H620v160Z\"/>\n",
              "  </svg>\n",
              "    </button>\n",
              "\n",
              "  <style>\n",
              "    .colab-df-container {\n",
              "      display:flex;\n",
              "      gap: 12px;\n",
              "    }\n",
              "\n",
              "    .colab-df-convert {\n",
              "      background-color: #E8F0FE;\n",
              "      border: none;\n",
              "      border-radius: 50%;\n",
              "      cursor: pointer;\n",
              "      display: none;\n",
              "      fill: #1967D2;\n",
              "      height: 32px;\n",
              "      padding: 0 0 0 0;\n",
              "      width: 32px;\n",
              "    }\n",
              "\n",
              "    .colab-df-convert:hover {\n",
              "      background-color: #E2EBFA;\n",
              "      box-shadow: 0px 1px 2px rgba(60, 64, 67, 0.3), 0px 1px 3px 1px rgba(60, 64, 67, 0.15);\n",
              "      fill: #174EA6;\n",
              "    }\n",
              "\n",
              "    .colab-df-buttons div {\n",
              "      margin-bottom: 4px;\n",
              "    }\n",
              "\n",
              "    [theme=dark] .colab-df-convert {\n",
              "      background-color: #3B4455;\n",
              "      fill: #D2E3FC;\n",
              "    }\n",
              "\n",
              "    [theme=dark] .colab-df-convert:hover {\n",
              "      background-color: #434B5C;\n",
              "      box-shadow: 0px 1px 3px 1px rgba(0, 0, 0, 0.15);\n",
              "      filter: drop-shadow(0px 1px 2px rgba(0, 0, 0, 0.3));\n",
              "      fill: #FFFFFF;\n",
              "    }\n",
              "  </style>\n",
              "\n",
              "    <script>\n",
              "      const buttonEl =\n",
              "        document.querySelector('#df-88421937-4a29-4bca-a283-8b4786b433d3 button.colab-df-convert');\n",
              "      buttonEl.style.display =\n",
              "        google.colab.kernel.accessAllowed ? 'block' : 'none';\n",
              "\n",
              "      async function convertToInteractive(key) {\n",
              "        const element = document.querySelector('#df-88421937-4a29-4bca-a283-8b4786b433d3');\n",
              "        const dataTable =\n",
              "          await google.colab.kernel.invokeFunction('convertToInteractive',\n",
              "                                                    [key], {});\n",
              "        if (!dataTable) return;\n",
              "\n",
              "        const docLinkHtml = 'Like what you see? Visit the ' +\n",
              "          '<a target=\"_blank\" href=https://colab.research.google.com/notebooks/data_table.ipynb>data table notebook</a>'\n",
              "          + ' to learn more about interactive tables.';\n",
              "        element.innerHTML = '';\n",
              "        dataTable['output_type'] = 'display_data';\n",
              "        await google.colab.output.renderOutput(dataTable, element);\n",
              "        const docLink = document.createElement('div');\n",
              "        docLink.innerHTML = docLinkHtml;\n",
              "        element.appendChild(docLink);\n",
              "      }\n",
              "    </script>\n",
              "  </div>\n",
              "\n",
              "\n",
              "<div id=\"df-ba796d24-f03b-40c4-b8ca-be20d481f2b5\">\n",
              "  <button class=\"colab-df-quickchart\" onclick=\"quickchart('df-ba796d24-f03b-40c4-b8ca-be20d481f2b5')\"\n",
              "            title=\"Suggest charts\"\n",
              "            style=\"display:none;\">\n",
              "\n",
              "<svg xmlns=\"http://www.w3.org/2000/svg\" height=\"24px\"viewBox=\"0 0 24 24\"\n",
              "     width=\"24px\">\n",
              "    <g>\n",
              "        <path d=\"M19 3H5c-1.1 0-2 .9-2 2v14c0 1.1.9 2 2 2h14c1.1 0 2-.9 2-2V5c0-1.1-.9-2-2-2zM9 17H7v-7h2v7zm4 0h-2V7h2v10zm4 0h-2v-4h2v4z\"/>\n",
              "    </g>\n",
              "</svg>\n",
              "  </button>\n",
              "\n",
              "<style>\n",
              "  .colab-df-quickchart {\n",
              "      --bg-color: #E8F0FE;\n",
              "      --fill-color: #1967D2;\n",
              "      --hover-bg-color: #E2EBFA;\n",
              "      --hover-fill-color: #174EA6;\n",
              "      --disabled-fill-color: #AAA;\n",
              "      --disabled-bg-color: #DDD;\n",
              "  }\n",
              "\n",
              "  [theme=dark] .colab-df-quickchart {\n",
              "      --bg-color: #3B4455;\n",
              "      --fill-color: #D2E3FC;\n",
              "      --hover-bg-color: #434B5C;\n",
              "      --hover-fill-color: #FFFFFF;\n",
              "      --disabled-bg-color: #3B4455;\n",
              "      --disabled-fill-color: #666;\n",
              "  }\n",
              "\n",
              "  .colab-df-quickchart {\n",
              "    background-color: var(--bg-color);\n",
              "    border: none;\n",
              "    border-radius: 50%;\n",
              "    cursor: pointer;\n",
              "    display: none;\n",
              "    fill: var(--fill-color);\n",
              "    height: 32px;\n",
              "    padding: 0;\n",
              "    width: 32px;\n",
              "  }\n",
              "\n",
              "  .colab-df-quickchart:hover {\n",
              "    background-color: var(--hover-bg-color);\n",
              "    box-shadow: 0 1px 2px rgba(60, 64, 67, 0.3), 0 1px 3px 1px rgba(60, 64, 67, 0.15);\n",
              "    fill: var(--button-hover-fill-color);\n",
              "  }\n",
              "\n",
              "  .colab-df-quickchart-complete:disabled,\n",
              "  .colab-df-quickchart-complete:disabled:hover {\n",
              "    background-color: var(--disabled-bg-color);\n",
              "    fill: var(--disabled-fill-color);\n",
              "    box-shadow: none;\n",
              "  }\n",
              "\n",
              "  .colab-df-spinner {\n",
              "    border: 2px solid var(--fill-color);\n",
              "    border-color: transparent;\n",
              "    border-bottom-color: var(--fill-color);\n",
              "    animation:\n",
              "      spin 1s steps(1) infinite;\n",
              "  }\n",
              "\n",
              "  @keyframes spin {\n",
              "    0% {\n",
              "      border-color: transparent;\n",
              "      border-bottom-color: var(--fill-color);\n",
              "      border-left-color: var(--fill-color);\n",
              "    }\n",
              "    20% {\n",
              "      border-color: transparent;\n",
              "      border-left-color: var(--fill-color);\n",
              "      border-top-color: var(--fill-color);\n",
              "    }\n",
              "    30% {\n",
              "      border-color: transparent;\n",
              "      border-left-color: var(--fill-color);\n",
              "      border-top-color: var(--fill-color);\n",
              "      border-right-color: var(--fill-color);\n",
              "    }\n",
              "    40% {\n",
              "      border-color: transparent;\n",
              "      border-right-color: var(--fill-color);\n",
              "      border-top-color: var(--fill-color);\n",
              "    }\n",
              "    60% {\n",
              "      border-color: transparent;\n",
              "      border-right-color: var(--fill-color);\n",
              "    }\n",
              "    80% {\n",
              "      border-color: transparent;\n",
              "      border-right-color: var(--fill-color);\n",
              "      border-bottom-color: var(--fill-color);\n",
              "    }\n",
              "    90% {\n",
              "      border-color: transparent;\n",
              "      border-bottom-color: var(--fill-color);\n",
              "    }\n",
              "  }\n",
              "</style>\n",
              "\n",
              "  <script>\n",
              "    async function quickchart(key) {\n",
              "      const quickchartButtonEl =\n",
              "        document.querySelector('#' + key + ' button');\n",
              "      quickchartButtonEl.disabled = true;  // To prevent multiple clicks.\n",
              "      quickchartButtonEl.classList.add('colab-df-spinner');\n",
              "      try {\n",
              "        const charts = await google.colab.kernel.invokeFunction(\n",
              "            'suggestCharts', [key], {});\n",
              "      } catch (error) {\n",
              "        console.error('Error during call to suggestCharts:', error);\n",
              "      }\n",
              "      quickchartButtonEl.classList.remove('colab-df-spinner');\n",
              "      quickchartButtonEl.classList.add('colab-df-quickchart-complete');\n",
              "    }\n",
              "    (() => {\n",
              "      let quickchartButtonEl =\n",
              "        document.querySelector('#df-ba796d24-f03b-40c4-b8ca-be20d481f2b5 button');\n",
              "      quickchartButtonEl.style.display =\n",
              "        google.colab.kernel.accessAllowed ? 'block' : 'none';\n",
              "    })();\n",
              "  </script>\n",
              "</div>\n",
              "    </div>\n",
              "  </div>\n"
            ]
          },
          "metadata": {},
          "execution_count": 9
        }
      ]
    },
    {
      "cell_type": "markdown",
      "source": [
        "## 3. Split Dataset: train-test-split"
      ],
      "metadata": {
        "id": "5iCYFO4enKE_"
      }
    },
    {
      "cell_type": "markdown",
      "source": [
        "Now, we can split our dataset to a train set and a test set. That way, we can train our classifier and test it on \"unknown\" data for accuracy.\n",
        "\n",
        "Reference: https://scikit-learn.org/stable/modules/generated/sklearn.model_selection.train_test_split.html"
      ],
      "metadata": {
        "id": "MDZmjrP0wvcF"
      }
    },
    {
      "cell_type": "code",
      "source": [
        "from sklearn.model_selection import train_test_split"
      ],
      "metadata": {
        "id": "rOM_LLc4rX5h"
      },
      "execution_count": null,
      "outputs": []
    },
    {
      "cell_type": "code",
      "source": [
        "train, test = train_test_split(news_features, test_size = 0.2)"
      ],
      "metadata": {
        "id": "EUXrh5U0raNo"
      },
      "execution_count": null,
      "outputs": []
    },
    {
      "cell_type": "code",
      "source": [
        "train.head()"
      ],
      "metadata": {
        "colab": {
          "base_uri": "https://localhost:8080/",
          "height": 694
        },
        "id": "eK-64ZxkrhLU",
        "outputId": "9098006b-e8c2-4c24-f0b2-4f15184c0fb8"
      },
      "execution_count": null,
      "outputs": [
        {
          "output_type": "execute_result",
          "data": {
            "text/plain": [
              "       Unnamed: 0.1  Unnamed: 0           domain                 date  \\\n",
              "10372         10372       10372      www.cnn.com  2017-04-17 17:32:41   \n",
              "6253           6253        6253  www.foxnews.com  2018-02-02 21:45:00   \n",
              "4389           4389        4389      thehill.com  2018-03-19 10:14:06   \n",
              "8346           8346        8346   www.forbes.com  2017-10-06 13:44:00   \n",
              "6531           6531        6531  www.foxnews.com  2017-08-14 22:21:00   \n",
              "\n",
              "                                                   title  \\\n",
              "10372  If you think Atlanta traffic is terrible, it j...   \n",
              "6253   Missouri soldier returns home early and surpri...   \n",
              "4389   GOP Senate candidate slams McCaskill over Clin...   \n",
              "8346   Is It Lights Out For Kaspersky After Latest NS...   \n",
              "6531   Stanton breaks Marlins season HR record in win...   \n",
              "\n",
              "                                             description  \\\n",
              "10372  An underground gas leak caused a portion of I-...   \n",
              "6253   A Missouri soldier surprised his son at school...   \n",
              "4389   The top Republican candidate running to face Sen.   \n",
              "8346   Kaspersky isn't definitively done in America, ...   \n",
              "6531   Giancarlo Stanton sets the Miami Marlins recor...   \n",
              "\n",
              "                                                    text leaning-label  \\\n",
              "10372  (CNN) Atlanta's running out of interstates.\\nT...       liberal   \n",
              "6253   A Missouri soldier gave his son a special birt...  conservative   \n",
              "4389   The top Republican candidate running to face S...      moderate   \n",
              "8346   How long can Kaspersky survive the assault on ...      moderate   \n",
              "6531   MIAMI (AP) -- Giancarlo Stanton hit his team-r...  conservative   \n",
              "\n",
              "       numerical-label                                     text-processed  \\\n",
              "10372                2  ['cnn', 'atlanta', \"'s\", 'running', 'interstat...   \n",
              "6253                 1  ['missouri', 'soldier', 'gave', 'son', 'specia...   \n",
              "4389                 0  ['top', 'republican', 'candidate', 'running', ...   \n",
              "8346                 0  ['long', 'kaspersky', 'survive', 'assault', 'b...   \n",
              "6531                 1  ['miami', 'ap', 'giancarlo', 'stanton', 'hit',...   \n",
              "\n",
              "                                                   glove  \n",
              "10372  [ 6.04905523e-02  3.24522138e-01 -1.76917225e-...  \n",
              "6253   [ 0.02821473  0.3636754  -0.17310047 -0.051173...  \n",
              "4389   [ 0.05036669  0.31638792 -0.17640485 -0.052371...  \n",
              "8346   [ 4.58879545e-02  3.69129270e-01 -1.73489451e-...  \n",
              "6531   [ 4.81091663e-02  2.76806742e-01 -1.82998374e-...  "
            ],
            "text/html": [
              "\n",
              "  <div id=\"df-ab314cdc-743b-486f-80c6-1160421e43d7\" class=\"colab-df-container\">\n",
              "    <div>\n",
              "<style scoped>\n",
              "    .dataframe tbody tr th:only-of-type {\n",
              "        vertical-align: middle;\n",
              "    }\n",
              "\n",
              "    .dataframe tbody tr th {\n",
              "        vertical-align: top;\n",
              "    }\n",
              "\n",
              "    .dataframe thead th {\n",
              "        text-align: right;\n",
              "    }\n",
              "</style>\n",
              "<table border=\"1\" class=\"dataframe\">\n",
              "  <thead>\n",
              "    <tr style=\"text-align: right;\">\n",
              "      <th></th>\n",
              "      <th>Unnamed: 0.1</th>\n",
              "      <th>Unnamed: 0</th>\n",
              "      <th>domain</th>\n",
              "      <th>date</th>\n",
              "      <th>title</th>\n",
              "      <th>description</th>\n",
              "      <th>text</th>\n",
              "      <th>leaning-label</th>\n",
              "      <th>numerical-label</th>\n",
              "      <th>text-processed</th>\n",
              "      <th>glove</th>\n",
              "    </tr>\n",
              "  </thead>\n",
              "  <tbody>\n",
              "    <tr>\n",
              "      <th>10372</th>\n",
              "      <td>10372</td>\n",
              "      <td>10372</td>\n",
              "      <td>www.cnn.com</td>\n",
              "      <td>2017-04-17 17:32:41</td>\n",
              "      <td>If you think Atlanta traffic is terrible, it j...</td>\n",
              "      <td>An underground gas leak caused a portion of I-...</td>\n",
              "      <td>(CNN) Atlanta's running out of interstates.\\nT...</td>\n",
              "      <td>liberal</td>\n",
              "      <td>2</td>\n",
              "      <td>['cnn', 'atlanta', \"'s\", 'running', 'interstat...</td>\n",
              "      <td>[ 6.04905523e-02  3.24522138e-01 -1.76917225e-...</td>\n",
              "    </tr>\n",
              "    <tr>\n",
              "      <th>6253</th>\n",
              "      <td>6253</td>\n",
              "      <td>6253</td>\n",
              "      <td>www.foxnews.com</td>\n",
              "      <td>2018-02-02 21:45:00</td>\n",
              "      <td>Missouri soldier returns home early and surpri...</td>\n",
              "      <td>A Missouri soldier surprised his son at school...</td>\n",
              "      <td>A Missouri soldier gave his son a special birt...</td>\n",
              "      <td>conservative</td>\n",
              "      <td>1</td>\n",
              "      <td>['missouri', 'soldier', 'gave', 'son', 'specia...</td>\n",
              "      <td>[ 0.02821473  0.3636754  -0.17310047 -0.051173...</td>\n",
              "    </tr>\n",
              "    <tr>\n",
              "      <th>4389</th>\n",
              "      <td>4389</td>\n",
              "      <td>4389</td>\n",
              "      <td>thehill.com</td>\n",
              "      <td>2018-03-19 10:14:06</td>\n",
              "      <td>GOP Senate candidate slams McCaskill over Clin...</td>\n",
              "      <td>The top Republican candidate running to face Sen.</td>\n",
              "      <td>The top Republican candidate running to face S...</td>\n",
              "      <td>moderate</td>\n",
              "      <td>0</td>\n",
              "      <td>['top', 'republican', 'candidate', 'running', ...</td>\n",
              "      <td>[ 0.05036669  0.31638792 -0.17640485 -0.052371...</td>\n",
              "    </tr>\n",
              "    <tr>\n",
              "      <th>8346</th>\n",
              "      <td>8346</td>\n",
              "      <td>8346</td>\n",
              "      <td>www.forbes.com</td>\n",
              "      <td>2017-10-06 13:44:00</td>\n",
              "      <td>Is It Lights Out For Kaspersky After Latest NS...</td>\n",
              "      <td>Kaspersky isn't definitively done in America, ...</td>\n",
              "      <td>How long can Kaspersky survive the assault on ...</td>\n",
              "      <td>moderate</td>\n",
              "      <td>0</td>\n",
              "      <td>['long', 'kaspersky', 'survive', 'assault', 'b...</td>\n",
              "      <td>[ 4.58879545e-02  3.69129270e-01 -1.73489451e-...</td>\n",
              "    </tr>\n",
              "    <tr>\n",
              "      <th>6531</th>\n",
              "      <td>6531</td>\n",
              "      <td>6531</td>\n",
              "      <td>www.foxnews.com</td>\n",
              "      <td>2017-08-14 22:21:00</td>\n",
              "      <td>Stanton breaks Marlins season HR record in win...</td>\n",
              "      <td>Giancarlo Stanton sets the Miami Marlins recor...</td>\n",
              "      <td>MIAMI (AP) -- Giancarlo Stanton hit his team-r...</td>\n",
              "      <td>conservative</td>\n",
              "      <td>1</td>\n",
              "      <td>['miami', 'ap', 'giancarlo', 'stanton', 'hit',...</td>\n",
              "      <td>[ 4.81091663e-02  2.76806742e-01 -1.82998374e-...</td>\n",
              "    </tr>\n",
              "  </tbody>\n",
              "</table>\n",
              "</div>\n",
              "    <div class=\"colab-df-buttons\">\n",
              "\n",
              "  <div class=\"colab-df-container\">\n",
              "    <button class=\"colab-df-convert\" onclick=\"convertToInteractive('df-ab314cdc-743b-486f-80c6-1160421e43d7')\"\n",
              "            title=\"Convert this dataframe to an interactive table.\"\n",
              "            style=\"display:none;\">\n",
              "\n",
              "  <svg xmlns=\"http://www.w3.org/2000/svg\" height=\"24px\" viewBox=\"0 -960 960 960\">\n",
              "    <path d=\"M120-120v-720h720v720H120Zm60-500h600v-160H180v160Zm220 220h160v-160H400v160Zm0 220h160v-160H400v160ZM180-400h160v-160H180v160Zm440 0h160v-160H620v160ZM180-180h160v-160H180v160Zm440 0h160v-160H620v160Z\"/>\n",
              "  </svg>\n",
              "    </button>\n",
              "\n",
              "  <style>\n",
              "    .colab-df-container {\n",
              "      display:flex;\n",
              "      gap: 12px;\n",
              "    }\n",
              "\n",
              "    .colab-df-convert {\n",
              "      background-color: #E8F0FE;\n",
              "      border: none;\n",
              "      border-radius: 50%;\n",
              "      cursor: pointer;\n",
              "      display: none;\n",
              "      fill: #1967D2;\n",
              "      height: 32px;\n",
              "      padding: 0 0 0 0;\n",
              "      width: 32px;\n",
              "    }\n",
              "\n",
              "    .colab-df-convert:hover {\n",
              "      background-color: #E2EBFA;\n",
              "      box-shadow: 0px 1px 2px rgba(60, 64, 67, 0.3), 0px 1px 3px 1px rgba(60, 64, 67, 0.15);\n",
              "      fill: #174EA6;\n",
              "    }\n",
              "\n",
              "    .colab-df-buttons div {\n",
              "      margin-bottom: 4px;\n",
              "    }\n",
              "\n",
              "    [theme=dark] .colab-df-convert {\n",
              "      background-color: #3B4455;\n",
              "      fill: #D2E3FC;\n",
              "    }\n",
              "\n",
              "    [theme=dark] .colab-df-convert:hover {\n",
              "      background-color: #434B5C;\n",
              "      box-shadow: 0px 1px 3px 1px rgba(0, 0, 0, 0.15);\n",
              "      filter: drop-shadow(0px 1px 2px rgba(0, 0, 0, 0.3));\n",
              "      fill: #FFFFFF;\n",
              "    }\n",
              "  </style>\n",
              "\n",
              "    <script>\n",
              "      const buttonEl =\n",
              "        document.querySelector('#df-ab314cdc-743b-486f-80c6-1160421e43d7 button.colab-df-convert');\n",
              "      buttonEl.style.display =\n",
              "        google.colab.kernel.accessAllowed ? 'block' : 'none';\n",
              "\n",
              "      async function convertToInteractive(key) {\n",
              "        const element = document.querySelector('#df-ab314cdc-743b-486f-80c6-1160421e43d7');\n",
              "        const dataTable =\n",
              "          await google.colab.kernel.invokeFunction('convertToInteractive',\n",
              "                                                    [key], {});\n",
              "        if (!dataTable) return;\n",
              "\n",
              "        const docLinkHtml = 'Like what you see? Visit the ' +\n",
              "          '<a target=\"_blank\" href=https://colab.research.google.com/notebooks/data_table.ipynb>data table notebook</a>'\n",
              "          + ' to learn more about interactive tables.';\n",
              "        element.innerHTML = '';\n",
              "        dataTable['output_type'] = 'display_data';\n",
              "        await google.colab.output.renderOutput(dataTable, element);\n",
              "        const docLink = document.createElement('div');\n",
              "        docLink.innerHTML = docLinkHtml;\n",
              "        element.appendChild(docLink);\n",
              "      }\n",
              "    </script>\n",
              "  </div>\n",
              "\n",
              "\n",
              "<div id=\"df-14437ebf-c1f3-4d5e-8cca-44a60569d5c7\">\n",
              "  <button class=\"colab-df-quickchart\" onclick=\"quickchart('df-14437ebf-c1f3-4d5e-8cca-44a60569d5c7')\"\n",
              "            title=\"Suggest charts\"\n",
              "            style=\"display:none;\">\n",
              "\n",
              "<svg xmlns=\"http://www.w3.org/2000/svg\" height=\"24px\"viewBox=\"0 0 24 24\"\n",
              "     width=\"24px\">\n",
              "    <g>\n",
              "        <path d=\"M19 3H5c-1.1 0-2 .9-2 2v14c0 1.1.9 2 2 2h14c1.1 0 2-.9 2-2V5c0-1.1-.9-2-2-2zM9 17H7v-7h2v7zm4 0h-2V7h2v10zm4 0h-2v-4h2v4z\"/>\n",
              "    </g>\n",
              "</svg>\n",
              "  </button>\n",
              "\n",
              "<style>\n",
              "  .colab-df-quickchart {\n",
              "      --bg-color: #E8F0FE;\n",
              "      --fill-color: #1967D2;\n",
              "      --hover-bg-color: #E2EBFA;\n",
              "      --hover-fill-color: #174EA6;\n",
              "      --disabled-fill-color: #AAA;\n",
              "      --disabled-bg-color: #DDD;\n",
              "  }\n",
              "\n",
              "  [theme=dark] .colab-df-quickchart {\n",
              "      --bg-color: #3B4455;\n",
              "      --fill-color: #D2E3FC;\n",
              "      --hover-bg-color: #434B5C;\n",
              "      --hover-fill-color: #FFFFFF;\n",
              "      --disabled-bg-color: #3B4455;\n",
              "      --disabled-fill-color: #666;\n",
              "  }\n",
              "\n",
              "  .colab-df-quickchart {\n",
              "    background-color: var(--bg-color);\n",
              "    border: none;\n",
              "    border-radius: 50%;\n",
              "    cursor: pointer;\n",
              "    display: none;\n",
              "    fill: var(--fill-color);\n",
              "    height: 32px;\n",
              "    padding: 0;\n",
              "    width: 32px;\n",
              "  }\n",
              "\n",
              "  .colab-df-quickchart:hover {\n",
              "    background-color: var(--hover-bg-color);\n",
              "    box-shadow: 0 1px 2px rgba(60, 64, 67, 0.3), 0 1px 3px 1px rgba(60, 64, 67, 0.15);\n",
              "    fill: var(--button-hover-fill-color);\n",
              "  }\n",
              "\n",
              "  .colab-df-quickchart-complete:disabled,\n",
              "  .colab-df-quickchart-complete:disabled:hover {\n",
              "    background-color: var(--disabled-bg-color);\n",
              "    fill: var(--disabled-fill-color);\n",
              "    box-shadow: none;\n",
              "  }\n",
              "\n",
              "  .colab-df-spinner {\n",
              "    border: 2px solid var(--fill-color);\n",
              "    border-color: transparent;\n",
              "    border-bottom-color: var(--fill-color);\n",
              "    animation:\n",
              "      spin 1s steps(1) infinite;\n",
              "  }\n",
              "\n",
              "  @keyframes spin {\n",
              "    0% {\n",
              "      border-color: transparent;\n",
              "      border-bottom-color: var(--fill-color);\n",
              "      border-left-color: var(--fill-color);\n",
              "    }\n",
              "    20% {\n",
              "      border-color: transparent;\n",
              "      border-left-color: var(--fill-color);\n",
              "      border-top-color: var(--fill-color);\n",
              "    }\n",
              "    30% {\n",
              "      border-color: transparent;\n",
              "      border-left-color: var(--fill-color);\n",
              "      border-top-color: var(--fill-color);\n",
              "      border-right-color: var(--fill-color);\n",
              "    }\n",
              "    40% {\n",
              "      border-color: transparent;\n",
              "      border-right-color: var(--fill-color);\n",
              "      border-top-color: var(--fill-color);\n",
              "    }\n",
              "    60% {\n",
              "      border-color: transparent;\n",
              "      border-right-color: var(--fill-color);\n",
              "    }\n",
              "    80% {\n",
              "      border-color: transparent;\n",
              "      border-right-color: var(--fill-color);\n",
              "      border-bottom-color: var(--fill-color);\n",
              "    }\n",
              "    90% {\n",
              "      border-color: transparent;\n",
              "      border-bottom-color: var(--fill-color);\n",
              "    }\n",
              "  }\n",
              "</style>\n",
              "\n",
              "  <script>\n",
              "    async function quickchart(key) {\n",
              "      const quickchartButtonEl =\n",
              "        document.querySelector('#' + key + ' button');\n",
              "      quickchartButtonEl.disabled = true;  // To prevent multiple clicks.\n",
              "      quickchartButtonEl.classList.add('colab-df-spinner');\n",
              "      try {\n",
              "        const charts = await google.colab.kernel.invokeFunction(\n",
              "            'suggestCharts', [key], {});\n",
              "      } catch (error) {\n",
              "        console.error('Error during call to suggestCharts:', error);\n",
              "      }\n",
              "      quickchartButtonEl.classList.remove('colab-df-spinner');\n",
              "      quickchartButtonEl.classList.add('colab-df-quickchart-complete');\n",
              "    }\n",
              "    (() => {\n",
              "      let quickchartButtonEl =\n",
              "        document.querySelector('#df-14437ebf-c1f3-4d5e-8cca-44a60569d5c7 button');\n",
              "      quickchartButtonEl.style.display =\n",
              "        google.colab.kernel.accessAllowed ? 'block' : 'none';\n",
              "    })();\n",
              "  </script>\n",
              "</div>\n",
              "    </div>\n",
              "  </div>\n"
            ]
          },
          "metadata": {},
          "execution_count": 14
        }
      ]
    },
    {
      "cell_type": "markdown",
      "source": [
        "Let's run a count to make sure that worked!"
      ],
      "metadata": {
        "id": "dXfGBUDow1eX"
      }
    },
    {
      "cell_type": "code",
      "source": [
        "train.count()"
      ],
      "metadata": {
        "colab": {
          "base_uri": "https://localhost:8080/"
        },
        "id": "qR1iQ2lsrjMa",
        "outputId": "a4dd808b-4eed-4d00-e869-50fecaffc54b"
      },
      "execution_count": null,
      "outputs": [
        {
          "output_type": "execute_result",
          "data": {
            "text/plain": [
              "Unnamed: 0.1       8444\n",
              "Unnamed: 0         8444\n",
              "domain             8444\n",
              "date               8438\n",
              "title              8444\n",
              "description        8377\n",
              "text               8444\n",
              "leaning-label      8444\n",
              "numerical-label    8444\n",
              "text-processed     8444\n",
              "glove              8444\n",
              "dtype: int64"
            ]
          },
          "metadata": {},
          "execution_count": 15
        }
      ]
    },
    {
      "cell_type": "code",
      "source": [
        "test.count()"
      ],
      "metadata": {
        "colab": {
          "base_uri": "https://localhost:8080/"
        },
        "id": "PMWJyOaurkOF",
        "outputId": "728db571-e057-4a2a-dd66-7a7c437b5f0c"
      },
      "execution_count": null,
      "outputs": [
        {
          "output_type": "execute_result",
          "data": {
            "text/plain": [
              "Unnamed: 0.1       2111\n",
              "Unnamed: 0         2111\n",
              "domain             2111\n",
              "date               2107\n",
              "title              2111\n",
              "description        2094\n",
              "text               2111\n",
              "leaning-label      2111\n",
              "numerical-label    2111\n",
              "text-processed     2111\n",
              "glove              2111\n",
              "dtype: int64"
            ]
          },
          "metadata": {},
          "execution_count": 16
        }
      ]
    },
    {
      "cell_type": "code",
      "source": [
        "train.groupby('leaning-label').size()"
      ],
      "metadata": {
        "colab": {
          "base_uri": "https://localhost:8080/"
        },
        "id": "NkzfMUDQrpRh",
        "outputId": "0f9e5cfa-3470-4765-e57e-18de2ed44467"
      },
      "execution_count": null,
      "outputs": [
        {
          "output_type": "execute_result",
          "data": {
            "text/plain": [
              "leaning-label\n",
              "conservative    2695\n",
              "liberal         2778\n",
              "moderate        2971\n",
              "dtype: int64"
            ]
          },
          "metadata": {},
          "execution_count": 17
        }
      ]
    },
    {
      "cell_type": "code",
      "source": [
        "test.groupby('leaning-label').size()"
      ],
      "metadata": {
        "colab": {
          "base_uri": "https://localhost:8080/"
        },
        "id": "j-SKJqAjrsu3",
        "outputId": "dd6a2e7b-2758-4379-d0ce-1f89e9b54122"
      },
      "execution_count": null,
      "outputs": [
        {
          "output_type": "execute_result",
          "data": {
            "text/plain": [
              "leaning-label\n",
              "conservative    699\n",
              "liberal         683\n",
              "moderate        729\n",
              "dtype: int64"
            ]
          },
          "metadata": {},
          "execution_count": 18
        }
      ]
    },
    {
      "cell_type": "markdown",
      "source": [
        "Now, we can featurize our text tokens that we pulled earlier, into Bag of Words, N-Gram, and TF-IDF featurs. We will start by importing `CountVectorizer` and `TfidfVectorizer` to usue as tools to get these features.\n",
        "\n",
        "References:\n",
        "\n",
        "- https://scikit-learn.org/stable/modules/generated/sklearn.feature_extraction.text.CountVectorizer.html\n",
        "- https://scikit-learn.org/stable/modules/generated/sklearn.feature_extraction.text.TfidfVectorizer.html\n",
        "- Dr. Abhijit Mishra's NLP course lab materials"
      ],
      "metadata": {
        "id": "ZDfYLIk3w_mC"
      }
    },
    {
      "cell_type": "code",
      "source": [
        "from sklearn.feature_extraction.text import CountVectorizer\n",
        "from sklearn.feature_extraction.text import TfidfVectorizer\n",
        "\n",
        "from sklearn.metrics import accuracy_score"
      ],
      "metadata": {
        "id": "4GPwKn_1noEf"
      },
      "execution_count": null,
      "outputs": []
    },
    {
      "cell_type": "markdown",
      "source": [
        "Let's make sure the format is correct: we want to make sure we have a list of individual word tokens, in string format."
      ],
      "metadata": {
        "id": "vimgH_f9xLss"
      }
    },
    {
      "cell_type": "code",
      "source": [
        "X_train"
      ],
      "metadata": {
        "colab": {
          "base_uri": "https://localhost:8080/"
        },
        "id": "7nseqHTquk1K",
        "outputId": "a331c2e5-4ad1-4c24-d995-999980add527"
      },
      "execution_count": null,
      "outputs": [
        {
          "output_type": "execute_result",
          "data": {
            "text/plain": [
              "10372    ['cnn', 'atlanta', \"'s\", 'running', 'interstat...\n",
              "6253     ['missouri', 'soldier', 'gave', 'son', 'specia...\n",
              "4389     ['top', 'republican', 'candidate', 'running', ...\n",
              "8346     ['long', 'kaspersky', 'survive', 'assault', 'b...\n",
              "6531     ['miami', 'ap', 'giancarlo', 'stanton', 'hit',...\n",
              "                               ...                        \n",
              "8304     ['seem', 'impossible', 'person', 'reach', 'las...\n",
              "7812     ['photo', 'peter', 'lyon', 'moment', 'fan', 'r...\n",
              "4534     ['exclusive', 'interview', 'academy', 'award',...\n",
              "1211     ['image', 'copyright', 'twitter', 'image', 'ca...\n",
              "8532     ['bank', 'including', 'barclays', 'bank', 'ame...\n",
              "Name: text-processed, Length: 8444, dtype: object"
            ]
          },
          "metadata": {},
          "execution_count": 237
        }
      ]
    },
    {
      "cell_type": "code",
      "source": [
        "type(X_train)"
      ],
      "metadata": {
        "colab": {
          "base_uri": "https://localhost:8080/"
        },
        "id": "Jq9-Dx9quZ9l",
        "outputId": "1120ab50-35c8-45eb-b646-bf91c25942a8"
      },
      "execution_count": null,
      "outputs": [
        {
          "output_type": "execute_result",
          "data": {
            "text/plain": [
              "pandas.core.series.Series"
            ]
          },
          "metadata": {},
          "execution_count": 236
        }
      ]
    },
    {
      "cell_type": "markdown",
      "source": [
        "Now, we set our training data as those lists of tokens, and set our classification problem to the numerical label (0,1,2 for moderate, right, and left leaning)"
      ],
      "metadata": {
        "id": "cdB_2bZGxQZJ"
      }
    },
    {
      "cell_type": "code",
      "source": [
        "# Extract text and labels (reference: practicum 5)\n",
        "X_train = train['text-processed']\n",
        "y_train = train['numerical-label']\n",
        "\n",
        "X_test = test['text-processed']\n",
        "y_test = test['numerical-label']"
      ],
      "metadata": {
        "id": "L0Owk3bkoO2v"
      },
      "execution_count": null,
      "outputs": []
    },
    {
      "cell_type": "markdown",
      "source": [
        "Now, we featurize by setting three vectorizers, one for each feature, and we \"transform\" our data. **It is critical that we featurize both our training and testing data** because our model will not be able to predict off of data unless it is the same shape the model was trained on."
      ],
      "metadata": {
        "id": "LkcvG6vixjuN"
      }
    },
    {
      "cell_type": "code",
      "source": [
        "# Bag of Words\n",
        "vectorizer = CountVectorizer()\n",
        "X_train_bow = vectorizer.fit_transform(X_train)\n",
        "X_test_bow = vectorizer.transform(X_test)"
      ],
      "metadata": {
        "id": "7GiQtM_EyGEj"
      },
      "execution_count": null,
      "outputs": []
    },
    {
      "cell_type": "code",
      "source": [
        "# N-Grams\n",
        "ngram_vectorizer = CountVectorizer(ngram_range=(1,2))\n",
        "X_train_ngram = ngram_vectorizer.fit_transform(X_train)\n",
        "X_test_ngram = ngram_vectorizer.transform(X_test)"
      ],
      "metadata": {
        "id": "02J3vqdHyrOZ"
      },
      "execution_count": null,
      "outputs": []
    },
    {
      "cell_type": "code",
      "source": [
        "# TF-IDF\n",
        "tfidf_vectorizer = TfidfVectorizer()\n",
        "X_train_tfidf = tfidf_vectorizer.fit_transform(X_train)\n",
        "X_test_tfidf = tfidf_vectorizer.transform(X_test)"
      ],
      "metadata": {
        "id": "fewhD_nSyvi7"
      },
      "execution_count": null,
      "outputs": []
    },
    {
      "cell_type": "markdown",
      "source": [
        "Now, for the GloVe feature, we call our above GloVe function (the one that averages a vector for the entire document) and place it in an array."
      ],
      "metadata": {
        "id": "6cM8Ja0wyMe9"
      }
    },
    {
      "cell_type": "code",
      "source": [
        "import numpy as np"
      ],
      "metadata": {
        "id": "EIvQdFgTiHiT"
      },
      "execution_count": null,
      "outputs": []
    },
    {
      "cell_type": "code",
      "source": [
        "# GloVE (apply earlier function)\n",
        "X_train_glove = np.array([get_average_glove_vector(text) for text in X_train])\n",
        "X_test_glove = np.array([get_average_glove_vector(text) for text in X_test])"
      ],
      "metadata": {
        "id": "xRDbCv-enQJn"
      },
      "execution_count": null,
      "outputs": []
    },
    {
      "cell_type": "markdown",
      "source": [
        "Let's be sure that the \"x\" shape matches for all of our features."
      ],
      "metadata": {
        "id": "-Je2kX1gyS1m"
      }
    },
    {
      "cell_type": "code",
      "source": [
        "print(X_train.shape)\n",
        "print(X_train_bow.shape)\n",
        "print(X_train_ngram.shape)\n",
        "print(X_train_tfidf.shape)"
      ],
      "metadata": {
        "colab": {
          "base_uri": "https://localhost:8080/"
        },
        "id": "n33QbgLbyzPO",
        "outputId": "df0353ae-28ef-4ebe-e8f9-9351746a286c"
      },
      "execution_count": null,
      "outputs": [
        {
          "output_type": "stream",
          "name": "stdout",
          "text": [
            "(8444,)\n",
            "(8444, 62382)\n",
            "(8444, 1419558)\n",
            "(8444, 62382)\n"
          ]
        }
      ]
    },
    {
      "cell_type": "code",
      "source": [
        "print(X_test.shape)\n",
        "print(X_test_bow.shape)\n",
        "print(X_test_ngram.shape)\n",
        "print(X_test_tfidf.shape)"
      ],
      "metadata": {
        "colab": {
          "base_uri": "https://localhost:8080/"
        },
        "id": "0yxqiaUOy7Bc",
        "outputId": "aa9a4966-6e0a-47c0-f07e-2828f869de07"
      },
      "execution_count": null,
      "outputs": [
        {
          "output_type": "stream",
          "name": "stdout",
          "text": [
            "(2111,)\n",
            "(2111, 62382)\n",
            "(2111, 1419558)\n",
            "(2111, 62382)\n"
          ]
        }
      ]
    },
    {
      "cell_type": "code",
      "source": [
        "print(X_train_glove.shape)\n",
        "print(X_test_glove.shape)"
      ],
      "metadata": {
        "colab": {
          "base_uri": "https://localhost:8080/"
        },
        "id": "Gxi9SbetnaYe",
        "outputId": "5f127127-f156-4bee-ee3c-76b34fb59077"
      },
      "execution_count": null,
      "outputs": [
        {
          "output_type": "stream",
          "name": "stdout",
          "text": [
            "(8444, 200)\n",
            "(2111, 200)\n"
          ]
        }
      ]
    },
    {
      "cell_type": "markdown",
      "source": [
        "Great! Now we can combine our features below!"
      ],
      "metadata": {
        "id": "ugzqu7FSyV2G"
      }
    },
    {
      "cell_type": "markdown",
      "source": [
        "## 4. Compile Variables: hstack"
      ],
      "metadata": {
        "id": "ikGQf4DRnj2r"
      }
    },
    {
      "cell_type": "markdown",
      "source": [
        "We can simply use `hstack` to combine all features. Since we are doing a feature ablation study for some of the models, we will make several versions of different combinations.\n",
        "\n",
        "References:\n",
        "- https://numpy.org/doc/stable/reference/generated/numpy.hstack.html\n",
        "- https://stackoverflow.com/questions/54560836/how-to-combine-text-features-and-categorical-features-in-python"
      ],
      "metadata": {
        "id": "hl89sdiuyYSs"
      }
    },
    {
      "cell_type": "code",
      "source": [
        "import scipy.sparse as sp\n",
        "from scipy.sparse import hstack\n",
        "# All\n",
        "X_train_all = hstack((X_train_bow, X_train_ngram, X_train_tfidf, X_train_glove))\n",
        "X_test_all = hstack((X_test_bow, X_test_ngram, X_test_tfidf, X_test_glove))\n",
        "\n",
        "# Everything but Bag of Words\n",
        "X_train_all_but_bow = hstack((X_train_ngram, X_train_tfidf, X_train_glove))\n",
        "X_test_all_but_bow = hstack((X_test_ngram, X_test_tfidf, X_test_glove))\n",
        "\n",
        "# Everything but n-gram\n",
        "X_train_all_but_ngram = hstack((X_train_bow, X_train_tfidf, X_train_glove))\n",
        "X_test_all_but_ngram = hstack((X_test_bow, X_test_tfidf, X_test_glove))\n",
        "\n",
        "# Everything but tfidf\n",
        "X_train_all_but_tfidf = hstack((X_train_bow, X_train_ngram, X_train_glove))\n",
        "X_test_all_but_tfidf = hstack((X_test_bow, X_test_ngram, X_test_glove))\n",
        "\n",
        "# Everything but GloVe\n",
        "X_train_all_but_glove = hstack((X_train_bow, X_train_ngram, X_train_tfidf))\n",
        "X_test_all_but_glove = hstack((X_test_bow, X_test_ngram, X_test_tfidf))"
      ],
      "metadata": {
        "id": "yCaatINqztsF"
      },
      "execution_count": null,
      "outputs": []
    },
    {
      "cell_type": "markdown",
      "source": [
        "## 5. Model Training: train different classifiers and perform feature ablation studies"
      ],
      "metadata": {
        "id": "GcEPMF26n7o-"
      }
    },
    {
      "cell_type": "markdown",
      "source": [
        "Now we can train several classifiers to identify which model will have the highest level of accuracy."
      ],
      "metadata": {
        "id": "20VLxt5gyjzU"
      }
    },
    {
      "cell_type": "markdown",
      "source": [
        "General Classifiers:\n",
        "  - Logistic regression\n",
        "  - SVC (like SVM but for classification)\n",
        "\n",
        "Ensemble classifiers:\n",
        "  - Random forest\n",
        "  - Gradient boosted trees\n",
        "\n",
        "Neural Networ:\n",
        "  - Feed-forward neural network"
      ],
      "metadata": {
        "id": "I8nEvFUnoLMI"
      }
    },
    {
      "cell_type": "markdown",
      "source": [
        "References for the following section:\n",
        "\n",
        "- Dr. Abhijit Mishra's examples in lab assignments (particularily, the function that trains classifiers, including how to apply the function properly)\n",
        "- https://scikit-learn.org/stable/modules/generated/sklearn.linear_model.LogisticRegression.html\n",
        "- https://scikit-learn.org/stable/modules/generated/sklearn.svm.SVC.html\n",
        "- https://scikit-learn.org/stable/modules/generated/sklearn.ensemble.RandomForestClassifier.html\n",
        "- https://scikit-learn.org/stable/modules/generated/sklearn.ensemble.GradientBoostingClassifier.html\n",
        "- https://scikit-learn.org/stable/modules/generated/sklearn.neural_network.MLPClassifier.html"
      ],
      "metadata": {
        "id": "W542bl2t4pt2"
      }
    },
    {
      "cell_type": "markdown",
      "source": [
        "### A. Classification"
      ],
      "metadata": {
        "id": "sd_EtQuGoXD_"
      }
    },
    {
      "cell_type": "markdown",
      "source": [
        "Let's set up a function that trains any classification model. Thank you Dr. Abhijit for this example, from our practicum lab!"
      ],
      "metadata": {
        "id": "w9UA9JQ1zLNE"
      }
    },
    {
      "cell_type": "code",
      "source": [
        "def train_and_evaluate_classifier(classifier, X_train, y_actual, X_test, y_test_actual):\n",
        "  classifier.fit(X_train, y_actual)\n",
        "  y_pred = classifier.predict(X_test)\n",
        "  accuracy = accuracy_score(y_test_actual, y_pred)\n",
        "  return accuracy"
      ],
      "metadata": {
        "id": "Yq7Q_iLgoawW"
      },
      "execution_count": null,
      "outputs": []
    },
    {
      "cell_type": "markdown",
      "source": [
        "Now we import our classic models:"
      ],
      "metadata": {
        "id": "iYptyuRNzQ7Y"
      }
    },
    {
      "cell_type": "code",
      "source": [
        "# Import Models\n",
        "from sklearn.linear_model import LogisticRegression\n",
        "from sklearn.svm import SVC"
      ],
      "metadata": {
        "id": "DPTYKvYcoV5M"
      },
      "execution_count": null,
      "outputs": []
    },
    {
      "cell_type": "markdown",
      "source": [
        "#### i. Logistic Regression"
      ],
      "metadata": {
        "id": "gD8S7F-6oeZd"
      }
    },
    {
      "cell_type": "markdown",
      "source": [
        "We will train our Logistic Regression; as you can see below, we had to increase the max_iter in order to help our model converge since it reached the maximum number of iterations."
      ],
      "metadata": {
        "id": "DVMEaX1pzT0z"
      }
    },
    {
      "cell_type": "code",
      "source": [
        "LogReg_classifier = LogisticRegression()\n",
        "accuracy = train_and_evaluate_classifier(LogReg_classifier, X_train_all, y_train, X_test_all, y_test)\n",
        "print (f\"Accuracy of Logistic Regression = {accuracy*100}%\")"
      ],
      "metadata": {
        "colab": {
          "base_uri": "https://localhost:8080/"
        },
        "id": "KPY8gVLiofv2",
        "outputId": "99c66671-b118-4900-91be-2478481f69b2"
      },
      "execution_count": null,
      "outputs": [
        {
          "output_type": "stream",
          "name": "stdout",
          "text": [
            "Accuracy of Logistic Regression = 85.31501657982%\n"
          ]
        },
        {
          "output_type": "stream",
          "name": "stderr",
          "text": [
            "/usr/local/lib/python3.10/dist-packages/sklearn/linear_model/_logistic.py:458: ConvergenceWarning: lbfgs failed to converge (status=1):\n",
            "STOP: TOTAL NO. of ITERATIONS REACHED LIMIT.\n",
            "\n",
            "Increase the number of iterations (max_iter) or scale the data as shown in:\n",
            "    https://scikit-learn.org/stable/modules/preprocessing.html\n",
            "Please also refer to the documentation for alternative solver options:\n",
            "    https://scikit-learn.org/stable/modules/linear_model.html#logistic-regression\n",
            "  n_iter_i = _check_optimize_result(\n"
          ]
        }
      ]
    },
    {
      "cell_type": "code",
      "source": [
        "# Increase max_iter\n",
        "LogReg_classifier = LogisticRegression(max_iter=1000)\n",
        "accuracy = train_and_evaluate_classifier(LogReg_classifier, X_train_all, y_train, X_test_all, y_test)\n",
        "print (f\"Accuracy of Logistic Regression = {accuracy*100}%\")"
      ],
      "metadata": {
        "colab": {
          "base_uri": "https://localhost:8080/"
        },
        "id": "rl8u1kRSpuM3",
        "outputId": "5fbcfd45-0b85-4327-dd2b-fd929b8b817c"
      },
      "execution_count": null,
      "outputs": [
        {
          "output_type": "stream",
          "name": "stdout",
          "text": [
            "Accuracy of Logistic Regression = 85.36238749407865%\n"
          ]
        }
      ]
    },
    {
      "cell_type": "markdown",
      "source": [
        "Now, we can perform a feature ablation study to one-by-one remove features and figure out which configuration has the most success in accuracy."
      ],
      "metadata": {
        "id": "EYMJDBqApu3n"
      }
    },
    {
      "cell_type": "code",
      "source": [
        "# Without BOW\n",
        "LogReg_classifier = LogisticRegression(max_iter=1000)\n",
        "accuracy = train_and_evaluate_classifier(LogReg_classifier, X_train_all_but_bow, y_train, X_test_all_but_bow, y_test)\n",
        "print (f\"Accuracy of Logistic Regression without BOW = {accuracy*100}%\")"
      ],
      "metadata": {
        "colab": {
          "base_uri": "https://localhost:8080/"
        },
        "id": "aYBaF79FosSk",
        "outputId": "e7c9923c-a6ed-4886-a62b-2bcf7758a956"
      },
      "execution_count": null,
      "outputs": [
        {
          "output_type": "stream",
          "name": "stdout",
          "text": [
            "Accuracy of Logistic Regression without BOW = 85.78872572240644%\n"
          ]
        }
      ]
    },
    {
      "cell_type": "code",
      "source": [
        "# Without N-Gram\n",
        "LogReg_classifier = LogisticRegression(max_iter=1000)\n",
        "accuracy = train_and_evaluate_classifier(LogReg_classifier, X_train_all_but_ngram, y_train, X_test_all_but_ngram, y_test)\n",
        "print (f\"Accuracy of Logistic Regression without N-gram = {accuracy*100}%\")"
      ],
      "metadata": {
        "colab": {
          "base_uri": "https://localhost:8080/"
        },
        "id": "jnZ-FtkKosSq",
        "outputId": "eef3bae0-8b6f-4420-df6b-6b9511a6c6d7"
      },
      "execution_count": null,
      "outputs": [
        {
          "output_type": "stream",
          "name": "stdout",
          "text": [
            "Accuracy of Logistic Regression without N-gram = 84.60445286594032%\n"
          ]
        }
      ]
    },
    {
      "cell_type": "code",
      "source": [
        "# Without TFIDF\n",
        "LogReg_classifier = LogisticRegression(max_iter=1000)\n",
        "accuracy = train_and_evaluate_classifier(LogReg_classifier, X_train_all_but_tfidf, y_train, X_test_all_but_tfidf, y_test)\n",
        "print (f\"Accuracy of Logistic Regression without TF-IDF = {accuracy*100}%\")"
      ],
      "metadata": {
        "colab": {
          "base_uri": "https://localhost:8080/"
        },
        "id": "M5rShh0oosSq",
        "outputId": "060dece3-0b62-44cf-8fb7-d52978d301a7"
      },
      "execution_count": null,
      "outputs": [
        {
          "output_type": "stream",
          "name": "stdout",
          "text": [
            "Accuracy of Logistic Regression without TF-IDF = 85.22027475130271%\n"
          ]
        }
      ]
    },
    {
      "cell_type": "code",
      "source": [
        "# Without GloVE\n",
        "LogReg_classifier = LogisticRegression(max_iter=1000)\n",
        "accuracy = train_and_evaluate_classifier(LogReg_classifier, X_train_all_but_glove, y_train, X_test_all_but_glove, y_test)\n",
        "print (f\"Accuracy of Logistic Regression without GloVe = {accuracy*100}%\")"
      ],
      "metadata": {
        "colab": {
          "base_uri": "https://localhost:8080/"
        },
        "id": "a7WkjrEposSq",
        "outputId": "9425beff-eb28-46c1-8238-781e575e849d"
      },
      "execution_count": null,
      "outputs": [
        {
          "output_type": "stream",
          "name": "stdout",
          "text": [
            "Accuracy of Logistic Regression without GloVe = 85.36238749407865%\n"
          ]
        }
      ]
    },
    {
      "cell_type": "markdown",
      "source": [
        "#### ii. SVC"
      ],
      "metadata": {
        "id": "QZFGyeaZoi1x"
      }
    },
    {
      "cell_type": "markdown",
      "source": [
        "Let's do the same with our SVC classifier!"
      ],
      "metadata": {
        "id": "24i3HyaLzhNe"
      }
    },
    {
      "cell_type": "code",
      "source": [
        "SVC_classifier = SVC(kernel=\"linear\")\n",
        "accuracy = train_and_evaluate_classifier(SVC_classifier, X_train_all, y_train, X_test_all, y_test)\n",
        "print (f\"Accuracy of Support Vector Classificaiton = {accuracy*100}%\")"
      ],
      "metadata": {
        "colab": {
          "base_uri": "https://localhost:8080/"
        },
        "id": "xHFOci7eoltH",
        "outputId": "ff99e362-584d-4166-db5f-376d262deda0"
      },
      "execution_count": null,
      "outputs": [
        {
          "output_type": "stream",
          "name": "stdout",
          "text": [
            "Accuracy of Support Vector Classificaiton = 83.13595452392231%\n"
          ]
        }
      ]
    },
    {
      "cell_type": "code",
      "source": [
        "# Without BOW\n",
        "SVC_classifier = SVC(kernel=\"linear\")\n",
        "accuracy = train_and_evaluate_classifier(SVC_classifier, X_train_all_but_bow, y_train, X_test_all_but_bow, y_test)\n",
        "print (f\"Accuracy of Support Vector Classificaiton without BOW = {accuracy*100}%\")"
      ],
      "metadata": {
        "id": "PH_3Pbys1r0O",
        "colab": {
          "base_uri": "https://localhost:8080/"
        },
        "outputId": "567a8ffb-c11f-4279-abf8-a5e66283942d"
      },
      "execution_count": null,
      "outputs": [
        {
          "output_type": "stream",
          "name": "stdout",
          "text": [
            "Accuracy of Support Vector Classificaiton without BOW = 83.89388915206062%\n"
          ]
        }
      ]
    },
    {
      "cell_type": "code",
      "source": [
        "# Without N-Gram\n",
        "SVC_classifier = SVC(kernel=\"linear\")\n",
        "accuracy = train_and_evaluate_classifier(SVC_classifier, X_train_all_but_ngram, y_train, X_test_all_but_ngram, y_test)\n",
        "print (f\"Accuracy of Support Vector Classificaiton without N-gram = {accuracy*100}%\")"
      ],
      "metadata": {
        "id": "YUJLNflj1wpx",
        "colab": {
          "base_uri": "https://localhost:8080/"
        },
        "outputId": "afac6d1b-37c2-41b8-dafd-adaba99f3637"
      },
      "execution_count": null,
      "outputs": [
        {
          "output_type": "stream",
          "name": "stdout",
          "text": [
            "Accuracy of Support Vector Classificaiton without N-gram = 81.47797252486974%\n"
          ]
        }
      ]
    },
    {
      "cell_type": "code",
      "source": [
        "# Without TFIDF\n",
        "SVC_classifier = SVC(kernel=\"linear\")\n",
        "accuracy = train_and_evaluate_classifier(SVC_classifier, X_train_all_but_tfidf, y_train, X_test_all_but_tfidf, y_test)\n",
        "print (f\"Accuracy of Support Vector Classificaiton without TF-IDF = {accuracy*100}%\")"
      ],
      "metadata": {
        "id": "WzISkXmy1yXk",
        "colab": {
          "base_uri": "https://localhost:8080/"
        },
        "outputId": "07d4acde-e918-4256-e6fd-b66b63d8d906"
      },
      "execution_count": null,
      "outputs": [
        {
          "output_type": "stream",
          "name": "stdout",
          "text": [
            "Accuracy of Support Vector Classificaiton without TF-IDF = 82.94647086688774%\n"
          ]
        }
      ]
    },
    {
      "cell_type": "code",
      "source": [
        "# Without GloVE\n",
        "SVC_classifier = SVC(kernel=\"linear\")\n",
        "accuracy = train_and_evaluate_classifier(SVC_classifier, X_train_all_but_glove, y_train, X_test_all_but_glove, y_test)\n",
        "print (f\"Accuracy of Support Vector Classificaiton without GloVe = {accuracy*100}%\")"
      ],
      "metadata": {
        "id": "mwFt6bw110En",
        "colab": {
          "base_uri": "https://localhost:8080/"
        },
        "outputId": "9cf9ca30-5335-44ee-84bc-5d330c020a41"
      },
      "execution_count": null,
      "outputs": [
        {
          "output_type": "stream",
          "name": "stdout",
          "text": [
            "Accuracy of Support Vector Classificaiton without GloVe = 83.27806726669826%\n"
          ]
        }
      ]
    },
    {
      "cell_type": "markdown",
      "source": [
        "### B. Ensemble"
      ],
      "metadata": {
        "id": "z_BlKmOGUpvk"
      }
    },
    {
      "cell_type": "markdown",
      "source": [
        "Now, we can move on to ensemble classifiers, which should, in theory, be more accurate because they are powered by combinations of different classifiers. We will use all features for both RandomForest and GradientBoosting classifiers, because there was not a drastic difference in accuracy given the above ablation studies on our normal classifiers. Given more time, we could test other feature combinations with our ensemble models."
      ],
      "metadata": {
        "id": "-Qq6JsAIzjxC"
      }
    },
    {
      "cell_type": "code",
      "source": [
        "from sklearn.ensemble import RandomForestClassifier\n",
        "from sklearn.ensemble import GradientBoostingClassifier"
      ],
      "metadata": {
        "id": "v4v51YaturJ0"
      },
      "execution_count": null,
      "outputs": []
    },
    {
      "cell_type": "code",
      "source": [
        "RF_Classifier = RandomForestClassifier()\n",
        "accuracy = train_and_evaluate_classifier(RF_Classifier, X_train_all, y_train, X_test_all, y_test)\n",
        "print (f\"Accuracy of Logistic Regression = {accuracy*100}%\")"
      ],
      "metadata": {
        "colab": {
          "base_uri": "https://localhost:8080/"
        },
        "id": "kQnS8Fl_jwg6",
        "outputId": "2a35fad4-2317-43bf-9d26-9a8c1dbc598e"
      },
      "execution_count": null,
      "outputs": [
        {
          "output_type": "stream",
          "name": "stdout",
          "text": [
            "Accuracy of Logistic Regression = 85.88346755092373%\n"
          ]
        }
      ]
    },
    {
      "cell_type": "code",
      "source": [
        "RF_Classifier = RandomForestClassifier(n_estimators=100, random_state=50)\n",
        "accuracy = train_and_evaluate_classifier(RF_Classifier, X_train_all, y_train, X_test_all, y_test)\n",
        "print (f\"Accuracy of Logistic Regression = {accuracy*100}%\")"
      ],
      "metadata": {
        "colab": {
          "base_uri": "https://localhost:8080/"
        },
        "id": "cXz2we6tks8t",
        "outputId": "c0b0fe04-0b1e-416d-c87c-d526d30756c3"
      },
      "execution_count": null,
      "outputs": [
        {
          "output_type": "stream",
          "name": "stdout",
          "text": [
            "Accuracy of Logistic Regression = 85.45712932259593%\n"
          ]
        }
      ]
    },
    {
      "cell_type": "code",
      "source": [
        "GB_Classifier = GradientBoostClassifier()\n",
        "accuracy = train_and_evaluate_classifier(GB_Classifier, X_train_all, y_train, X_test_all, y_test)\n",
        "print (f\"Accuracy of Logistic Regression = {accuracy*100}%\")"
      ],
      "metadata": {
        "id": "dx-L8F77l_46"
      },
      "execution_count": null,
      "outputs": []
    },
    {
      "cell_type": "markdown",
      "source": [
        "### C. Feed-Forward Network"
      ],
      "metadata": {
        "id": "R6gT7m78menC"
      }
    },
    {
      "cell_type": "markdown",
      "source": [
        "Finally, we will try the MLPClassifier neural network. The first iteration below was interrupted due to computation errors."
      ],
      "metadata": {
        "id": "khin7kLT0dHM"
      }
    },
    {
      "cell_type": "code",
      "source": [
        "\n",
        "from sklearn.neural_network import MLPClassifier"
      ],
      "metadata": {
        "id": "pgJfGH_2zxt2"
      },
      "execution_count": null,
      "outputs": []
    },
    {
      "cell_type": "code",
      "source": [
        "classifier = MLPClassifier(random_state=1, max_iter=300)\n",
        "accuracy = train_and_evaluate_classifier(classifier, X_train_all, y_train, X_test_all, y_test)\n",
        "print (f\"Accuracy of Support MLP Classificaiton = {accuracy*100}%\")"
      ],
      "metadata": {
        "id": "lbviFOEe1NHS",
        "colab": {
          "base_uri": "https://localhost:8080/"
        },
        "outputId": "32c6c278-15a6-4fdb-8719-0eb10c8c7e43"
      },
      "execution_count": null,
      "outputs": [
        {
          "output_type": "stream",
          "name": "stderr",
          "text": [
            "/usr/local/lib/python3.10/dist-packages/sklearn/neural_network/_multilayer_perceptron.py:693: UserWarning: Training interrupted by user.\n",
            "  warnings.warn(\"Training interrupted by user.\")\n"
          ]
        },
        {
          "output_type": "stream",
          "name": "stdout",
          "text": [
            "Accuracy of Support MLP Classificaiton = 88.25201326385599%\n"
          ]
        }
      ]
    },
    {
      "cell_type": "code",
      "source": [
        "classifier = MLPClassifier(random_state=1, max_iter=300)\n",
        "accuracy = train_and_evaluate_classifier(classifier, X_train_all, y_train, X_test_all, y_test)\n",
        "print (f\"Accuracy of Support MLP Classificaiton = {accuracy*100}%\")"
      ],
      "metadata": {
        "colab": {
          "base_uri": "https://localhost:8080/"
        },
        "id": "ln6R3_6Q0rty",
        "outputId": "3a5d0195-f2fe-4ad1-c1d5-786e9f75397f"
      },
      "execution_count": null,
      "outputs": [
        {
          "output_type": "stream",
          "name": "stdout",
          "text": [
            "Accuracy of Support MLP Classificaiton = 87.44670772145902%\n"
          ]
        }
      ]
    },
    {
      "cell_type": "markdown",
      "source": [
        "Now, we can save our model (it took three hours to train!). Let's save it, download it, and then if we need to we can re-upload it into another colab session. I followed joblib documentation to figure this part out."
      ],
      "metadata": {
        "id": "Jb8GNREO0i3x"
      }
    },
    {
      "cell_type": "code",
      "source": [
        "!pip install joblib"
      ],
      "metadata": {
        "colab": {
          "base_uri": "https://localhost:8080/"
        },
        "id": "f4Rl9S4-8fYT",
        "outputId": "7e337ffa-b17c-4179-fdff-fa57d00596db"
      },
      "execution_count": null,
      "outputs": [
        {
          "output_type": "stream",
          "name": "stdout",
          "text": [
            "Requirement already satisfied: joblib in /usr/local/lib/python3.10/dist-packages (1.3.2)\n"
          ]
        }
      ]
    },
    {
      "cell_type": "code",
      "source": [
        "# Save model\n",
        "import joblib\n",
        "\n",
        "model_filename = 'mlp_news_classifier_model.joblib'\n",
        "joblib.dump(classifier, model_filename)\n",
        "print(f\"Trained model saved to {model_filename}\")"
      ],
      "metadata": {
        "colab": {
          "base_uri": "https://localhost:8080/"
        },
        "id": "umL8pOOh8cPd",
        "outputId": "657614e7-a9d7-4da2-f32f-d13b76c563d2"
      },
      "execution_count": null,
      "outputs": [
        {
          "output_type": "stream",
          "name": "stdout",
          "text": [
            "Trained model saved to mlp_news_classifier_model.joblib\n"
          ]
        }
      ]
    },
    {
      "cell_type": "code",
      "source": [
        "loaded_classifier = joblib.load('/content/mlp_news_classifier_model.joblib')\n"
      ],
      "metadata": {
        "id": "9KuwVqZO8sDb"
      },
      "execution_count": null,
      "outputs": []
    },
    {
      "cell_type": "markdown",
      "source": [
        "Now, once we've loaded in our classifier, we can simply `.predict()` our featurized chatbot outputs to see if they are labeled as left, moderate, or right leaning."
      ],
      "metadata": {
        "id": "GkzLxUti0vNV"
      }
    },
    {
      "cell_type": "code",
      "source": [
        "predictions = loaded_classifier.predict(X_new)\n"
      ],
      "metadata": {
        "id": "4RByGQt68uD1"
      },
      "execution_count": null,
      "outputs": []
    },
    {
      "cell_type": "markdown",
      "source": [
        "# TEST ON CHATGPT DATA"
      ],
      "metadata": {
        "id": "ZeguvyUaXYzS"
      }
    },
    {
      "cell_type": "markdown",
      "source": [
        "Here is the portion where I pulled in data from  ChatGPT that we gathered from prompting ChatGPT and storing in .csv files."
      ],
      "metadata": {
        "id": "sLc1uZcQ1BnM"
      }
    },
    {
      "cell_type": "markdown",
      "source": [
        "## 6. Import and preprocess (SAME AS TRAIN DATA) ChatGPT text"
      ],
      "metadata": {
        "id": "IxwD8cPugapS"
      }
    },
    {
      "cell_type": "markdown",
      "source": [
        "We have three files, one for each prompting style (detailed in report). Let's load them in! We will keep distinctions between different prompting methods (natural, summary, and detailed) throughout this entire process because we want to be able to perform analysis on our prompting methods at the end."
      ],
      "metadata": {
        "id": "PVKJWTxS1G60"
      }
    },
    {
      "cell_type": "code",
      "source": [
        "import pandas as pd\n",
        "\n",
        "path_natural = '/content/Prompt Responses - USE Natural Prompt.csv'\n",
        "path_summary = '/content/Prompt Responses - USE_ Summary Prompt.csv'\n",
        "path_detailed = '/content/Prompt Responses - USE Detailed Explanation.csv'\n",
        "\n",
        "chatgpt_natural_df = pd.read_csv(path_natural)\n",
        "chatgpt_summary_df = pd.read_csv(path_summary)\n",
        "chatgpt_detailed_df = pd.read_csv(path_detailed)"
      ],
      "metadata": {
        "id": "jFBFe7AKgAzm"
      },
      "execution_count": null,
      "outputs": []
    },
    {
      "cell_type": "code",
      "source": [
        "# print(chatgpt_natural_df['ChatGPT Response'].dtype)"
      ],
      "metadata": {
        "id": "JWhlqMW015lt"
      },
      "execution_count": null,
      "outputs": []
    },
    {
      "cell_type": "code",
      "source": [
        "chatgpt_natural_df.head()"
      ],
      "metadata": {
        "colab": {
          "base_uri": "https://localhost:8080/",
          "height": 344
        },
        "id": "_HT2siGpg50U",
        "outputId": "25d59b7c-4e82-42d3-9ad5-d9995f6d03a6"
      },
      "execution_count": null,
      "outputs": [
        {
          "output_type": "execute_result",
          "data": {
            "text/plain": [
              "                                              Prompt News Type  Year  \\\n",
              "0                         What was Hurricane Dorian?     Event  2019   \n",
              "1  What happened to the Notre Dame Cathedral in 2...     Event  2019   \n",
              "2    What happened at the Women's World Cup in 2019?     Event  2019   \n",
              "3             What happened during the Area 51 raid?     Event  2019   \n",
              "4        What happened during the 2019 Area 51 raid?     Event  2019   \n",
              "\n",
              "                  Topic                                   ChatGPT Response  \n",
              "0      Hurricane Dorian  \\r\\nHurricane Dorian was a powerful and devast...  \n",
              "1  Notre Dame Cathedral  The Notre-Dame Cathedral in Paris, France, suf...  \n",
              "2     Women's World Cup  \\r\\nThe 2019 FIFA Women's World Cup took place...  \n",
              "3          Area 51 raid  As of my last knowledge update in January 2022...  \n",
              "4          Area 51 raid  \\r\\nThe \"Storm Area 51\" event that gained atte...  "
            ],
            "text/html": [
              "\n",
              "  <div id=\"df-2d1c9dec-c29b-42d1-bac3-3085830bd5b0\" class=\"colab-df-container\">\n",
              "    <div>\n",
              "<style scoped>\n",
              "    .dataframe tbody tr th:only-of-type {\n",
              "        vertical-align: middle;\n",
              "    }\n",
              "\n",
              "    .dataframe tbody tr th {\n",
              "        vertical-align: top;\n",
              "    }\n",
              "\n",
              "    .dataframe thead th {\n",
              "        text-align: right;\n",
              "    }\n",
              "</style>\n",
              "<table border=\"1\" class=\"dataframe\">\n",
              "  <thead>\n",
              "    <tr style=\"text-align: right;\">\n",
              "      <th></th>\n",
              "      <th>Prompt</th>\n",
              "      <th>News Type</th>\n",
              "      <th>Year</th>\n",
              "      <th>Topic</th>\n",
              "      <th>ChatGPT Response</th>\n",
              "    </tr>\n",
              "  </thead>\n",
              "  <tbody>\n",
              "    <tr>\n",
              "      <th>0</th>\n",
              "      <td>What was Hurricane Dorian?</td>\n",
              "      <td>Event</td>\n",
              "      <td>2019</td>\n",
              "      <td>Hurricane Dorian</td>\n",
              "      <td>\\r\\nHurricane Dorian was a powerful and devast...</td>\n",
              "    </tr>\n",
              "    <tr>\n",
              "      <th>1</th>\n",
              "      <td>What happened to the Notre Dame Cathedral in 2...</td>\n",
              "      <td>Event</td>\n",
              "      <td>2019</td>\n",
              "      <td>Notre Dame Cathedral</td>\n",
              "      <td>The Notre-Dame Cathedral in Paris, France, suf...</td>\n",
              "    </tr>\n",
              "    <tr>\n",
              "      <th>2</th>\n",
              "      <td>What happened at the Women's World Cup in 2019?</td>\n",
              "      <td>Event</td>\n",
              "      <td>2019</td>\n",
              "      <td>Women's World Cup</td>\n",
              "      <td>\\r\\nThe 2019 FIFA Women's World Cup took place...</td>\n",
              "    </tr>\n",
              "    <tr>\n",
              "      <th>3</th>\n",
              "      <td>What happened during the Area 51 raid?</td>\n",
              "      <td>Event</td>\n",
              "      <td>2019</td>\n",
              "      <td>Area 51 raid</td>\n",
              "      <td>As of my last knowledge update in January 2022...</td>\n",
              "    </tr>\n",
              "    <tr>\n",
              "      <th>4</th>\n",
              "      <td>What happened during the 2019 Area 51 raid?</td>\n",
              "      <td>Event</td>\n",
              "      <td>2019</td>\n",
              "      <td>Area 51 raid</td>\n",
              "      <td>\\r\\nThe \"Storm Area 51\" event that gained atte...</td>\n",
              "    </tr>\n",
              "  </tbody>\n",
              "</table>\n",
              "</div>\n",
              "    <div class=\"colab-df-buttons\">\n",
              "\n",
              "  <div class=\"colab-df-container\">\n",
              "    <button class=\"colab-df-convert\" onclick=\"convertToInteractive('df-2d1c9dec-c29b-42d1-bac3-3085830bd5b0')\"\n",
              "            title=\"Convert this dataframe to an interactive table.\"\n",
              "            style=\"display:none;\">\n",
              "\n",
              "  <svg xmlns=\"http://www.w3.org/2000/svg\" height=\"24px\" viewBox=\"0 -960 960 960\">\n",
              "    <path d=\"M120-120v-720h720v720H120Zm60-500h600v-160H180v160Zm220 220h160v-160H400v160Zm0 220h160v-160H400v160ZM180-400h160v-160H180v160Zm440 0h160v-160H620v160ZM180-180h160v-160H180v160Zm440 0h160v-160H620v160Z\"/>\n",
              "  </svg>\n",
              "    </button>\n",
              "\n",
              "  <style>\n",
              "    .colab-df-container {\n",
              "      display:flex;\n",
              "      gap: 12px;\n",
              "    }\n",
              "\n",
              "    .colab-df-convert {\n",
              "      background-color: #E8F0FE;\n",
              "      border: none;\n",
              "      border-radius: 50%;\n",
              "      cursor: pointer;\n",
              "      display: none;\n",
              "      fill: #1967D2;\n",
              "      height: 32px;\n",
              "      padding: 0 0 0 0;\n",
              "      width: 32px;\n",
              "    }\n",
              "\n",
              "    .colab-df-convert:hover {\n",
              "      background-color: #E2EBFA;\n",
              "      box-shadow: 0px 1px 2px rgba(60, 64, 67, 0.3), 0px 1px 3px 1px rgba(60, 64, 67, 0.15);\n",
              "      fill: #174EA6;\n",
              "    }\n",
              "\n",
              "    .colab-df-buttons div {\n",
              "      margin-bottom: 4px;\n",
              "    }\n",
              "\n",
              "    [theme=dark] .colab-df-convert {\n",
              "      background-color: #3B4455;\n",
              "      fill: #D2E3FC;\n",
              "    }\n",
              "\n",
              "    [theme=dark] .colab-df-convert:hover {\n",
              "      background-color: #434B5C;\n",
              "      box-shadow: 0px 1px 3px 1px rgba(0, 0, 0, 0.15);\n",
              "      filter: drop-shadow(0px 1px 2px rgba(0, 0, 0, 0.3));\n",
              "      fill: #FFFFFF;\n",
              "    }\n",
              "  </style>\n",
              "\n",
              "    <script>\n",
              "      const buttonEl =\n",
              "        document.querySelector('#df-2d1c9dec-c29b-42d1-bac3-3085830bd5b0 button.colab-df-convert');\n",
              "      buttonEl.style.display =\n",
              "        google.colab.kernel.accessAllowed ? 'block' : 'none';\n",
              "\n",
              "      async function convertToInteractive(key) {\n",
              "        const element = document.querySelector('#df-2d1c9dec-c29b-42d1-bac3-3085830bd5b0');\n",
              "        const dataTable =\n",
              "          await google.colab.kernel.invokeFunction('convertToInteractive',\n",
              "                                                    [key], {});\n",
              "        if (!dataTable) return;\n",
              "\n",
              "        const docLinkHtml = 'Like what you see? Visit the ' +\n",
              "          '<a target=\"_blank\" href=https://colab.research.google.com/notebooks/data_table.ipynb>data table notebook</a>'\n",
              "          + ' to learn more about interactive tables.';\n",
              "        element.innerHTML = '';\n",
              "        dataTable['output_type'] = 'display_data';\n",
              "        await google.colab.output.renderOutput(dataTable, element);\n",
              "        const docLink = document.createElement('div');\n",
              "        docLink.innerHTML = docLinkHtml;\n",
              "        element.appendChild(docLink);\n",
              "      }\n",
              "    </script>\n",
              "  </div>\n",
              "\n",
              "\n",
              "<div id=\"df-d0ca785f-a6b2-419b-918e-7b5e8b7fe5a2\">\n",
              "  <button class=\"colab-df-quickchart\" onclick=\"quickchart('df-d0ca785f-a6b2-419b-918e-7b5e8b7fe5a2')\"\n",
              "            title=\"Suggest charts\"\n",
              "            style=\"display:none;\">\n",
              "\n",
              "<svg xmlns=\"http://www.w3.org/2000/svg\" height=\"24px\"viewBox=\"0 0 24 24\"\n",
              "     width=\"24px\">\n",
              "    <g>\n",
              "        <path d=\"M19 3H5c-1.1 0-2 .9-2 2v14c0 1.1.9 2 2 2h14c1.1 0 2-.9 2-2V5c0-1.1-.9-2-2-2zM9 17H7v-7h2v7zm4 0h-2V7h2v10zm4 0h-2v-4h2v4z\"/>\n",
              "    </g>\n",
              "</svg>\n",
              "  </button>\n",
              "\n",
              "<style>\n",
              "  .colab-df-quickchart {\n",
              "      --bg-color: #E8F0FE;\n",
              "      --fill-color: #1967D2;\n",
              "      --hover-bg-color: #E2EBFA;\n",
              "      --hover-fill-color: #174EA6;\n",
              "      --disabled-fill-color: #AAA;\n",
              "      --disabled-bg-color: #DDD;\n",
              "  }\n",
              "\n",
              "  [theme=dark] .colab-df-quickchart {\n",
              "      --bg-color: #3B4455;\n",
              "      --fill-color: #D2E3FC;\n",
              "      --hover-bg-color: #434B5C;\n",
              "      --hover-fill-color: #FFFFFF;\n",
              "      --disabled-bg-color: #3B4455;\n",
              "      --disabled-fill-color: #666;\n",
              "  }\n",
              "\n",
              "  .colab-df-quickchart {\n",
              "    background-color: var(--bg-color);\n",
              "    border: none;\n",
              "    border-radius: 50%;\n",
              "    cursor: pointer;\n",
              "    display: none;\n",
              "    fill: var(--fill-color);\n",
              "    height: 32px;\n",
              "    padding: 0;\n",
              "    width: 32px;\n",
              "  }\n",
              "\n",
              "  .colab-df-quickchart:hover {\n",
              "    background-color: var(--hover-bg-color);\n",
              "    box-shadow: 0 1px 2px rgba(60, 64, 67, 0.3), 0 1px 3px 1px rgba(60, 64, 67, 0.15);\n",
              "    fill: var(--button-hover-fill-color);\n",
              "  }\n",
              "\n",
              "  .colab-df-quickchart-complete:disabled,\n",
              "  .colab-df-quickchart-complete:disabled:hover {\n",
              "    background-color: var(--disabled-bg-color);\n",
              "    fill: var(--disabled-fill-color);\n",
              "    box-shadow: none;\n",
              "  }\n",
              "\n",
              "  .colab-df-spinner {\n",
              "    border: 2px solid var(--fill-color);\n",
              "    border-color: transparent;\n",
              "    border-bottom-color: var(--fill-color);\n",
              "    animation:\n",
              "      spin 1s steps(1) infinite;\n",
              "  }\n",
              "\n",
              "  @keyframes spin {\n",
              "    0% {\n",
              "      border-color: transparent;\n",
              "      border-bottom-color: var(--fill-color);\n",
              "      border-left-color: var(--fill-color);\n",
              "    }\n",
              "    20% {\n",
              "      border-color: transparent;\n",
              "      border-left-color: var(--fill-color);\n",
              "      border-top-color: var(--fill-color);\n",
              "    }\n",
              "    30% {\n",
              "      border-color: transparent;\n",
              "      border-left-color: var(--fill-color);\n",
              "      border-top-color: var(--fill-color);\n",
              "      border-right-color: var(--fill-color);\n",
              "    }\n",
              "    40% {\n",
              "      border-color: transparent;\n",
              "      border-right-color: var(--fill-color);\n",
              "      border-top-color: var(--fill-color);\n",
              "    }\n",
              "    60% {\n",
              "      border-color: transparent;\n",
              "      border-right-color: var(--fill-color);\n",
              "    }\n",
              "    80% {\n",
              "      border-color: transparent;\n",
              "      border-right-color: var(--fill-color);\n",
              "      border-bottom-color: var(--fill-color);\n",
              "    }\n",
              "    90% {\n",
              "      border-color: transparent;\n",
              "      border-bottom-color: var(--fill-color);\n",
              "    }\n",
              "  }\n",
              "</style>\n",
              "\n",
              "  <script>\n",
              "    async function quickchart(key) {\n",
              "      const quickchartButtonEl =\n",
              "        document.querySelector('#' + key + ' button');\n",
              "      quickchartButtonEl.disabled = true;  // To prevent multiple clicks.\n",
              "      quickchartButtonEl.classList.add('colab-df-spinner');\n",
              "      try {\n",
              "        const charts = await google.colab.kernel.invokeFunction(\n",
              "            'suggestCharts', [key], {});\n",
              "      } catch (error) {\n",
              "        console.error('Error during call to suggestCharts:', error);\n",
              "      }\n",
              "      quickchartButtonEl.classList.remove('colab-df-spinner');\n",
              "      quickchartButtonEl.classList.add('colab-df-quickchart-complete');\n",
              "    }\n",
              "    (() => {\n",
              "      let quickchartButtonEl =\n",
              "        document.querySelector('#df-d0ca785f-a6b2-419b-918e-7b5e8b7fe5a2 button');\n",
              "      quickchartButtonEl.style.display =\n",
              "        google.colab.kernel.accessAllowed ? 'block' : 'none';\n",
              "    })();\n",
              "  </script>\n",
              "</div>\n",
              "    </div>\n",
              "  </div>\n"
            ]
          },
          "metadata": {},
          "execution_count": 321
        }
      ]
    },
    {
      "cell_type": "markdown",
      "source": [
        "Now we clean our data in the **exact same way as we cleaned the data training our classifier model**. It is critical that we are consistent, because our model knows how to \"recognize\" a very specific structure of data."
      ],
      "metadata": {
        "id": "DfYD_MlB1MsF"
      }
    },
    {
      "cell_type": "markdown",
      "source": [
        "So again, we use regular expressions to remove abnormalities. I did not include removing websites, hashtags, and mentions, because ChatGPT does not create those."
      ],
      "metadata": {
        "id": "jjcXXFAh1WjG"
      }
    },
    {
      "cell_type": "code",
      "source": [
        "# Non-English text - characters languages\n",
        "not_roman = r\"[^a-zA-Z'\\s]\" # defines anything that is not alphanumeric text or spaces\n",
        "chatgpt_natural_df['processed'] = chatgpt_natural_df['ChatGPT Response'].str.replace(not_roman, \" \")\n",
        "chatgpt_summary_df['processed'] = chatgpt_summary_df['ChatGPT Response'].str.replace(not_roman, \" \")\n",
        "chatgpt_detailed_df['processed'] = chatgpt_detailed_df['ChatGPT Response'].str.replace(not_roman, \" \")"
      ],
      "metadata": {
        "colab": {
          "base_uri": "https://localhost:8080/"
        },
        "outputId": "86051556-d8de-45de-c92b-e6003145a075",
        "id": "5rhVp44kg1lP"
      },
      "execution_count": null,
      "outputs": [
        {
          "output_type": "stream",
          "name": "stderr",
          "text": [
            "<ipython-input-325-07d9f4797310>:3: FutureWarning: The default value of regex will change from True to False in a future version.\n",
            "  chatgpt_natural_df['processed'] = chatgpt_natural_df['ChatGPT Response'].str.replace(not_roman, \" \")\n",
            "<ipython-input-325-07d9f4797310>:4: FutureWarning: The default value of regex will change from True to False in a future version.\n",
            "  chatgpt_summary_df['processed'] = chatgpt_summary_df['ChatGPT Response'].str.replace(not_roman, \" \")\n",
            "<ipython-input-325-07d9f4797310>:5: FutureWarning: The default value of regex will change from True to False in a future version.\n",
            "  chatgpt_detailed_df['processed'] = chatgpt_detailed_df['ChatGPT Response'].str.replace(not_roman, \" \")\n"
          ]
        }
      ]
    },
    {
      "cell_type": "code",
      "source": [
        "# Get rid of random hyphens\n",
        "hyphen = r'-'\n",
        "chatgpt_natural_df['processed'] = chatgpt_natural_df['processed'].str.replace(hyphen, \" \")\n",
        "chatgpt_summary_df['processed'] = chatgpt_summary_df['processed'].str.replace(hyphen, \" \")\n",
        "chatgpt_detailed_df['processed'] = chatgpt_detailed_df['processed'].str.replace(hyphen, \" \")"
      ],
      "metadata": {
        "id": "uICwUxHOg1lP"
      },
      "execution_count": null,
      "outputs": []
    },
    {
      "cell_type": "code",
      "source": [
        "# Make sure everything has only one space between it\n",
        "space = r'\\s\\s+' # selects anything that is more than one space, including line breaks\n",
        "chatgpt_natural_df['processed'] = chatgpt_natural_df['processed'].str.replace(space, \" \")\n",
        "chatgpt_summary_df['processed'] = chatgpt_summary_df['processed'].str.replace(space, \" \")\n",
        "chatgpt_detailed_df['processed'] = chatgpt_detailed_df['processed'].str.replace(space, \" \")"
      ],
      "metadata": {
        "colab": {
          "base_uri": "https://localhost:8080/"
        },
        "outputId": "21eaa286-a57c-4905-f8ab-212c2d5f9229",
        "id": "kAicjkGLg1lP"
      },
      "execution_count": null,
      "outputs": [
        {
          "output_type": "stream",
          "name": "stderr",
          "text": [
            "<ipython-input-330-85ebc3b4ac9b>:3: FutureWarning: The default value of regex will change from True to False in a future version.\n",
            "  chatgpt_natural_df['processed'] = chatgpt_natural_df['processed'].str.replace(space, \" \")\n",
            "<ipython-input-330-85ebc3b4ac9b>:4: FutureWarning: The default value of regex will change from True to False in a future version.\n",
            "  chatgpt_summary_df['processed'] = chatgpt_summary_df['processed'].str.replace(space, \" \")\n",
            "<ipython-input-330-85ebc3b4ac9b>:5: FutureWarning: The default value of regex will change from True to False in a future version.\n",
            "  chatgpt_detailed_df['processed'] = chatgpt_detailed_df['processed'].str.replace(space, \" \")\n"
          ]
        }
      ]
    },
    {
      "cell_type": "code",
      "source": [
        "chatgpt_natural_df.head()"
      ],
      "metadata": {
        "colab": {
          "base_uri": "https://localhost:8080/",
          "height": 466
        },
        "id": "zYIAp1CXh1mw",
        "outputId": "687b4132-4e4b-467c-aa40-ccd07cc4f34c"
      },
      "execution_count": null,
      "outputs": [
        {
          "output_type": "execute_result",
          "data": {
            "text/plain": [
              "                                              Prompt News Type  Year  \\\n",
              "0                         What was Hurricane Dorian?     Event  2019   \n",
              "1  What happened to the Notre Dame Cathedral in 2...     Event  2019   \n",
              "2    What happened at the Women's World Cup in 2019?     Event  2019   \n",
              "3             What happened during the Area 51 raid?     Event  2019   \n",
              "4        What happened during the 2019 Area 51 raid?     Event  2019   \n",
              "\n",
              "                  Topic                                   ChatGPT Response  \\\n",
              "0      Hurricane Dorian  \\r\\nHurricane Dorian was a powerful and devast...   \n",
              "1  Notre Dame Cathedral  The Notre-Dame Cathedral in Paris, France, suf...   \n",
              "2     Women's World Cup  \\r\\nThe 2019 FIFA Women's World Cup took place...   \n",
              "3          Area 51 raid  As of my last knowledge update in January 2022...   \n",
              "4          Area 51 raid  \\r\\nThe \"Storm Area 51\" event that gained atte...   \n",
              "\n",
              "                                           processed  \n",
              "0   Hurricane Dorian was a powerful and devastati...  \n",
              "1  The Notre Dame Cathedral in Paris France suffe...  \n",
              "2   The FIFA Women's World Cup took place in Fran...  \n",
              "3  As of my last knowledge update in January the ...  \n",
              "4   The Storm Area event that gained attention in...  "
            ],
            "text/html": [
              "\n",
              "  <div id=\"df-b3c262ce-2452-4c0d-a740-bf6b32aed99b\" class=\"colab-df-container\">\n",
              "    <div>\n",
              "<style scoped>\n",
              "    .dataframe tbody tr th:only-of-type {\n",
              "        vertical-align: middle;\n",
              "    }\n",
              "\n",
              "    .dataframe tbody tr th {\n",
              "        vertical-align: top;\n",
              "    }\n",
              "\n",
              "    .dataframe thead th {\n",
              "        text-align: right;\n",
              "    }\n",
              "</style>\n",
              "<table border=\"1\" class=\"dataframe\">\n",
              "  <thead>\n",
              "    <tr style=\"text-align: right;\">\n",
              "      <th></th>\n",
              "      <th>Prompt</th>\n",
              "      <th>News Type</th>\n",
              "      <th>Year</th>\n",
              "      <th>Topic</th>\n",
              "      <th>ChatGPT Response</th>\n",
              "      <th>processed</th>\n",
              "    </tr>\n",
              "  </thead>\n",
              "  <tbody>\n",
              "    <tr>\n",
              "      <th>0</th>\n",
              "      <td>What was Hurricane Dorian?</td>\n",
              "      <td>Event</td>\n",
              "      <td>2019</td>\n",
              "      <td>Hurricane Dorian</td>\n",
              "      <td>\\r\\nHurricane Dorian was a powerful and devast...</td>\n",
              "      <td>Hurricane Dorian was a powerful and devastati...</td>\n",
              "    </tr>\n",
              "    <tr>\n",
              "      <th>1</th>\n",
              "      <td>What happened to the Notre Dame Cathedral in 2...</td>\n",
              "      <td>Event</td>\n",
              "      <td>2019</td>\n",
              "      <td>Notre Dame Cathedral</td>\n",
              "      <td>The Notre-Dame Cathedral in Paris, France, suf...</td>\n",
              "      <td>The Notre Dame Cathedral in Paris France suffe...</td>\n",
              "    </tr>\n",
              "    <tr>\n",
              "      <th>2</th>\n",
              "      <td>What happened at the Women's World Cup in 2019?</td>\n",
              "      <td>Event</td>\n",
              "      <td>2019</td>\n",
              "      <td>Women's World Cup</td>\n",
              "      <td>\\r\\nThe 2019 FIFA Women's World Cup took place...</td>\n",
              "      <td>The FIFA Women's World Cup took place in Fran...</td>\n",
              "    </tr>\n",
              "    <tr>\n",
              "      <th>3</th>\n",
              "      <td>What happened during the Area 51 raid?</td>\n",
              "      <td>Event</td>\n",
              "      <td>2019</td>\n",
              "      <td>Area 51 raid</td>\n",
              "      <td>As of my last knowledge update in January 2022...</td>\n",
              "      <td>As of my last knowledge update in January the ...</td>\n",
              "    </tr>\n",
              "    <tr>\n",
              "      <th>4</th>\n",
              "      <td>What happened during the 2019 Area 51 raid?</td>\n",
              "      <td>Event</td>\n",
              "      <td>2019</td>\n",
              "      <td>Area 51 raid</td>\n",
              "      <td>\\r\\nThe \"Storm Area 51\" event that gained atte...</td>\n",
              "      <td>The Storm Area event that gained attention in...</td>\n",
              "    </tr>\n",
              "  </tbody>\n",
              "</table>\n",
              "</div>\n",
              "    <div class=\"colab-df-buttons\">\n",
              "\n",
              "  <div class=\"colab-df-container\">\n",
              "    <button class=\"colab-df-convert\" onclick=\"convertToInteractive('df-b3c262ce-2452-4c0d-a740-bf6b32aed99b')\"\n",
              "            title=\"Convert this dataframe to an interactive table.\"\n",
              "            style=\"display:none;\">\n",
              "\n",
              "  <svg xmlns=\"http://www.w3.org/2000/svg\" height=\"24px\" viewBox=\"0 -960 960 960\">\n",
              "    <path d=\"M120-120v-720h720v720H120Zm60-500h600v-160H180v160Zm220 220h160v-160H400v160Zm0 220h160v-160H400v160ZM180-400h160v-160H180v160Zm440 0h160v-160H620v160ZM180-180h160v-160H180v160Zm440 0h160v-160H620v160Z\"/>\n",
              "  </svg>\n",
              "    </button>\n",
              "\n",
              "  <style>\n",
              "    .colab-df-container {\n",
              "      display:flex;\n",
              "      gap: 12px;\n",
              "    }\n",
              "\n",
              "    .colab-df-convert {\n",
              "      background-color: #E8F0FE;\n",
              "      border: none;\n",
              "      border-radius: 50%;\n",
              "      cursor: pointer;\n",
              "      display: none;\n",
              "      fill: #1967D2;\n",
              "      height: 32px;\n",
              "      padding: 0 0 0 0;\n",
              "      width: 32px;\n",
              "    }\n",
              "\n",
              "    .colab-df-convert:hover {\n",
              "      background-color: #E2EBFA;\n",
              "      box-shadow: 0px 1px 2px rgba(60, 64, 67, 0.3), 0px 1px 3px 1px rgba(60, 64, 67, 0.15);\n",
              "      fill: #174EA6;\n",
              "    }\n",
              "\n",
              "    .colab-df-buttons div {\n",
              "      margin-bottom: 4px;\n",
              "    }\n",
              "\n",
              "    [theme=dark] .colab-df-convert {\n",
              "      background-color: #3B4455;\n",
              "      fill: #D2E3FC;\n",
              "    }\n",
              "\n",
              "    [theme=dark] .colab-df-convert:hover {\n",
              "      background-color: #434B5C;\n",
              "      box-shadow: 0px 1px 3px 1px rgba(0, 0, 0, 0.15);\n",
              "      filter: drop-shadow(0px 1px 2px rgba(0, 0, 0, 0.3));\n",
              "      fill: #FFFFFF;\n",
              "    }\n",
              "  </style>\n",
              "\n",
              "    <script>\n",
              "      const buttonEl =\n",
              "        document.querySelector('#df-b3c262ce-2452-4c0d-a740-bf6b32aed99b button.colab-df-convert');\n",
              "      buttonEl.style.display =\n",
              "        google.colab.kernel.accessAllowed ? 'block' : 'none';\n",
              "\n",
              "      async function convertToInteractive(key) {\n",
              "        const element = document.querySelector('#df-b3c262ce-2452-4c0d-a740-bf6b32aed99b');\n",
              "        const dataTable =\n",
              "          await google.colab.kernel.invokeFunction('convertToInteractive',\n",
              "                                                    [key], {});\n",
              "        if (!dataTable) return;\n",
              "\n",
              "        const docLinkHtml = 'Like what you see? Visit the ' +\n",
              "          '<a target=\"_blank\" href=https://colab.research.google.com/notebooks/data_table.ipynb>data table notebook</a>'\n",
              "          + ' to learn more about interactive tables.';\n",
              "        element.innerHTML = '';\n",
              "        dataTable['output_type'] = 'display_data';\n",
              "        await google.colab.output.renderOutput(dataTable, element);\n",
              "        const docLink = document.createElement('div');\n",
              "        docLink.innerHTML = docLinkHtml;\n",
              "        element.appendChild(docLink);\n",
              "      }\n",
              "    </script>\n",
              "  </div>\n",
              "\n",
              "\n",
              "<div id=\"df-23aeb508-2333-4b27-8068-eb97c4d4e33c\">\n",
              "  <button class=\"colab-df-quickchart\" onclick=\"quickchart('df-23aeb508-2333-4b27-8068-eb97c4d4e33c')\"\n",
              "            title=\"Suggest charts\"\n",
              "            style=\"display:none;\">\n",
              "\n",
              "<svg xmlns=\"http://www.w3.org/2000/svg\" height=\"24px\"viewBox=\"0 0 24 24\"\n",
              "     width=\"24px\">\n",
              "    <g>\n",
              "        <path d=\"M19 3H5c-1.1 0-2 .9-2 2v14c0 1.1.9 2 2 2h14c1.1 0 2-.9 2-2V5c0-1.1-.9-2-2-2zM9 17H7v-7h2v7zm4 0h-2V7h2v10zm4 0h-2v-4h2v4z\"/>\n",
              "    </g>\n",
              "</svg>\n",
              "  </button>\n",
              "\n",
              "<style>\n",
              "  .colab-df-quickchart {\n",
              "      --bg-color: #E8F0FE;\n",
              "      --fill-color: #1967D2;\n",
              "      --hover-bg-color: #E2EBFA;\n",
              "      --hover-fill-color: #174EA6;\n",
              "      --disabled-fill-color: #AAA;\n",
              "      --disabled-bg-color: #DDD;\n",
              "  }\n",
              "\n",
              "  [theme=dark] .colab-df-quickchart {\n",
              "      --bg-color: #3B4455;\n",
              "      --fill-color: #D2E3FC;\n",
              "      --hover-bg-color: #434B5C;\n",
              "      --hover-fill-color: #FFFFFF;\n",
              "      --disabled-bg-color: #3B4455;\n",
              "      --disabled-fill-color: #666;\n",
              "  }\n",
              "\n",
              "  .colab-df-quickchart {\n",
              "    background-color: var(--bg-color);\n",
              "    border: none;\n",
              "    border-radius: 50%;\n",
              "    cursor: pointer;\n",
              "    display: none;\n",
              "    fill: var(--fill-color);\n",
              "    height: 32px;\n",
              "    padding: 0;\n",
              "    width: 32px;\n",
              "  }\n",
              "\n",
              "  .colab-df-quickchart:hover {\n",
              "    background-color: var(--hover-bg-color);\n",
              "    box-shadow: 0 1px 2px rgba(60, 64, 67, 0.3), 0 1px 3px 1px rgba(60, 64, 67, 0.15);\n",
              "    fill: var(--button-hover-fill-color);\n",
              "  }\n",
              "\n",
              "  .colab-df-quickchart-complete:disabled,\n",
              "  .colab-df-quickchart-complete:disabled:hover {\n",
              "    background-color: var(--disabled-bg-color);\n",
              "    fill: var(--disabled-fill-color);\n",
              "    box-shadow: none;\n",
              "  }\n",
              "\n",
              "  .colab-df-spinner {\n",
              "    border: 2px solid var(--fill-color);\n",
              "    border-color: transparent;\n",
              "    border-bottom-color: var(--fill-color);\n",
              "    animation:\n",
              "      spin 1s steps(1) infinite;\n",
              "  }\n",
              "\n",
              "  @keyframes spin {\n",
              "    0% {\n",
              "      border-color: transparent;\n",
              "      border-bottom-color: var(--fill-color);\n",
              "      border-left-color: var(--fill-color);\n",
              "    }\n",
              "    20% {\n",
              "      border-color: transparent;\n",
              "      border-left-color: var(--fill-color);\n",
              "      border-top-color: var(--fill-color);\n",
              "    }\n",
              "    30% {\n",
              "      border-color: transparent;\n",
              "      border-left-color: var(--fill-color);\n",
              "      border-top-color: var(--fill-color);\n",
              "      border-right-color: var(--fill-color);\n",
              "    }\n",
              "    40% {\n",
              "      border-color: transparent;\n",
              "      border-right-color: var(--fill-color);\n",
              "      border-top-color: var(--fill-color);\n",
              "    }\n",
              "    60% {\n",
              "      border-color: transparent;\n",
              "      border-right-color: var(--fill-color);\n",
              "    }\n",
              "    80% {\n",
              "      border-color: transparent;\n",
              "      border-right-color: var(--fill-color);\n",
              "      border-bottom-color: var(--fill-color);\n",
              "    }\n",
              "    90% {\n",
              "      border-color: transparent;\n",
              "      border-bottom-color: var(--fill-color);\n",
              "    }\n",
              "  }\n",
              "</style>\n",
              "\n",
              "  <script>\n",
              "    async function quickchart(key) {\n",
              "      const quickchartButtonEl =\n",
              "        document.querySelector('#' + key + ' button');\n",
              "      quickchartButtonEl.disabled = true;  // To prevent multiple clicks.\n",
              "      quickchartButtonEl.classList.add('colab-df-spinner');\n",
              "      try {\n",
              "        const charts = await google.colab.kernel.invokeFunction(\n",
              "            'suggestCharts', [key], {});\n",
              "      } catch (error) {\n",
              "        console.error('Error during call to suggestCharts:', error);\n",
              "      }\n",
              "      quickchartButtonEl.classList.remove('colab-df-spinner');\n",
              "      quickchartButtonEl.classList.add('colab-df-quickchart-complete');\n",
              "    }\n",
              "    (() => {\n",
              "      let quickchartButtonEl =\n",
              "        document.querySelector('#df-23aeb508-2333-4b27-8068-eb97c4d4e33c button');\n",
              "      quickchartButtonEl.style.display =\n",
              "        google.colab.kernel.accessAllowed ? 'block' : 'none';\n",
              "    })();\n",
              "  </script>\n",
              "</div>\n",
              "    </div>\n",
              "  </div>\n"
            ]
          },
          "metadata": {},
          "execution_count": 331
        }
      ]
    },
    {
      "cell_type": "markdown",
      "source": [
        "Now, we tokenize, remove stopwords, and lemmatize, as we did with our training data."
      ],
      "metadata": {
        "id": "8aTtoVQn1fGD"
      }
    },
    {
      "cell_type": "code",
      "source": [
        "import nltk # Import nltk library\n",
        "nltk.download('punkt') # Use `punkt` to define punctuation\n",
        "from nltk.tokenize import word_tokenize # Import word_tokenize"
      ],
      "metadata": {
        "colab": {
          "base_uri": "https://localhost:8080/"
        },
        "outputId": "e6919965-0d8f-4c75-a92c-9a6138f22e42",
        "id": "-3Qr7dZSjFMs"
      },
      "execution_count": null,
      "outputs": [
        {
          "output_type": "stream",
          "name": "stderr",
          "text": [
            "[nltk_data] Downloading package punkt to /root/nltk_data...\n",
            "[nltk_data]   Package punkt is already up-to-date!\n"
          ]
        }
      ]
    },
    {
      "cell_type": "code",
      "source": [
        "chatgpt_natural_df['tokens'] = (chatgpt_natural_df['processed'].str.lower()).apply(word_tokenize)\n",
        "chatgpt_summary_df['tokens'] = (chatgpt_summary_df['processed'].str.lower()).apply(word_tokenize)\n",
        "chatgpt_detailed_df['tokens'] = (chatgpt_detailed_df['processed'].str.lower()).apply(word_tokenize)"
      ],
      "metadata": {
        "id": "8aCvd5TvjQ3B"
      },
      "execution_count": null,
      "outputs": []
    },
    {
      "cell_type": "code",
      "source": [
        "chatgpt_natural_df.head()"
      ],
      "metadata": {
        "colab": {
          "base_uri": "https://localhost:8080/",
          "height": 605
        },
        "id": "7_cJrOp_jFMt",
        "outputId": "6d481e72-c306-4996-fafc-877086d1723b"
      },
      "execution_count": null,
      "outputs": [
        {
          "output_type": "execute_result",
          "data": {
            "text/plain": [
              "                                              Prompt News Type  Year  \\\n",
              "0                         What was Hurricane Dorian?     Event  2019   \n",
              "1  What happened to the Notre Dame Cathedral in 2...     Event  2019   \n",
              "2    What happened at the Women's World Cup in 2019?     Event  2019   \n",
              "3             What happened during the Area 51 raid?     Event  2019   \n",
              "4        What happened during the 2019 Area 51 raid?     Event  2019   \n",
              "\n",
              "                  Topic                                   ChatGPT Response  \\\n",
              "0      Hurricane Dorian  \\r\\nHurricane Dorian was a powerful and devast...   \n",
              "1  Notre Dame Cathedral  The Notre-Dame Cathedral in Paris, France, suf...   \n",
              "2     Women's World Cup  \\r\\nThe 2019 FIFA Women's World Cup took place...   \n",
              "3          Area 51 raid  As of my last knowledge update in January 2022...   \n",
              "4          Area 51 raid  \\r\\nThe \"Storm Area 51\" event that gained atte...   \n",
              "\n",
              "                                           processed  \\\n",
              "0   Hurricane Dorian was a powerful and devastati...   \n",
              "1  The Notre Dame Cathedral in Paris France suffe...   \n",
              "2   The FIFA Women's World Cup took place in Fran...   \n",
              "3  As of my last knowledge update in January the ...   \n",
              "4   The Storm Area event that gained attention in...   \n",
              "\n",
              "                                              tokens  \n",
              "0  [hurricane, dorian, was, a, powerful, and, dev...  \n",
              "1  [the, notre, dame, cathedral, in, paris, franc...  \n",
              "2  [the, fifa, women, 's, world, cup, took, place...  \n",
              "3  [as, of, my, last, knowledge, update, in, janu...  \n",
              "4  [the, storm, area, event, that, gained, attent...  "
            ],
            "text/html": [
              "\n",
              "  <div id=\"df-c8ce0ec3-3f56-40e1-8a2e-28b50c3d4718\" class=\"colab-df-container\">\n",
              "    <div>\n",
              "<style scoped>\n",
              "    .dataframe tbody tr th:only-of-type {\n",
              "        vertical-align: middle;\n",
              "    }\n",
              "\n",
              "    .dataframe tbody tr th {\n",
              "        vertical-align: top;\n",
              "    }\n",
              "\n",
              "    .dataframe thead th {\n",
              "        text-align: right;\n",
              "    }\n",
              "</style>\n",
              "<table border=\"1\" class=\"dataframe\">\n",
              "  <thead>\n",
              "    <tr style=\"text-align: right;\">\n",
              "      <th></th>\n",
              "      <th>Prompt</th>\n",
              "      <th>News Type</th>\n",
              "      <th>Year</th>\n",
              "      <th>Topic</th>\n",
              "      <th>ChatGPT Response</th>\n",
              "      <th>processed</th>\n",
              "      <th>tokens</th>\n",
              "    </tr>\n",
              "  </thead>\n",
              "  <tbody>\n",
              "    <tr>\n",
              "      <th>0</th>\n",
              "      <td>What was Hurricane Dorian?</td>\n",
              "      <td>Event</td>\n",
              "      <td>2019</td>\n",
              "      <td>Hurricane Dorian</td>\n",
              "      <td>\\r\\nHurricane Dorian was a powerful and devast...</td>\n",
              "      <td>Hurricane Dorian was a powerful and devastati...</td>\n",
              "      <td>[hurricane, dorian, was, a, powerful, and, dev...</td>\n",
              "    </tr>\n",
              "    <tr>\n",
              "      <th>1</th>\n",
              "      <td>What happened to the Notre Dame Cathedral in 2...</td>\n",
              "      <td>Event</td>\n",
              "      <td>2019</td>\n",
              "      <td>Notre Dame Cathedral</td>\n",
              "      <td>The Notre-Dame Cathedral in Paris, France, suf...</td>\n",
              "      <td>The Notre Dame Cathedral in Paris France suffe...</td>\n",
              "      <td>[the, notre, dame, cathedral, in, paris, franc...</td>\n",
              "    </tr>\n",
              "    <tr>\n",
              "      <th>2</th>\n",
              "      <td>What happened at the Women's World Cup in 2019?</td>\n",
              "      <td>Event</td>\n",
              "      <td>2019</td>\n",
              "      <td>Women's World Cup</td>\n",
              "      <td>\\r\\nThe 2019 FIFA Women's World Cup took place...</td>\n",
              "      <td>The FIFA Women's World Cup took place in Fran...</td>\n",
              "      <td>[the, fifa, women, 's, world, cup, took, place...</td>\n",
              "    </tr>\n",
              "    <tr>\n",
              "      <th>3</th>\n",
              "      <td>What happened during the Area 51 raid?</td>\n",
              "      <td>Event</td>\n",
              "      <td>2019</td>\n",
              "      <td>Area 51 raid</td>\n",
              "      <td>As of my last knowledge update in January 2022...</td>\n",
              "      <td>As of my last knowledge update in January the ...</td>\n",
              "      <td>[as, of, my, last, knowledge, update, in, janu...</td>\n",
              "    </tr>\n",
              "    <tr>\n",
              "      <th>4</th>\n",
              "      <td>What happened during the 2019 Area 51 raid?</td>\n",
              "      <td>Event</td>\n",
              "      <td>2019</td>\n",
              "      <td>Area 51 raid</td>\n",
              "      <td>\\r\\nThe \"Storm Area 51\" event that gained atte...</td>\n",
              "      <td>The Storm Area event that gained attention in...</td>\n",
              "      <td>[the, storm, area, event, that, gained, attent...</td>\n",
              "    </tr>\n",
              "  </tbody>\n",
              "</table>\n",
              "</div>\n",
              "    <div class=\"colab-df-buttons\">\n",
              "\n",
              "  <div class=\"colab-df-container\">\n",
              "    <button class=\"colab-df-convert\" onclick=\"convertToInteractive('df-c8ce0ec3-3f56-40e1-8a2e-28b50c3d4718')\"\n",
              "            title=\"Convert this dataframe to an interactive table.\"\n",
              "            style=\"display:none;\">\n",
              "\n",
              "  <svg xmlns=\"http://www.w3.org/2000/svg\" height=\"24px\" viewBox=\"0 -960 960 960\">\n",
              "    <path d=\"M120-120v-720h720v720H120Zm60-500h600v-160H180v160Zm220 220h160v-160H400v160Zm0 220h160v-160H400v160ZM180-400h160v-160H180v160Zm440 0h160v-160H620v160ZM180-180h160v-160H180v160Zm440 0h160v-160H620v160Z\"/>\n",
              "  </svg>\n",
              "    </button>\n",
              "\n",
              "  <style>\n",
              "    .colab-df-container {\n",
              "      display:flex;\n",
              "      gap: 12px;\n",
              "    }\n",
              "\n",
              "    .colab-df-convert {\n",
              "      background-color: #E8F0FE;\n",
              "      border: none;\n",
              "      border-radius: 50%;\n",
              "      cursor: pointer;\n",
              "      display: none;\n",
              "      fill: #1967D2;\n",
              "      height: 32px;\n",
              "      padding: 0 0 0 0;\n",
              "      width: 32px;\n",
              "    }\n",
              "\n",
              "    .colab-df-convert:hover {\n",
              "      background-color: #E2EBFA;\n",
              "      box-shadow: 0px 1px 2px rgba(60, 64, 67, 0.3), 0px 1px 3px 1px rgba(60, 64, 67, 0.15);\n",
              "      fill: #174EA6;\n",
              "    }\n",
              "\n",
              "    .colab-df-buttons div {\n",
              "      margin-bottom: 4px;\n",
              "    }\n",
              "\n",
              "    [theme=dark] .colab-df-convert {\n",
              "      background-color: #3B4455;\n",
              "      fill: #D2E3FC;\n",
              "    }\n",
              "\n",
              "    [theme=dark] .colab-df-convert:hover {\n",
              "      background-color: #434B5C;\n",
              "      box-shadow: 0px 1px 3px 1px rgba(0, 0, 0, 0.15);\n",
              "      filter: drop-shadow(0px 1px 2px rgba(0, 0, 0, 0.3));\n",
              "      fill: #FFFFFF;\n",
              "    }\n",
              "  </style>\n",
              "\n",
              "    <script>\n",
              "      const buttonEl =\n",
              "        document.querySelector('#df-c8ce0ec3-3f56-40e1-8a2e-28b50c3d4718 button.colab-df-convert');\n",
              "      buttonEl.style.display =\n",
              "        google.colab.kernel.accessAllowed ? 'block' : 'none';\n",
              "\n",
              "      async function convertToInteractive(key) {\n",
              "        const element = document.querySelector('#df-c8ce0ec3-3f56-40e1-8a2e-28b50c3d4718');\n",
              "        const dataTable =\n",
              "          await google.colab.kernel.invokeFunction('convertToInteractive',\n",
              "                                                    [key], {});\n",
              "        if (!dataTable) return;\n",
              "\n",
              "        const docLinkHtml = 'Like what you see? Visit the ' +\n",
              "          '<a target=\"_blank\" href=https://colab.research.google.com/notebooks/data_table.ipynb>data table notebook</a>'\n",
              "          + ' to learn more about interactive tables.';\n",
              "        element.innerHTML = '';\n",
              "        dataTable['output_type'] = 'display_data';\n",
              "        await google.colab.output.renderOutput(dataTable, element);\n",
              "        const docLink = document.createElement('div');\n",
              "        docLink.innerHTML = docLinkHtml;\n",
              "        element.appendChild(docLink);\n",
              "      }\n",
              "    </script>\n",
              "  </div>\n",
              "\n",
              "\n",
              "<div id=\"df-126dc664-fab1-4937-9927-ad348744bfb2\">\n",
              "  <button class=\"colab-df-quickchart\" onclick=\"quickchart('df-126dc664-fab1-4937-9927-ad348744bfb2')\"\n",
              "            title=\"Suggest charts\"\n",
              "            style=\"display:none;\">\n",
              "\n",
              "<svg xmlns=\"http://www.w3.org/2000/svg\" height=\"24px\"viewBox=\"0 0 24 24\"\n",
              "     width=\"24px\">\n",
              "    <g>\n",
              "        <path d=\"M19 3H5c-1.1 0-2 .9-2 2v14c0 1.1.9 2 2 2h14c1.1 0 2-.9 2-2V5c0-1.1-.9-2-2-2zM9 17H7v-7h2v7zm4 0h-2V7h2v10zm4 0h-2v-4h2v4z\"/>\n",
              "    </g>\n",
              "</svg>\n",
              "  </button>\n",
              "\n",
              "<style>\n",
              "  .colab-df-quickchart {\n",
              "      --bg-color: #E8F0FE;\n",
              "      --fill-color: #1967D2;\n",
              "      --hover-bg-color: #E2EBFA;\n",
              "      --hover-fill-color: #174EA6;\n",
              "      --disabled-fill-color: #AAA;\n",
              "      --disabled-bg-color: #DDD;\n",
              "  }\n",
              "\n",
              "  [theme=dark] .colab-df-quickchart {\n",
              "      --bg-color: #3B4455;\n",
              "      --fill-color: #D2E3FC;\n",
              "      --hover-bg-color: #434B5C;\n",
              "      --hover-fill-color: #FFFFFF;\n",
              "      --disabled-bg-color: #3B4455;\n",
              "      --disabled-fill-color: #666;\n",
              "  }\n",
              "\n",
              "  .colab-df-quickchart {\n",
              "    background-color: var(--bg-color);\n",
              "    border: none;\n",
              "    border-radius: 50%;\n",
              "    cursor: pointer;\n",
              "    display: none;\n",
              "    fill: var(--fill-color);\n",
              "    height: 32px;\n",
              "    padding: 0;\n",
              "    width: 32px;\n",
              "  }\n",
              "\n",
              "  .colab-df-quickchart:hover {\n",
              "    background-color: var(--hover-bg-color);\n",
              "    box-shadow: 0 1px 2px rgba(60, 64, 67, 0.3), 0 1px 3px 1px rgba(60, 64, 67, 0.15);\n",
              "    fill: var(--button-hover-fill-color);\n",
              "  }\n",
              "\n",
              "  .colab-df-quickchart-complete:disabled,\n",
              "  .colab-df-quickchart-complete:disabled:hover {\n",
              "    background-color: var(--disabled-bg-color);\n",
              "    fill: var(--disabled-fill-color);\n",
              "    box-shadow: none;\n",
              "  }\n",
              "\n",
              "  .colab-df-spinner {\n",
              "    border: 2px solid var(--fill-color);\n",
              "    border-color: transparent;\n",
              "    border-bottom-color: var(--fill-color);\n",
              "    animation:\n",
              "      spin 1s steps(1) infinite;\n",
              "  }\n",
              "\n",
              "  @keyframes spin {\n",
              "    0% {\n",
              "      border-color: transparent;\n",
              "      border-bottom-color: var(--fill-color);\n",
              "      border-left-color: var(--fill-color);\n",
              "    }\n",
              "    20% {\n",
              "      border-color: transparent;\n",
              "      border-left-color: var(--fill-color);\n",
              "      border-top-color: var(--fill-color);\n",
              "    }\n",
              "    30% {\n",
              "      border-color: transparent;\n",
              "      border-left-color: var(--fill-color);\n",
              "      border-top-color: var(--fill-color);\n",
              "      border-right-color: var(--fill-color);\n",
              "    }\n",
              "    40% {\n",
              "      border-color: transparent;\n",
              "      border-right-color: var(--fill-color);\n",
              "      border-top-color: var(--fill-color);\n",
              "    }\n",
              "    60% {\n",
              "      border-color: transparent;\n",
              "      border-right-color: var(--fill-color);\n",
              "    }\n",
              "    80% {\n",
              "      border-color: transparent;\n",
              "      border-right-color: var(--fill-color);\n",
              "      border-bottom-color: var(--fill-color);\n",
              "    }\n",
              "    90% {\n",
              "      border-color: transparent;\n",
              "      border-bottom-color: var(--fill-color);\n",
              "    }\n",
              "  }\n",
              "</style>\n",
              "\n",
              "  <script>\n",
              "    async function quickchart(key) {\n",
              "      const quickchartButtonEl =\n",
              "        document.querySelector('#' + key + ' button');\n",
              "      quickchartButtonEl.disabled = true;  // To prevent multiple clicks.\n",
              "      quickchartButtonEl.classList.add('colab-df-spinner');\n",
              "      try {\n",
              "        const charts = await google.colab.kernel.invokeFunction(\n",
              "            'suggestCharts', [key], {});\n",
              "      } catch (error) {\n",
              "        console.error('Error during call to suggestCharts:', error);\n",
              "      }\n",
              "      quickchartButtonEl.classList.remove('colab-df-spinner');\n",
              "      quickchartButtonEl.classList.add('colab-df-quickchart-complete');\n",
              "    }\n",
              "    (() => {\n",
              "      let quickchartButtonEl =\n",
              "        document.querySelector('#df-126dc664-fab1-4937-9927-ad348744bfb2 button');\n",
              "      quickchartButtonEl.style.display =\n",
              "        google.colab.kernel.accessAllowed ? 'block' : 'none';\n",
              "    })();\n",
              "  </script>\n",
              "</div>\n",
              "    </div>\n",
              "  </div>\n"
            ]
          },
          "metadata": {},
          "execution_count": 334
        }
      ]
    },
    {
      "cell_type": "code",
      "source": [
        "nltk.download('stopwords')\n",
        "\n",
        "from nltk.corpus import stopwords # Import stopwords\n",
        "stop_words = set(stopwords.words('english')) # Set stopwords to 'English'\n",
        "\n",
        "print(stop_words) # Did we do this right??"
      ],
      "metadata": {
        "colab": {
          "base_uri": "https://localhost:8080/"
        },
        "outputId": "f188a67f-fabe-4672-dcfa-1b01cf616132",
        "id": "-OpdRQY-jFMt"
      },
      "execution_count": null,
      "outputs": [
        {
          "output_type": "stream",
          "name": "stdout",
          "text": [
            "{'being', 'ma', 'should', 'before', 'yourselves', 'my', 'up', 'which', 'am', \"needn't\", 'any', 'we', 'herself', \"mightn't\", \"shan't\", 'him', 'own', 'needn', 'each', \"should've\", 'all', \"you'd\", 'they', 'below', 'have', 'off', 'who', 'has', 'aren', \"doesn't\", \"hasn't\", \"you'll\", \"you're\", 'm', 'your', 've', \"don't\", 'themselves', 'same', 'ain', \"weren't\", 'no', 'this', 'just', \"it's\", 'she', 'too', 'of', \"you've\", 'been', 'until', 'through', 'on', 'that', 'over', 'will', 'don', \"hadn't\", 'against', 'into', 'd', 'weren', 'out', 'do', 'after', 'both', 'down', \"she's\", 'y', \"that'll\", 'how', 'itself', 'why', 'the', 'because', 'ours', 'are', 'nor', 'myself', 'more', 'under', 'other', \"wasn't\", 'yours', 'while', 'between', 'hers', 'and', 'yourself', 'then', 'for', 'does', \"didn't\", 'ourselves', 'its', \"shouldn't\", 'there', 'but', 'mustn', 'did', 'didn', 'where', 'them', 'wouldn', 'once', 'these', 'hadn', 'is', 'haven', 'only', 'you', 'couldn', 'such', 'very', 't', 'from', 'o', 'some', 'were', 'doing', 'their', 'to', 'can', 'mightn', 'few', 'had', 'having', 'about', 'whom', \"isn't\", 'her', 'shan', 'his', 'be', \"haven't\", 'doesn', 'a', 'with', 'an', 'further', 'theirs', 'i', 'as', 'at', \"won't\", \"couldn't\", 'll', 'himself', 'he', 'wasn', 'again', 're', 'it', 'during', 'when', 'hasn', 'by', 'not', 'isn', 'won', 'in', 'what', 'so', 'if', 'those', \"mustn't\", 'now', 'most', 'me', 'above', 'than', 'our', \"aren't\", 'was', 'or', \"wouldn't\", 'shouldn', 'here', 's'}\n"
          ]
        },
        {
          "output_type": "stream",
          "name": "stderr",
          "text": [
            "[nltk_data] Downloading package stopwords to /root/nltk_data...\n",
            "[nltk_data]   Package stopwords is already up-to-date!\n"
          ]
        }
      ]
    },
    {
      "cell_type": "code",
      "source": [
        "# We can use .apply() and can iterate through each tokenizezd row to remove stopwords with lambda\n",
        "chatgpt_natural_df['tokens'] = chatgpt_natural_df['tokens'].apply(lambda x: [word for word in x if word not in stop_words])\n",
        "chatgpt_summary_df['tokens'] = chatgpt_summary_df['tokens'].apply(lambda x: [word for word in x if word not in stop_words])\n",
        "chatgpt_detailed_df['tokens'] = chatgpt_detailed_df['tokens'].apply(lambda x: [word for word in x if word not in stop_words])"
      ],
      "metadata": {
        "id": "nKSMfsAdjFMt"
      },
      "execution_count": null,
      "outputs": []
    },
    {
      "cell_type": "code",
      "source": [
        "chatgpt_summary_df.head()"
      ],
      "metadata": {
        "colab": {
          "base_uri": "https://localhost:8080/",
          "height": 657
        },
        "id": "UGn24ygHjFMt",
        "outputId": "14ed4289-7d7d-4b92-94ba-d1ac3f72cee4"
      },
      "execution_count": null,
      "outputs": [
        {
          "output_type": "execute_result",
          "data": {
            "text/plain": [
              "                                              Prompt News Type  Year  \\\n",
              "0  Please provide a one paragraph summary of each...     Event  2019   \n",
              "1  Please provide a one paragraph summary of each...     Event  2019   \n",
              "2  Please provide a one paragraph summary of each...     Event  2019   \n",
              "3  Please provide a one paragraph summary of each...     Event  2019   \n",
              "4  Please provide a one paragraph summary of each...     Event  2019   \n",
              "\n",
              "                  Topic                                   ChatGPT Response  \\\n",
              "0      Hurricane Dorian  Hurricane Dorian, a powerful Category 5 storm,...   \n",
              "1  Notre Dame Cathedral  The Notre Dame Cathedral in Paris suffered a d...   \n",
              "2     Women's World Cup  The Women's World Cup is a quadrennial interna...   \n",
              "3          Area 51 raid  In September 2019, a viral social media event ...   \n",
              "4          Copa America  Copa America is the oldest international footb...   \n",
              "\n",
              "                                           processed  \\\n",
              "0  Hurricane Dorian a powerful Category storm str...   \n",
              "1  The Notre Dame Cathedral in Paris suffered a d...   \n",
              "2  The Women's World Cup is a quadrennial interna...   \n",
              "3  In September a viral social media event called...   \n",
              "4  Copa America is the oldest international footb...   \n",
              "\n",
              "                                              tokens  \n",
              "0  [hurricane, dorian, powerful, category, storm,...  \n",
              "1  [notre, dame, cathedral, paris, suffered, deva...  \n",
              "2  [women, 's, world, cup, quadrennial, internati...  \n",
              "3  [september, viral, social, media, event, calle...  \n",
              "4  [copa, america, oldest, international, footbal...  "
            ],
            "text/html": [
              "\n",
              "  <div id=\"df-a75751e1-39ed-4751-a692-cc442f0160f0\" class=\"colab-df-container\">\n",
              "    <div>\n",
              "<style scoped>\n",
              "    .dataframe tbody tr th:only-of-type {\n",
              "        vertical-align: middle;\n",
              "    }\n",
              "\n",
              "    .dataframe tbody tr th {\n",
              "        vertical-align: top;\n",
              "    }\n",
              "\n",
              "    .dataframe thead th {\n",
              "        text-align: right;\n",
              "    }\n",
              "</style>\n",
              "<table border=\"1\" class=\"dataframe\">\n",
              "  <thead>\n",
              "    <tr style=\"text-align: right;\">\n",
              "      <th></th>\n",
              "      <th>Prompt</th>\n",
              "      <th>News Type</th>\n",
              "      <th>Year</th>\n",
              "      <th>Topic</th>\n",
              "      <th>ChatGPT Response</th>\n",
              "      <th>processed</th>\n",
              "      <th>tokens</th>\n",
              "    </tr>\n",
              "  </thead>\n",
              "  <tbody>\n",
              "    <tr>\n",
              "      <th>0</th>\n",
              "      <td>Please provide a one paragraph summary of each...</td>\n",
              "      <td>Event</td>\n",
              "      <td>2019</td>\n",
              "      <td>Hurricane Dorian</td>\n",
              "      <td>Hurricane Dorian, a powerful Category 5 storm,...</td>\n",
              "      <td>Hurricane Dorian a powerful Category storm str...</td>\n",
              "      <td>[hurricane, dorian, powerful, category, storm,...</td>\n",
              "    </tr>\n",
              "    <tr>\n",
              "      <th>1</th>\n",
              "      <td>Please provide a one paragraph summary of each...</td>\n",
              "      <td>Event</td>\n",
              "      <td>2019</td>\n",
              "      <td>Notre Dame Cathedral</td>\n",
              "      <td>The Notre Dame Cathedral in Paris suffered a d...</td>\n",
              "      <td>The Notre Dame Cathedral in Paris suffered a d...</td>\n",
              "      <td>[notre, dame, cathedral, paris, suffered, deva...</td>\n",
              "    </tr>\n",
              "    <tr>\n",
              "      <th>2</th>\n",
              "      <td>Please provide a one paragraph summary of each...</td>\n",
              "      <td>Event</td>\n",
              "      <td>2019</td>\n",
              "      <td>Women's World Cup</td>\n",
              "      <td>The Women's World Cup is a quadrennial interna...</td>\n",
              "      <td>The Women's World Cup is a quadrennial interna...</td>\n",
              "      <td>[women, 's, world, cup, quadrennial, internati...</td>\n",
              "    </tr>\n",
              "    <tr>\n",
              "      <th>3</th>\n",
              "      <td>Please provide a one paragraph summary of each...</td>\n",
              "      <td>Event</td>\n",
              "      <td>2019</td>\n",
              "      <td>Area 51 raid</td>\n",
              "      <td>In September 2019, a viral social media event ...</td>\n",
              "      <td>In September a viral social media event called...</td>\n",
              "      <td>[september, viral, social, media, event, calle...</td>\n",
              "    </tr>\n",
              "    <tr>\n",
              "      <th>4</th>\n",
              "      <td>Please provide a one paragraph summary of each...</td>\n",
              "      <td>Event</td>\n",
              "      <td>2019</td>\n",
              "      <td>Copa America</td>\n",
              "      <td>Copa America is the oldest international footb...</td>\n",
              "      <td>Copa America is the oldest international footb...</td>\n",
              "      <td>[copa, america, oldest, international, footbal...</td>\n",
              "    </tr>\n",
              "  </tbody>\n",
              "</table>\n",
              "</div>\n",
              "    <div class=\"colab-df-buttons\">\n",
              "\n",
              "  <div class=\"colab-df-container\">\n",
              "    <button class=\"colab-df-convert\" onclick=\"convertToInteractive('df-a75751e1-39ed-4751-a692-cc442f0160f0')\"\n",
              "            title=\"Convert this dataframe to an interactive table.\"\n",
              "            style=\"display:none;\">\n",
              "\n",
              "  <svg xmlns=\"http://www.w3.org/2000/svg\" height=\"24px\" viewBox=\"0 -960 960 960\">\n",
              "    <path d=\"M120-120v-720h720v720H120Zm60-500h600v-160H180v160Zm220 220h160v-160H400v160Zm0 220h160v-160H400v160ZM180-400h160v-160H180v160Zm440 0h160v-160H620v160ZM180-180h160v-160H180v160Zm440 0h160v-160H620v160Z\"/>\n",
              "  </svg>\n",
              "    </button>\n",
              "\n",
              "  <style>\n",
              "    .colab-df-container {\n",
              "      display:flex;\n",
              "      gap: 12px;\n",
              "    }\n",
              "\n",
              "    .colab-df-convert {\n",
              "      background-color: #E8F0FE;\n",
              "      border: none;\n",
              "      border-radius: 50%;\n",
              "      cursor: pointer;\n",
              "      display: none;\n",
              "      fill: #1967D2;\n",
              "      height: 32px;\n",
              "      padding: 0 0 0 0;\n",
              "      width: 32px;\n",
              "    }\n",
              "\n",
              "    .colab-df-convert:hover {\n",
              "      background-color: #E2EBFA;\n",
              "      box-shadow: 0px 1px 2px rgba(60, 64, 67, 0.3), 0px 1px 3px 1px rgba(60, 64, 67, 0.15);\n",
              "      fill: #174EA6;\n",
              "    }\n",
              "\n",
              "    .colab-df-buttons div {\n",
              "      margin-bottom: 4px;\n",
              "    }\n",
              "\n",
              "    [theme=dark] .colab-df-convert {\n",
              "      background-color: #3B4455;\n",
              "      fill: #D2E3FC;\n",
              "    }\n",
              "\n",
              "    [theme=dark] .colab-df-convert:hover {\n",
              "      background-color: #434B5C;\n",
              "      box-shadow: 0px 1px 3px 1px rgba(0, 0, 0, 0.15);\n",
              "      filter: drop-shadow(0px 1px 2px rgba(0, 0, 0, 0.3));\n",
              "      fill: #FFFFFF;\n",
              "    }\n",
              "  </style>\n",
              "\n",
              "    <script>\n",
              "      const buttonEl =\n",
              "        document.querySelector('#df-a75751e1-39ed-4751-a692-cc442f0160f0 button.colab-df-convert');\n",
              "      buttonEl.style.display =\n",
              "        google.colab.kernel.accessAllowed ? 'block' : 'none';\n",
              "\n",
              "      async function convertToInteractive(key) {\n",
              "        const element = document.querySelector('#df-a75751e1-39ed-4751-a692-cc442f0160f0');\n",
              "        const dataTable =\n",
              "          await google.colab.kernel.invokeFunction('convertToInteractive',\n",
              "                                                    [key], {});\n",
              "        if (!dataTable) return;\n",
              "\n",
              "        const docLinkHtml = 'Like what you see? Visit the ' +\n",
              "          '<a target=\"_blank\" href=https://colab.research.google.com/notebooks/data_table.ipynb>data table notebook</a>'\n",
              "          + ' to learn more about interactive tables.';\n",
              "        element.innerHTML = '';\n",
              "        dataTable['output_type'] = 'display_data';\n",
              "        await google.colab.output.renderOutput(dataTable, element);\n",
              "        const docLink = document.createElement('div');\n",
              "        docLink.innerHTML = docLinkHtml;\n",
              "        element.appendChild(docLink);\n",
              "      }\n",
              "    </script>\n",
              "  </div>\n",
              "\n",
              "\n",
              "<div id=\"df-5ba17795-1e6f-4d9a-b726-cad0707e9972\">\n",
              "  <button class=\"colab-df-quickchart\" onclick=\"quickchart('df-5ba17795-1e6f-4d9a-b726-cad0707e9972')\"\n",
              "            title=\"Suggest charts\"\n",
              "            style=\"display:none;\">\n",
              "\n",
              "<svg xmlns=\"http://www.w3.org/2000/svg\" height=\"24px\"viewBox=\"0 0 24 24\"\n",
              "     width=\"24px\">\n",
              "    <g>\n",
              "        <path d=\"M19 3H5c-1.1 0-2 .9-2 2v14c0 1.1.9 2 2 2h14c1.1 0 2-.9 2-2V5c0-1.1-.9-2-2-2zM9 17H7v-7h2v7zm4 0h-2V7h2v10zm4 0h-2v-4h2v4z\"/>\n",
              "    </g>\n",
              "</svg>\n",
              "  </button>\n",
              "\n",
              "<style>\n",
              "  .colab-df-quickchart {\n",
              "      --bg-color: #E8F0FE;\n",
              "      --fill-color: #1967D2;\n",
              "      --hover-bg-color: #E2EBFA;\n",
              "      --hover-fill-color: #174EA6;\n",
              "      --disabled-fill-color: #AAA;\n",
              "      --disabled-bg-color: #DDD;\n",
              "  }\n",
              "\n",
              "  [theme=dark] .colab-df-quickchart {\n",
              "      --bg-color: #3B4455;\n",
              "      --fill-color: #D2E3FC;\n",
              "      --hover-bg-color: #434B5C;\n",
              "      --hover-fill-color: #FFFFFF;\n",
              "      --disabled-bg-color: #3B4455;\n",
              "      --disabled-fill-color: #666;\n",
              "  }\n",
              "\n",
              "  .colab-df-quickchart {\n",
              "    background-color: var(--bg-color);\n",
              "    border: none;\n",
              "    border-radius: 50%;\n",
              "    cursor: pointer;\n",
              "    display: none;\n",
              "    fill: var(--fill-color);\n",
              "    height: 32px;\n",
              "    padding: 0;\n",
              "    width: 32px;\n",
              "  }\n",
              "\n",
              "  .colab-df-quickchart:hover {\n",
              "    background-color: var(--hover-bg-color);\n",
              "    box-shadow: 0 1px 2px rgba(60, 64, 67, 0.3), 0 1px 3px 1px rgba(60, 64, 67, 0.15);\n",
              "    fill: var(--button-hover-fill-color);\n",
              "  }\n",
              "\n",
              "  .colab-df-quickchart-complete:disabled,\n",
              "  .colab-df-quickchart-complete:disabled:hover {\n",
              "    background-color: var(--disabled-bg-color);\n",
              "    fill: var(--disabled-fill-color);\n",
              "    box-shadow: none;\n",
              "  }\n",
              "\n",
              "  .colab-df-spinner {\n",
              "    border: 2px solid var(--fill-color);\n",
              "    border-color: transparent;\n",
              "    border-bottom-color: var(--fill-color);\n",
              "    animation:\n",
              "      spin 1s steps(1) infinite;\n",
              "  }\n",
              "\n",
              "  @keyframes spin {\n",
              "    0% {\n",
              "      border-color: transparent;\n",
              "      border-bottom-color: var(--fill-color);\n",
              "      border-left-color: var(--fill-color);\n",
              "    }\n",
              "    20% {\n",
              "      border-color: transparent;\n",
              "      border-left-color: var(--fill-color);\n",
              "      border-top-color: var(--fill-color);\n",
              "    }\n",
              "    30% {\n",
              "      border-color: transparent;\n",
              "      border-left-color: var(--fill-color);\n",
              "      border-top-color: var(--fill-color);\n",
              "      border-right-color: var(--fill-color);\n",
              "    }\n",
              "    40% {\n",
              "      border-color: transparent;\n",
              "      border-right-color: var(--fill-color);\n",
              "      border-top-color: var(--fill-color);\n",
              "    }\n",
              "    60% {\n",
              "      border-color: transparent;\n",
              "      border-right-color: var(--fill-color);\n",
              "    }\n",
              "    80% {\n",
              "      border-color: transparent;\n",
              "      border-right-color: var(--fill-color);\n",
              "      border-bottom-color: var(--fill-color);\n",
              "    }\n",
              "    90% {\n",
              "      border-color: transparent;\n",
              "      border-bottom-color: var(--fill-color);\n",
              "    }\n",
              "  }\n",
              "</style>\n",
              "\n",
              "  <script>\n",
              "    async function quickchart(key) {\n",
              "      const quickchartButtonEl =\n",
              "        document.querySelector('#' + key + ' button');\n",
              "      quickchartButtonEl.disabled = true;  // To prevent multiple clicks.\n",
              "      quickchartButtonEl.classList.add('colab-df-spinner');\n",
              "      try {\n",
              "        const charts = await google.colab.kernel.invokeFunction(\n",
              "            'suggestCharts', [key], {});\n",
              "      } catch (error) {\n",
              "        console.error('Error during call to suggestCharts:', error);\n",
              "      }\n",
              "      quickchartButtonEl.classList.remove('colab-df-spinner');\n",
              "      quickchartButtonEl.classList.add('colab-df-quickchart-complete');\n",
              "    }\n",
              "    (() => {\n",
              "      let quickchartButtonEl =\n",
              "        document.querySelector('#df-5ba17795-1e6f-4d9a-b726-cad0707e9972 button');\n",
              "      quickchartButtonEl.style.display =\n",
              "        google.colab.kernel.accessAllowed ? 'block' : 'none';\n",
              "    })();\n",
              "  </script>\n",
              "</div>\n",
              "    </div>\n",
              "  </div>\n"
            ]
          },
          "metadata": {},
          "execution_count": 337
        }
      ]
    },
    {
      "cell_type": "code",
      "source": [
        "# Lemmatize function with help from practicum 2\n",
        "# Import wordnet, the Lemmatizer, and set it equal to a variable\n",
        "\n",
        "nltk.download('wordnet')\n",
        "from nltk.stem import WordNetLemmatizer\n",
        "lemmatizer = WordNetLemmatizer()"
      ],
      "metadata": {
        "colab": {
          "base_uri": "https://localhost:8080/"
        },
        "outputId": "4e128b2f-0bd8-4c71-f3bd-99621d4cbb91",
        "id": "CJU8a2xFjFMt"
      },
      "execution_count": null,
      "outputs": [
        {
          "output_type": "stream",
          "name": "stderr",
          "text": [
            "[nltk_data] Downloading package wordnet to /root/nltk_data...\n",
            "[nltk_data]   Package wordnet is already up-to-date!\n"
          ]
        }
      ]
    },
    {
      "cell_type": "code",
      "source": [
        "chatgpt_natural_df['tokens'] = chatgpt_natural_df['tokens'].apply(lambda x: [lemmatizer.lemmatize(word) for word in x])\n",
        "chatgpt_summary_df['tokens'] = chatgpt_summary_df['tokens'].apply(lambda x: [lemmatizer.lemmatize(word) for word in x])\n",
        "chatgpt_detailed_df['tokens'] = chatgpt_detailed_df['tokens'].apply(lambda x: [lemmatizer.lemmatize(word) for word in x])"
      ],
      "metadata": {
        "id": "8-HgIduPjFMt"
      },
      "execution_count": null,
      "outputs": []
    },
    {
      "cell_type": "code",
      "source": [
        "# chatgpt_natural_df['tokens_str'] = chatgpt_natural_df['tokens'].apply(lambda token_list: [str(token) for token in token_list])\n",
        "# chatgpt_summary_df['tokens_str'] = chatgpt_summary_df['tokens'].apply(lambda token_list: [str(token) for token in token_list])\n",
        "# chatgpt_detailed_df['tokens_str'] = chatgpt_detailed_df['tokens'].apply(lambda token_list: [str(token) for token in token_list])"
      ],
      "metadata": {
        "id": "TnKTuWq7lw-o"
      },
      "execution_count": null,
      "outputs": []
    },
    {
      "cell_type": "code",
      "source": [
        "chatgpt_detailed_df.head()"
      ],
      "metadata": {
        "colab": {
          "base_uri": "https://localhost:8080/",
          "height": 746
        },
        "outputId": "dfb589d0-5174-462d-ff3a-73bfa79d046d",
        "id": "924wZZaTjFMu"
      },
      "execution_count": null,
      "outputs": [
        {
          "output_type": "execute_result",
          "data": {
            "text/plain": [
              "                                              Prompt  Year  \\\n",
              "0  Please provide an 5 paragraph essay including ...  2019   \n",
              "1  Please provide an 5 paragraph essay including ...  2019   \n",
              "2  Please provide an 5 paragraph essay including ...  2019   \n",
              "3  Please provide an 5 paragraph essay including ...  2019   \n",
              "4  Please provide an 5 paragraph essay including ...  2019   \n",
              "\n",
              "                  Topic                                   ChatGPT Response  \\\n",
              "0      Hurricane Dorian  Title: Unleashing Nature's Fury: Hurricane Dor...   \n",
              "1  Notre Dame Cathedral  Title: Notre Dame Cathedral: A Symbolic Marvel...   \n",
              "2     Women's World Cup  Title: The Empowering Impact of the 2019 Women...   \n",
              "3          Area 51 raid  Introduction:\\r\\n\\r\\nThe Area 51 Raid of 2019 ...   \n",
              "4          Copa America  Title: Copa America 2019: A Football Extravaga...   \n",
              "\n",
              "                                           processed  \\\n",
              "0  Title Unleashing Nature's Fury Hurricane Doria...   \n",
              "1  Title Notre Dame Cathedral A Symbolic Marvel E...   \n",
              "2  Title The Empowering Impact of the Women's Wor...   \n",
              "3  Introduction The Area Raid of captured the att...   \n",
              "4  Title Copa America A Football Extravaganza Unv...   \n",
              "\n",
              "                                              tokens  \n",
              "0  [title, unleashing, nature, 's, fury, hurrican...  \n",
              "1  [title, notre, dame, cathedral, symbolic, marv...  \n",
              "2  [title, empowering, impact, woman, 's, world, ...  \n",
              "3  [introduction, area, raid, captured, attention...  \n",
              "4  [title, copa, america, football, extravaganza,...  "
            ],
            "text/html": [
              "\n",
              "  <div id=\"df-438de1a6-d4e9-4979-97f9-79d69010cfa0\" class=\"colab-df-container\">\n",
              "    <div>\n",
              "<style scoped>\n",
              "    .dataframe tbody tr th:only-of-type {\n",
              "        vertical-align: middle;\n",
              "    }\n",
              "\n",
              "    .dataframe tbody tr th {\n",
              "        vertical-align: top;\n",
              "    }\n",
              "\n",
              "    .dataframe thead th {\n",
              "        text-align: right;\n",
              "    }\n",
              "</style>\n",
              "<table border=\"1\" class=\"dataframe\">\n",
              "  <thead>\n",
              "    <tr style=\"text-align: right;\">\n",
              "      <th></th>\n",
              "      <th>Prompt</th>\n",
              "      <th>Year</th>\n",
              "      <th>Topic</th>\n",
              "      <th>ChatGPT Response</th>\n",
              "      <th>processed</th>\n",
              "      <th>tokens</th>\n",
              "    </tr>\n",
              "  </thead>\n",
              "  <tbody>\n",
              "    <tr>\n",
              "      <th>0</th>\n",
              "      <td>Please provide an 5 paragraph essay including ...</td>\n",
              "      <td>2019</td>\n",
              "      <td>Hurricane Dorian</td>\n",
              "      <td>Title: Unleashing Nature's Fury: Hurricane Dor...</td>\n",
              "      <td>Title Unleashing Nature's Fury Hurricane Doria...</td>\n",
              "      <td>[title, unleashing, nature, 's, fury, hurrican...</td>\n",
              "    </tr>\n",
              "    <tr>\n",
              "      <th>1</th>\n",
              "      <td>Please provide an 5 paragraph essay including ...</td>\n",
              "      <td>2019</td>\n",
              "      <td>Notre Dame Cathedral</td>\n",
              "      <td>Title: Notre Dame Cathedral: A Symbolic Marvel...</td>\n",
              "      <td>Title Notre Dame Cathedral A Symbolic Marvel E...</td>\n",
              "      <td>[title, notre, dame, cathedral, symbolic, marv...</td>\n",
              "    </tr>\n",
              "    <tr>\n",
              "      <th>2</th>\n",
              "      <td>Please provide an 5 paragraph essay including ...</td>\n",
              "      <td>2019</td>\n",
              "      <td>Women's World Cup</td>\n",
              "      <td>Title: The Empowering Impact of the 2019 Women...</td>\n",
              "      <td>Title The Empowering Impact of the Women's Wor...</td>\n",
              "      <td>[title, empowering, impact, woman, 's, world, ...</td>\n",
              "    </tr>\n",
              "    <tr>\n",
              "      <th>3</th>\n",
              "      <td>Please provide an 5 paragraph essay including ...</td>\n",
              "      <td>2019</td>\n",
              "      <td>Area 51 raid</td>\n",
              "      <td>Introduction:\\r\\n\\r\\nThe Area 51 Raid of 2019 ...</td>\n",
              "      <td>Introduction The Area Raid of captured the att...</td>\n",
              "      <td>[introduction, area, raid, captured, attention...</td>\n",
              "    </tr>\n",
              "    <tr>\n",
              "      <th>4</th>\n",
              "      <td>Please provide an 5 paragraph essay including ...</td>\n",
              "      <td>2019</td>\n",
              "      <td>Copa America</td>\n",
              "      <td>Title: Copa America 2019: A Football Extravaga...</td>\n",
              "      <td>Title Copa America A Football Extravaganza Unv...</td>\n",
              "      <td>[title, copa, america, football, extravaganza,...</td>\n",
              "    </tr>\n",
              "  </tbody>\n",
              "</table>\n",
              "</div>\n",
              "    <div class=\"colab-df-buttons\">\n",
              "\n",
              "  <div class=\"colab-df-container\">\n",
              "    <button class=\"colab-df-convert\" onclick=\"convertToInteractive('df-438de1a6-d4e9-4979-97f9-79d69010cfa0')\"\n",
              "            title=\"Convert this dataframe to an interactive table.\"\n",
              "            style=\"display:none;\">\n",
              "\n",
              "  <svg xmlns=\"http://www.w3.org/2000/svg\" height=\"24px\" viewBox=\"0 -960 960 960\">\n",
              "    <path d=\"M120-120v-720h720v720H120Zm60-500h600v-160H180v160Zm220 220h160v-160H400v160Zm0 220h160v-160H400v160ZM180-400h160v-160H180v160Zm440 0h160v-160H620v160ZM180-180h160v-160H180v160Zm440 0h160v-160H620v160Z\"/>\n",
              "  </svg>\n",
              "    </button>\n",
              "\n",
              "  <style>\n",
              "    .colab-df-container {\n",
              "      display:flex;\n",
              "      gap: 12px;\n",
              "    }\n",
              "\n",
              "    .colab-df-convert {\n",
              "      background-color: #E8F0FE;\n",
              "      border: none;\n",
              "      border-radius: 50%;\n",
              "      cursor: pointer;\n",
              "      display: none;\n",
              "      fill: #1967D2;\n",
              "      height: 32px;\n",
              "      padding: 0 0 0 0;\n",
              "      width: 32px;\n",
              "    }\n",
              "\n",
              "    .colab-df-convert:hover {\n",
              "      background-color: #E2EBFA;\n",
              "      box-shadow: 0px 1px 2px rgba(60, 64, 67, 0.3), 0px 1px 3px 1px rgba(60, 64, 67, 0.15);\n",
              "      fill: #174EA6;\n",
              "    }\n",
              "\n",
              "    .colab-df-buttons div {\n",
              "      margin-bottom: 4px;\n",
              "    }\n",
              "\n",
              "    [theme=dark] .colab-df-convert {\n",
              "      background-color: #3B4455;\n",
              "      fill: #D2E3FC;\n",
              "    }\n",
              "\n",
              "    [theme=dark] .colab-df-convert:hover {\n",
              "      background-color: #434B5C;\n",
              "      box-shadow: 0px 1px 3px 1px rgba(0, 0, 0, 0.15);\n",
              "      filter: drop-shadow(0px 1px 2px rgba(0, 0, 0, 0.3));\n",
              "      fill: #FFFFFF;\n",
              "    }\n",
              "  </style>\n",
              "\n",
              "    <script>\n",
              "      const buttonEl =\n",
              "        document.querySelector('#df-438de1a6-d4e9-4979-97f9-79d69010cfa0 button.colab-df-convert');\n",
              "      buttonEl.style.display =\n",
              "        google.colab.kernel.accessAllowed ? 'block' : 'none';\n",
              "\n",
              "      async function convertToInteractive(key) {\n",
              "        const element = document.querySelector('#df-438de1a6-d4e9-4979-97f9-79d69010cfa0');\n",
              "        const dataTable =\n",
              "          await google.colab.kernel.invokeFunction('convertToInteractive',\n",
              "                                                    [key], {});\n",
              "        if (!dataTable) return;\n",
              "\n",
              "        const docLinkHtml = 'Like what you see? Visit the ' +\n",
              "          '<a target=\"_blank\" href=https://colab.research.google.com/notebooks/data_table.ipynb>data table notebook</a>'\n",
              "          + ' to learn more about interactive tables.';\n",
              "        element.innerHTML = '';\n",
              "        dataTable['output_type'] = 'display_data';\n",
              "        await google.colab.output.renderOutput(dataTable, element);\n",
              "        const docLink = document.createElement('div');\n",
              "        docLink.innerHTML = docLinkHtml;\n",
              "        element.appendChild(docLink);\n",
              "      }\n",
              "    </script>\n",
              "  </div>\n",
              "\n",
              "\n",
              "<div id=\"df-9626aea4-ec7e-48d6-ab62-29221678556b\">\n",
              "  <button class=\"colab-df-quickchart\" onclick=\"quickchart('df-9626aea4-ec7e-48d6-ab62-29221678556b')\"\n",
              "            title=\"Suggest charts\"\n",
              "            style=\"display:none;\">\n",
              "\n",
              "<svg xmlns=\"http://www.w3.org/2000/svg\" height=\"24px\"viewBox=\"0 0 24 24\"\n",
              "     width=\"24px\">\n",
              "    <g>\n",
              "        <path d=\"M19 3H5c-1.1 0-2 .9-2 2v14c0 1.1.9 2 2 2h14c1.1 0 2-.9 2-2V5c0-1.1-.9-2-2-2zM9 17H7v-7h2v7zm4 0h-2V7h2v10zm4 0h-2v-4h2v4z\"/>\n",
              "    </g>\n",
              "</svg>\n",
              "  </button>\n",
              "\n",
              "<style>\n",
              "  .colab-df-quickchart {\n",
              "      --bg-color: #E8F0FE;\n",
              "      --fill-color: #1967D2;\n",
              "      --hover-bg-color: #E2EBFA;\n",
              "      --hover-fill-color: #174EA6;\n",
              "      --disabled-fill-color: #AAA;\n",
              "      --disabled-bg-color: #DDD;\n",
              "  }\n",
              "\n",
              "  [theme=dark] .colab-df-quickchart {\n",
              "      --bg-color: #3B4455;\n",
              "      --fill-color: #D2E3FC;\n",
              "      --hover-bg-color: #434B5C;\n",
              "      --hover-fill-color: #FFFFFF;\n",
              "      --disabled-bg-color: #3B4455;\n",
              "      --disabled-fill-color: #666;\n",
              "  }\n",
              "\n",
              "  .colab-df-quickchart {\n",
              "    background-color: var(--bg-color);\n",
              "    border: none;\n",
              "    border-radius: 50%;\n",
              "    cursor: pointer;\n",
              "    display: none;\n",
              "    fill: var(--fill-color);\n",
              "    height: 32px;\n",
              "    padding: 0;\n",
              "    width: 32px;\n",
              "  }\n",
              "\n",
              "  .colab-df-quickchart:hover {\n",
              "    background-color: var(--hover-bg-color);\n",
              "    box-shadow: 0 1px 2px rgba(60, 64, 67, 0.3), 0 1px 3px 1px rgba(60, 64, 67, 0.15);\n",
              "    fill: var(--button-hover-fill-color);\n",
              "  }\n",
              "\n",
              "  .colab-df-quickchart-complete:disabled,\n",
              "  .colab-df-quickchart-complete:disabled:hover {\n",
              "    background-color: var(--disabled-bg-color);\n",
              "    fill: var(--disabled-fill-color);\n",
              "    box-shadow: none;\n",
              "  }\n",
              "\n",
              "  .colab-df-spinner {\n",
              "    border: 2px solid var(--fill-color);\n",
              "    border-color: transparent;\n",
              "    border-bottom-color: var(--fill-color);\n",
              "    animation:\n",
              "      spin 1s steps(1) infinite;\n",
              "  }\n",
              "\n",
              "  @keyframes spin {\n",
              "    0% {\n",
              "      border-color: transparent;\n",
              "      border-bottom-color: var(--fill-color);\n",
              "      border-left-color: var(--fill-color);\n",
              "    }\n",
              "    20% {\n",
              "      border-color: transparent;\n",
              "      border-left-color: var(--fill-color);\n",
              "      border-top-color: var(--fill-color);\n",
              "    }\n",
              "    30% {\n",
              "      border-color: transparent;\n",
              "      border-left-color: var(--fill-color);\n",
              "      border-top-color: var(--fill-color);\n",
              "      border-right-color: var(--fill-color);\n",
              "    }\n",
              "    40% {\n",
              "      border-color: transparent;\n",
              "      border-right-color: var(--fill-color);\n",
              "      border-top-color: var(--fill-color);\n",
              "    }\n",
              "    60% {\n",
              "      border-color: transparent;\n",
              "      border-right-color: var(--fill-color);\n",
              "    }\n",
              "    80% {\n",
              "      border-color: transparent;\n",
              "      border-right-color: var(--fill-color);\n",
              "      border-bottom-color: var(--fill-color);\n",
              "    }\n",
              "    90% {\n",
              "      border-color: transparent;\n",
              "      border-bottom-color: var(--fill-color);\n",
              "    }\n",
              "  }\n",
              "</style>\n",
              "\n",
              "  <script>\n",
              "    async function quickchart(key) {\n",
              "      const quickchartButtonEl =\n",
              "        document.querySelector('#' + key + ' button');\n",
              "      quickchartButtonEl.disabled = true;  // To prevent multiple clicks.\n",
              "      quickchartButtonEl.classList.add('colab-df-spinner');\n",
              "      try {\n",
              "        const charts = await google.colab.kernel.invokeFunction(\n",
              "            'suggestCharts', [key], {});\n",
              "      } catch (error) {\n",
              "        console.error('Error during call to suggestCharts:', error);\n",
              "      }\n",
              "      quickchartButtonEl.classList.remove('colab-df-spinner');\n",
              "      quickchartButtonEl.classList.add('colab-df-quickchart-complete');\n",
              "    }\n",
              "    (() => {\n",
              "      let quickchartButtonEl =\n",
              "        document.querySelector('#df-9626aea4-ec7e-48d6-ab62-29221678556b button');\n",
              "      quickchartButtonEl.style.display =\n",
              "        google.colab.kernel.accessAllowed ? 'block' : 'none';\n",
              "    })();\n",
              "  </script>\n",
              "</div>\n",
              "    </div>\n",
              "  </div>\n"
            ]
          },
          "metadata": {},
          "execution_count": 341
        }
      ]
    },
    {
      "cell_type": "markdown",
      "source": [
        "Let's save to backup .csv's!"
      ],
      "metadata": {
        "id": "0rnBh-At1jJJ"
      }
    },
    {
      "cell_type": "code",
      "source": [
        "# chatgpt_detailed_df['tokens']"
      ],
      "metadata": {
        "id": "coZQTDrDmd89"
      },
      "execution_count": null,
      "outputs": []
    },
    {
      "cell_type": "code",
      "source": [
        "# Download .csv\n",
        "chatgpt_natural_df.to_csv('chatgpt_natural_processed.csv')\n",
        "chatgpt_summary_df.to_csv('chatgpt_summary_processed.csv')\n",
        "chatgpt_detailed_df.to_csv('chatgpt_detailed_processed.csv')"
      ],
      "metadata": {
        "id": "ebfMcEqAjFMu"
      },
      "execution_count": null,
      "outputs": []
    },
    {
      "cell_type": "markdown",
      "source": [
        "We can pull the tokens that we want to featurize:"
      ],
      "metadata": {
        "id": "fdehqKam1maC"
      }
    },
    {
      "cell_type": "code",
      "source": [
        "X_natural = chatgpt_natural_df['tokens']\n",
        "X_summary = chatgpt_summary_df['tokens']\n",
        "X_detailed = chatgpt_detailed_df['tokens']"
      ],
      "metadata": {
        "id": "sVOfHYWyiskn"
      },
      "execution_count": null,
      "outputs": []
    },
    {
      "cell_type": "markdown",
      "source": [
        "Remember, X_test was shaped like this ..."
      ],
      "metadata": {
        "id": "hLTj9W-v1pZa"
      }
    },
    {
      "cell_type": "code",
      "source": [
        "X_test"
      ],
      "metadata": {
        "colab": {
          "base_uri": "https://localhost:8080/"
        },
        "id": "KHG_M3PDvQG9",
        "outputId": "5d5446cd-4248-4c80-fbbe-16f406a62689"
      },
      "execution_count": null,
      "outputs": [
        {
          "output_type": "execute_result",
          "data": {
            "text/plain": [
              "6809     ['ohio', 'police', 'department', 'took', 'face...\n",
              "7144     ['major', 'issue', 'post', 'race', 'technical'...\n",
              "7521     ['shlomit', 'malka', 'hospitalized', 'sunday',...\n",
              "8174     ['reality', 'sometimes', 'fact', 'always', 'ge...\n",
              "5264     ['come', 'solving', 'nation', 'complex', 'prob...\n",
              "                               ...                        \n",
              "207      ['sarah', 'b', 'boxer', 'nation', 'remains', '...\n",
              "5623     ['pentagon', 'announced', 'monday', 'despite',...\n",
              "3012     ['marching', 'band', \"'s\", 'expected', 'perfor...\n",
              "10223    ['cnn', 'ridley', 'scott', \"'s\", 'blade', 'run...\n",
              "7110     ['stormy', 'daniel', 'returning', 'porn', 'adu...\n",
              "Name: text-processed, Length: 2111, dtype: object"
            ]
          },
          "metadata": {},
          "execution_count": 240
        }
      ]
    },
    {
      "cell_type": "markdown",
      "source": [
        "## 7. Featurize, compile features, and check shapes (do they agree with the shapes our model was trained on?)"
      ],
      "metadata": {
        "id": "bZGMvbBBVRks"
      }
    },
    {
      "cell_type": "markdown",
      "source": [
        "Let's be sure that our tokens are in string format, as X_test was (they were formatted as object data types)."
      ],
      "metadata": {
        "id": "rM3ptL_nXmwz"
      }
    },
    {
      "cell_type": "code",
      "source": [
        "# TOKEN_TEST = chatgpt_natural_df['tokens']\n",
        "X_natural = chatgpt_natural_df['tokens']\n",
        "X_summary = chatgpt_summary_df['tokens']\n",
        "X_detailed = chatgpt_detailed_df['tokens']"
      ],
      "metadata": {
        "id": "asJLyaS23SGL"
      },
      "execution_count": null,
      "outputs": []
    },
    {
      "cell_type": "code",
      "source": [
        "X_natural_str = X_natural.apply(lambda x: str(x))\n",
        "X_summary_str = X_summary.apply(lambda x: str(x))\n",
        "X_detailed_str = X_detailed.apply(lambda x: str(x))"
      ],
      "metadata": {
        "id": "0vJvoaNu3obt"
      },
      "execution_count": null,
      "outputs": []
    },
    {
      "cell_type": "markdown",
      "source": [
        "Now, we get Bag of Words, N-Grams, and TF-IDF features for each prompting style, just like we did for our traning data."
      ],
      "metadata": {
        "id": "peQnZDzvXpMJ"
      }
    },
    {
      "cell_type": "code",
      "source": [
        "# Bag of Words\n",
        "vectorizer = CountVectorizer()\n",
        "X_train_bow = vectorizer.fit_transform(X_train)\n",
        "X_natural_bow = vectorizer.transform(X_natural_str)\n",
        "X_summary_bow = vectorizer.transform(X_summary_str)\n",
        "X_detailed_bow = vectorizer.transform(X_detailed_str)"
      ],
      "metadata": {
        "id": "sK86NQgJiVLI"
      },
      "execution_count": null,
      "outputs": []
    },
    {
      "cell_type": "code",
      "source": [
        "# N-Grams\n",
        "ngram_vectorizer = CountVectorizer(ngram_range=(1,2))\n",
        "X_train_ngram = ngram_vectorizer.fit_transform(X_train)\n",
        "X_natural_ngram = ngram_vectorizer.transform(X_natural_str)\n",
        "X_summary_ngram = ngram_vectorizer.transform(X_summary_str)\n",
        "X_detailed_ngram = ngram_vectorizer.transform(X_detailed_str)"
      ],
      "metadata": {
        "id": "cS-3yTQjiVLJ"
      },
      "execution_count": null,
      "outputs": []
    },
    {
      "cell_type": "code",
      "source": [
        "# TF-IDF\n",
        "tfidf_vectorizer = TfidfVectorizer()\n",
        "X_train_tfidf = tfidf_vectorizer.fit_transform(X_train)\n",
        "X_natural_tfidf = tfidf_vectorizer.transform(X_natural_str)\n",
        "X_summary_tfidf = tfidf_vectorizer.transform(X_summary_str)\n",
        "X_detailed_tfidf = tfidf_vectorizer.transform(X_detailed_str)"
      ],
      "metadata": {
        "id": "_PL6wgbsiVLJ"
      },
      "execution_count": null,
      "outputs": []
    },
    {
      "cell_type": "markdown",
      "source": [
        "GloVe"
      ],
      "metadata": {
        "id": "rxoKPoe4Xrgi"
      }
    },
    {
      "cell_type": "markdown",
      "source": [
        "Now, we can pull GloVe vectors, again, as we did for our training data."
      ],
      "metadata": {
        "id": "3pLtysTt15qf"
      }
    },
    {
      "cell_type": "code",
      "source": [
        "import numpy as np\n",
        "from gensim.models import KeyedVectors\n",
        "\n",
        "# Load pre-trained GloVe embeddings\n",
        "word_vectors = KeyedVectors.load_word2vec_format('glove.6B.200d.vec', binary=False)"
      ],
      "metadata": {
        "id": "xz1ee-c5ie0N"
      },
      "execution_count": null,
      "outputs": []
    },
    {
      "cell_type": "code",
      "source": [
        "# Make a function that averages GloVe vectors\n",
        "# From practicum 5\n",
        "def get_average_glove_vector(text):\n",
        "    vectors = [word_vectors[word] for word in text if word in word_vectors]\n",
        "    if vectors:\n",
        "        return np.mean(vectors, axis=0)\n",
        "    else:\n",
        "        return np.zeros(word_vectors.vector_size)"
      ],
      "metadata": {
        "id": "bf1zjGywie0T"
      },
      "execution_count": null,
      "outputs": []
    },
    {
      "cell_type": "code",
      "source": [
        "# GloVE (apply earlier function)\n",
        "X_train_glove = np.array([get_average_glove_vector(text) for text in X_train])\n",
        "X_natural_glove = np.array([get_average_glove_vector(text) for text in X_natural_str])\n",
        "X_summary_glove = np.array([get_average_glove_vector(text) for text in X_summary_str])\n",
        "X_detailed_glove = np.array([get_average_glove_vector(text) for text in X_detailed_str])\n"
      ],
      "metadata": {
        "id": "6xEuBBzciVLJ"
      },
      "execution_count": null,
      "outputs": []
    },
    {
      "cell_type": "markdown",
      "source": [
        "Let's check our shapes! Here is the shape of the data used to train our model:"
      ],
      "metadata": {
        "id": "YcA2WV__19Nu"
      }
    },
    {
      "cell_type": "code",
      "source": [
        "print(X_train.shape)\n",
        "print(X_train_bow.shape)\n",
        "print(X_train_ngram.shape)\n",
        "print(X_train_tfidf.shape)\n",
        "print(X_train_glove.shape)"
      ],
      "metadata": {
        "colab": {
          "base_uri": "https://localhost:8080/"
        },
        "outputId": "6969c4c8-a942-47d9-b3d3-8e7a2adee18f",
        "id": "qNTyDP2S6P9m"
      },
      "execution_count": null,
      "outputs": [
        {
          "output_type": "stream",
          "name": "stdout",
          "text": [
            "(8444,)\n",
            "(8444, 62382)\n",
            "(8444, 1419558)\n",
            "(8444, 62382)\n",
            "(8444, 200)\n"
          ]
        }
      ]
    },
    {
      "cell_type": "markdown",
      "source": [
        "Here is for natural prompting:"
      ],
      "metadata": {
        "id": "MpJZazAX2CBl"
      }
    },
    {
      "cell_type": "code",
      "source": [
        "print(X_natural_str.shape)\n",
        "print(X_natural_bow.shape)\n",
        "print(X_natural_ngram.shape)\n",
        "print(X_natural_tfidf.shape)\n",
        "print(X_natural_glove.shape)"
      ],
      "metadata": {
        "colab": {
          "base_uri": "https://localhost:8080/"
        },
        "outputId": "25730224-b413-4b24-d09c-b462310d59bb",
        "id": "vA-fkJqP6P9m"
      },
      "execution_count": null,
      "outputs": [
        {
          "output_type": "stream",
          "name": "stdout",
          "text": [
            "(49,)\n",
            "(49, 62382)\n",
            "(49, 1419558)\n",
            "(49, 62382)\n",
            "(49, 200)\n"
          ]
        }
      ]
    },
    {
      "cell_type": "markdown",
      "source": [
        "Here is for summary style prompting:"
      ],
      "metadata": {
        "id": "JBI-6AVM2DkL"
      }
    },
    {
      "cell_type": "code",
      "source": [
        "print(X_summary_str.shape)\n",
        "print(X_summary_bow.shape)\n",
        "print(X_summary_ngram.shape)\n",
        "print(X_summary_tfidf.shape)\n",
        "print(X_summary_glove.shape)"
      ],
      "metadata": {
        "colab": {
          "base_uri": "https://localhost:8080/"
        },
        "outputId": "4ca35304-4fba-4f94-98cf-76454beeb705",
        "id": "KtP_ioIN6P9m"
      },
      "execution_count": null,
      "outputs": [
        {
          "output_type": "stream",
          "name": "stdout",
          "text": [
            "(47,)\n",
            "(47, 62382)\n",
            "(47, 1419558)\n",
            "(47, 62382)\n",
            "(47, 200)\n"
          ]
        }
      ]
    },
    {
      "cell_type": "markdown",
      "source": [
        "And here is for detailed explanatory prompting:"
      ],
      "metadata": {
        "id": "TC_s_05D2Fq2"
      }
    },
    {
      "cell_type": "code",
      "source": [
        "print(X_detailed_str.shape)\n",
        "print(X_detailed_bow.shape)\n",
        "print(X_detailed_ngram.shape)\n",
        "print(X_detailed_tfidf.shape)\n",
        "print(X_detailed_glove.shape)"
      ],
      "metadata": {
        "colab": {
          "base_uri": "https://localhost:8080/"
        },
        "id": "xqaZkPBT6sCh",
        "outputId": "9ff6cae9-e03c-4c91-a327-2442cd6cde35"
      },
      "execution_count": null,
      "outputs": [
        {
          "output_type": "stream",
          "name": "stdout",
          "text": [
            "(36,)\n",
            "(36, 62382)\n",
            "(36, 1419558)\n",
            "(36, 62382)\n",
            "(36, 200)\n"
          ]
        }
      ]
    },
    {
      "cell_type": "markdown",
      "source": [
        "Let's stack all features, given that we trained our neural net on all features, and check the shape."
      ],
      "metadata": {
        "id": "mViZbcVf2HnQ"
      }
    },
    {
      "cell_type": "code",
      "source": [
        "import scipy.sparse as sp\n",
        "from scipy.sparse import hstack\n",
        "\n",
        "X_train_all = hstack((X_train_bow, X_train_ngram, X_train_tfidf, X_train_glove))\n",
        "X_natural_all = hstack((X_natural_bow, X_natural_ngram, X_natural_tfidf, X_natural_glove))\n",
        "X_summary_all = hstack((X_summary_bow, X_summary_ngram, X_summary_tfidf, X_summary_glove))\n",
        "X_detailed_all = hstack((X_detailed_bow, X_detailed_ngram, X_detailed_tfidf, X_detailed_glove))"
      ],
      "metadata": {
        "id": "CmJaHO0C638F"
      },
      "execution_count": null,
      "outputs": []
    },
    {
      "cell_type": "code",
      "source": [
        "print(X_train_all.shape)\n",
        "print(X_natural_all.shape)\n",
        "print(X_summary_all.shape)\n",
        "print(X_detailed_all.shape)"
      ],
      "metadata": {
        "colab": {
          "base_uri": "https://localhost:8080/"
        },
        "id": "gcn6pIyK7fmO",
        "outputId": "4dbfa3ad-028c-42b9-a7f6-6afe559f10c7"
      },
      "execution_count": null,
      "outputs": [
        {
          "output_type": "stream",
          "name": "stdout",
          "text": [
            "(8444, 1544522)\n",
            "(49, 1544522)\n",
            "(47, 1544522)\n",
            "(36, 1544522)\n"
          ]
        }
      ]
    },
    {
      "cell_type": "code",
      "source": [
        "# type(X_test[1][1])"
      ],
      "metadata": {
        "id": "1SOiRQVtvSmF"
      },
      "execution_count": null,
      "outputs": []
    },
    {
      "cell_type": "code",
      "source": [
        "type(X_natural[1][1])"
      ],
      "metadata": {
        "colab": {
          "base_uri": "https://localhost:8080/"
        },
        "id": "xB5I0TgavUgy",
        "outputId": "2164558d-4ac6-411c-92de-9aa8f0f82074"
      },
      "execution_count": null,
      "outputs": [
        {
          "output_type": "execute_result",
          "data": {
            "text/plain": [
              "str"
            ]
          },
          "metadata": {},
          "execution_count": 242
        }
      ]
    },
    {
      "cell_type": "markdown",
      "source": [
        "## 9. Predict"
      ],
      "metadata": {
        "id": "YiOuXBI7W38J"
      }
    },
    {
      "cell_type": "markdown",
      "source": [
        "Finally, we can make predictions for each prompt type! Let's input our featurized data into our loaded neural net classifier and output an array of predictions, with classification numbers that represent the predicted classification."
      ],
      "metadata": {
        "id": "SEhXV8zx2XV7"
      }
    },
    {
      "cell_type": "markdown",
      "source": [
        "### A. Natural"
      ],
      "metadata": {
        "id": "5RD-Pb3zX0l9"
      }
    },
    {
      "cell_type": "code",
      "source": [
        "natural_predictions = loaded_classifier.predict(X_natural_all)"
      ],
      "metadata": {
        "id": "q6wklyIg9l_U"
      },
      "execution_count": null,
      "outputs": []
    },
    {
      "cell_type": "code",
      "source": [
        "natural_predictions"
      ],
      "metadata": {
        "colab": {
          "base_uri": "https://localhost:8080/"
        },
        "id": "YNK4J98I9qM1",
        "outputId": "fd2a76bd-56da-433d-cecb-63e3ed8f4473"
      },
      "execution_count": null,
      "outputs": [
        {
          "output_type": "execute_result",
          "data": {
            "text/plain": [
              "array([2, 2, 0, 0, 0, 2, 1, 1, 0, 1, 0, 0, 2, 0, 1, 2, 2, 2, 0, 0, 1, 2,\n",
              "       1, 2, 0, 0, 1, 0, 2, 0, 1, 2, 1, 2, 2, 1, 0, 1, 2, 2, 2, 0, 1, 1,\n",
              "       2, 0, 2, 0, 0])"
            ]
          },
          "metadata": {},
          "execution_count": 375
        }
      ]
    },
    {
      "cell_type": "markdown",
      "source": [
        "### B. Summary"
      ],
      "metadata": {
        "id": "W4ZeV-P4X35f"
      }
    },
    {
      "cell_type": "code",
      "source": [
        "summary_predictions = loaded_classifier.predict(X_summary_all)"
      ],
      "metadata": {
        "id": "-Zes8T269s__"
      },
      "execution_count": null,
      "outputs": []
    },
    {
      "cell_type": "code",
      "source": [
        "summary_predictions"
      ],
      "metadata": {
        "colab": {
          "base_uri": "https://localhost:8080/"
        },
        "id": "KVgmkp0g8Im_",
        "outputId": "3872a22a-15b2-4bf2-dc29-995c2373c856"
      },
      "execution_count": null,
      "outputs": [
        {
          "output_type": "execute_result",
          "data": {
            "text/plain": [
              "array([2, 0, 2, 0, 2, 2, 0, 2, 2, 0, 0, 0, 2, 2, 0, 2, 0, 0, 0, 0, 0, 1,\n",
              "       2, 0, 0, 0, 0, 0, 0, 2, 2, 1, 2, 0, 0, 2, 2, 2, 0, 0, 2, 0, 0, 0,\n",
              "       2, 1, 0])"
            ]
          },
          "metadata": {},
          "execution_count": 377
        }
      ]
    },
    {
      "cell_type": "markdown",
      "source": [
        "### C. Detailed"
      ],
      "metadata": {
        "id": "Ont3kJmQX5sS"
      }
    },
    {
      "cell_type": "code",
      "source": [
        "detailed_predictions = loaded_classifier.predict(X_detailed_all)"
      ],
      "metadata": {
        "id": "wpNJzHmi90Xw"
      },
      "execution_count": null,
      "outputs": []
    },
    {
      "cell_type": "code",
      "source": [
        "detailed_predictions"
      ],
      "metadata": {
        "colab": {
          "base_uri": "https://localhost:8080/"
        },
        "id": "t4GnyJo6948w",
        "outputId": "5b42c435-07c3-44f9-91f3-beb7c2c8a29d"
      },
      "execution_count": null,
      "outputs": [
        {
          "output_type": "execute_result",
          "data": {
            "text/plain": [
              "array([0, 1, 0, 0, 0, 1, 1, 0, 0, 0, 0, 2, 0, 2, 2, 2, 2, 0, 0, 0, 0, 1,\n",
              "       2, 2, 0, 1, 2, 2, 0, 2, 2, 1, 2, 2, 2, 2])"
            ]
          },
          "metadata": {},
          "execution_count": 379
        }
      ]
    },
    {
      "cell_type": "markdown",
      "source": [
        "## 10. Store results"
      ],
      "metadata": {
        "id": "fys3wYTCYBFv"
      }
    },
    {
      "cell_type": "markdown",
      "source": [
        "Then, we can store our predictions into dataframes that will allow us to compare the predictions to the affiliated text."
      ],
      "metadata": {
        "id": "SBasrH8L2kJe"
      }
    },
    {
      "cell_type": "code",
      "source": [
        "chatgpt_natural_df['predictions'] = natural_predictions\n",
        "chatgpt_summary_df['predictions'] = summary_predictions\n",
        "chatgpt_detailed_df['predictions'] = detailed_predictions"
      ],
      "metadata": {
        "id": "iaaI5efQBYKV"
      },
      "execution_count": null,
      "outputs": []
    },
    {
      "cell_type": "code",
      "source": [
        "chatgpt_detailed_df.tail()"
      ],
      "metadata": {
        "colab": {
          "base_uri": "https://localhost:8080/",
          "height": 763
        },
        "id": "_sFzWWl2_gCN",
        "outputId": "4720d5d7-4d76-45aa-871b-88ab748e1913"
      },
      "execution_count": null,
      "outputs": [
        {
          "output_type": "execute_result",
          "data": {
            "text/plain": [
              "                                               Prompt       Year  \\\n",
              "31  Please provide an 5 paragraph essay including ...       2019   \n",
              "32  Please provide an 5 paragraph essay including ...       2018   \n",
              "33  Please provide an 5 paragraph essay including ...  2017-2019   \n",
              "34  Please provide an 5 paragraph essay including ...  2017-2019   \n",
              "35  Please provide an 5 paragraph essay including ...  2017-2019   \n",
              "\n",
              "                                        Topic  \\\n",
              "31             Iran's Nuclear Deal (topic 21)   \n",
              "32                Russia and Trump (topic 20)   \n",
              "33               Transgender Policy (topic 8)   \n",
              "34  Police Brutality (topic 14, 23, 25, etc.)   \n",
              "35  Police Shootings (topic 14, 23, 25, etc.)   \n",
              "\n",
              "                                     ChatGPT Response  \\\n",
              "31  Title: The Iran Nuclear Deal: An Analysis of i...   \n",
              "32  Title: Unraveling the Complex Nexus: Russia an...   \n",
              "33  Title: Navigating the Waves of Transgender Pol...   \n",
              "34  Title: Unveiling the Layers of Police Brutalit...   \n",
              "35  Title: Police Shootings in the United States (...   \n",
              "\n",
              "                                            processed  \\\n",
              "31  Title The Iran Nuclear Deal An Analysis of its...   \n",
              "32  Title Unraveling the Complex Nexus Russia and ...   \n",
              "33  Title Navigating the Waves of Transgender Poli...   \n",
              "34  Title Unveiling the Layers of Police Brutality...   \n",
              "35  Title Police Shootings in the United States Un...   \n",
              "\n",
              "                                               tokens  predictions  \\\n",
              "31  [title, iran, nuclear, deal, analysis, origin,...            1   \n",
              "32  [title, unraveling, complex, nexus, russia, tr...            2   \n",
              "33  [title, navigating, wave, transgender, policy,...            2   \n",
              "34  [title, unveiling, layer, police, brutality, c...            2   \n",
              "35  [title, police, shooting, united, state, unrav...            2   \n",
              "\n",
              "           label  \n",
              "31  conservative  \n",
              "32       liberal  \n",
              "33       liberal  \n",
              "34       liberal  \n",
              "35       liberal  "
            ],
            "text/html": [
              "\n",
              "  <div id=\"df-0b06ef2f-524b-4e3b-8416-b8df511a015a\" class=\"colab-df-container\">\n",
              "    <div>\n",
              "<style scoped>\n",
              "    .dataframe tbody tr th:only-of-type {\n",
              "        vertical-align: middle;\n",
              "    }\n",
              "\n",
              "    .dataframe tbody tr th {\n",
              "        vertical-align: top;\n",
              "    }\n",
              "\n",
              "    .dataframe thead th {\n",
              "        text-align: right;\n",
              "    }\n",
              "</style>\n",
              "<table border=\"1\" class=\"dataframe\">\n",
              "  <thead>\n",
              "    <tr style=\"text-align: right;\">\n",
              "      <th></th>\n",
              "      <th>Prompt</th>\n",
              "      <th>Year</th>\n",
              "      <th>Topic</th>\n",
              "      <th>ChatGPT Response</th>\n",
              "      <th>processed</th>\n",
              "      <th>tokens</th>\n",
              "      <th>predictions</th>\n",
              "      <th>label</th>\n",
              "    </tr>\n",
              "  </thead>\n",
              "  <tbody>\n",
              "    <tr>\n",
              "      <th>31</th>\n",
              "      <td>Please provide an 5 paragraph essay including ...</td>\n",
              "      <td>2019</td>\n",
              "      <td>Iran's Nuclear Deal (topic 21)</td>\n",
              "      <td>Title: The Iran Nuclear Deal: An Analysis of i...</td>\n",
              "      <td>Title The Iran Nuclear Deal An Analysis of its...</td>\n",
              "      <td>[title, iran, nuclear, deal, analysis, origin,...</td>\n",
              "      <td>1</td>\n",
              "      <td>conservative</td>\n",
              "    </tr>\n",
              "    <tr>\n",
              "      <th>32</th>\n",
              "      <td>Please provide an 5 paragraph essay including ...</td>\n",
              "      <td>2018</td>\n",
              "      <td>Russia and Trump (topic 20)</td>\n",
              "      <td>Title: Unraveling the Complex Nexus: Russia an...</td>\n",
              "      <td>Title Unraveling the Complex Nexus Russia and ...</td>\n",
              "      <td>[title, unraveling, complex, nexus, russia, tr...</td>\n",
              "      <td>2</td>\n",
              "      <td>liberal</td>\n",
              "    </tr>\n",
              "    <tr>\n",
              "      <th>33</th>\n",
              "      <td>Please provide an 5 paragraph essay including ...</td>\n",
              "      <td>2017-2019</td>\n",
              "      <td>Transgender Policy (topic 8)</td>\n",
              "      <td>Title: Navigating the Waves of Transgender Pol...</td>\n",
              "      <td>Title Navigating the Waves of Transgender Poli...</td>\n",
              "      <td>[title, navigating, wave, transgender, policy,...</td>\n",
              "      <td>2</td>\n",
              "      <td>liberal</td>\n",
              "    </tr>\n",
              "    <tr>\n",
              "      <th>34</th>\n",
              "      <td>Please provide an 5 paragraph essay including ...</td>\n",
              "      <td>2017-2019</td>\n",
              "      <td>Police Brutality (topic 14, 23, 25, etc.)</td>\n",
              "      <td>Title: Unveiling the Layers of Police Brutalit...</td>\n",
              "      <td>Title Unveiling the Layers of Police Brutality...</td>\n",
              "      <td>[title, unveiling, layer, police, brutality, c...</td>\n",
              "      <td>2</td>\n",
              "      <td>liberal</td>\n",
              "    </tr>\n",
              "    <tr>\n",
              "      <th>35</th>\n",
              "      <td>Please provide an 5 paragraph essay including ...</td>\n",
              "      <td>2017-2019</td>\n",
              "      <td>Police Shootings (topic 14, 23, 25, etc.)</td>\n",
              "      <td>Title: Police Shootings in the United States (...</td>\n",
              "      <td>Title Police Shootings in the United States Un...</td>\n",
              "      <td>[title, police, shooting, united, state, unrav...</td>\n",
              "      <td>2</td>\n",
              "      <td>liberal</td>\n",
              "    </tr>\n",
              "  </tbody>\n",
              "</table>\n",
              "</div>\n",
              "    <div class=\"colab-df-buttons\">\n",
              "\n",
              "  <div class=\"colab-df-container\">\n",
              "    <button class=\"colab-df-convert\" onclick=\"convertToInteractive('df-0b06ef2f-524b-4e3b-8416-b8df511a015a')\"\n",
              "            title=\"Convert this dataframe to an interactive table.\"\n",
              "            style=\"display:none;\">\n",
              "\n",
              "  <svg xmlns=\"http://www.w3.org/2000/svg\" height=\"24px\" viewBox=\"0 -960 960 960\">\n",
              "    <path d=\"M120-120v-720h720v720H120Zm60-500h600v-160H180v160Zm220 220h160v-160H400v160Zm0 220h160v-160H400v160ZM180-400h160v-160H180v160Zm440 0h160v-160H620v160ZM180-180h160v-160H180v160Zm440 0h160v-160H620v160Z\"/>\n",
              "  </svg>\n",
              "    </button>\n",
              "\n",
              "  <style>\n",
              "    .colab-df-container {\n",
              "      display:flex;\n",
              "      gap: 12px;\n",
              "    }\n",
              "\n",
              "    .colab-df-convert {\n",
              "      background-color: #E8F0FE;\n",
              "      border: none;\n",
              "      border-radius: 50%;\n",
              "      cursor: pointer;\n",
              "      display: none;\n",
              "      fill: #1967D2;\n",
              "      height: 32px;\n",
              "      padding: 0 0 0 0;\n",
              "      width: 32px;\n",
              "    }\n",
              "\n",
              "    .colab-df-convert:hover {\n",
              "      background-color: #E2EBFA;\n",
              "      box-shadow: 0px 1px 2px rgba(60, 64, 67, 0.3), 0px 1px 3px 1px rgba(60, 64, 67, 0.15);\n",
              "      fill: #174EA6;\n",
              "    }\n",
              "\n",
              "    .colab-df-buttons div {\n",
              "      margin-bottom: 4px;\n",
              "    }\n",
              "\n",
              "    [theme=dark] .colab-df-convert {\n",
              "      background-color: #3B4455;\n",
              "      fill: #D2E3FC;\n",
              "    }\n",
              "\n",
              "    [theme=dark] .colab-df-convert:hover {\n",
              "      background-color: #434B5C;\n",
              "      box-shadow: 0px 1px 3px 1px rgba(0, 0, 0, 0.15);\n",
              "      filter: drop-shadow(0px 1px 2px rgba(0, 0, 0, 0.3));\n",
              "      fill: #FFFFFF;\n",
              "    }\n",
              "  </style>\n",
              "\n",
              "    <script>\n",
              "      const buttonEl =\n",
              "        document.querySelector('#df-0b06ef2f-524b-4e3b-8416-b8df511a015a button.colab-df-convert');\n",
              "      buttonEl.style.display =\n",
              "        google.colab.kernel.accessAllowed ? 'block' : 'none';\n",
              "\n",
              "      async function convertToInteractive(key) {\n",
              "        const element = document.querySelector('#df-0b06ef2f-524b-4e3b-8416-b8df511a015a');\n",
              "        const dataTable =\n",
              "          await google.colab.kernel.invokeFunction('convertToInteractive',\n",
              "                                                    [key], {});\n",
              "        if (!dataTable) return;\n",
              "\n",
              "        const docLinkHtml = 'Like what you see? Visit the ' +\n",
              "          '<a target=\"_blank\" href=https://colab.research.google.com/notebooks/data_table.ipynb>data table notebook</a>'\n",
              "          + ' to learn more about interactive tables.';\n",
              "        element.innerHTML = '';\n",
              "        dataTable['output_type'] = 'display_data';\n",
              "        await google.colab.output.renderOutput(dataTable, element);\n",
              "        const docLink = document.createElement('div');\n",
              "        docLink.innerHTML = docLinkHtml;\n",
              "        element.appendChild(docLink);\n",
              "      }\n",
              "    </script>\n",
              "  </div>\n",
              "\n",
              "\n",
              "<div id=\"df-589045e7-e6cb-4ca8-9b03-f1c10a0a45a8\">\n",
              "  <button class=\"colab-df-quickchart\" onclick=\"quickchart('df-589045e7-e6cb-4ca8-9b03-f1c10a0a45a8')\"\n",
              "            title=\"Suggest charts\"\n",
              "            style=\"display:none;\">\n",
              "\n",
              "<svg xmlns=\"http://www.w3.org/2000/svg\" height=\"24px\"viewBox=\"0 0 24 24\"\n",
              "     width=\"24px\">\n",
              "    <g>\n",
              "        <path d=\"M19 3H5c-1.1 0-2 .9-2 2v14c0 1.1.9 2 2 2h14c1.1 0 2-.9 2-2V5c0-1.1-.9-2-2-2zM9 17H7v-7h2v7zm4 0h-2V7h2v10zm4 0h-2v-4h2v4z\"/>\n",
              "    </g>\n",
              "</svg>\n",
              "  </button>\n",
              "\n",
              "<style>\n",
              "  .colab-df-quickchart {\n",
              "      --bg-color: #E8F0FE;\n",
              "      --fill-color: #1967D2;\n",
              "      --hover-bg-color: #E2EBFA;\n",
              "      --hover-fill-color: #174EA6;\n",
              "      --disabled-fill-color: #AAA;\n",
              "      --disabled-bg-color: #DDD;\n",
              "  }\n",
              "\n",
              "  [theme=dark] .colab-df-quickchart {\n",
              "      --bg-color: #3B4455;\n",
              "      --fill-color: #D2E3FC;\n",
              "      --hover-bg-color: #434B5C;\n",
              "      --hover-fill-color: #FFFFFF;\n",
              "      --disabled-bg-color: #3B4455;\n",
              "      --disabled-fill-color: #666;\n",
              "  }\n",
              "\n",
              "  .colab-df-quickchart {\n",
              "    background-color: var(--bg-color);\n",
              "    border: none;\n",
              "    border-radius: 50%;\n",
              "    cursor: pointer;\n",
              "    display: none;\n",
              "    fill: var(--fill-color);\n",
              "    height: 32px;\n",
              "    padding: 0;\n",
              "    width: 32px;\n",
              "  }\n",
              "\n",
              "  .colab-df-quickchart:hover {\n",
              "    background-color: var(--hover-bg-color);\n",
              "    box-shadow: 0 1px 2px rgba(60, 64, 67, 0.3), 0 1px 3px 1px rgba(60, 64, 67, 0.15);\n",
              "    fill: var(--button-hover-fill-color);\n",
              "  }\n",
              "\n",
              "  .colab-df-quickchart-complete:disabled,\n",
              "  .colab-df-quickchart-complete:disabled:hover {\n",
              "    background-color: var(--disabled-bg-color);\n",
              "    fill: var(--disabled-fill-color);\n",
              "    box-shadow: none;\n",
              "  }\n",
              "\n",
              "  .colab-df-spinner {\n",
              "    border: 2px solid var(--fill-color);\n",
              "    border-color: transparent;\n",
              "    border-bottom-color: var(--fill-color);\n",
              "    animation:\n",
              "      spin 1s steps(1) infinite;\n",
              "  }\n",
              "\n",
              "  @keyframes spin {\n",
              "    0% {\n",
              "      border-color: transparent;\n",
              "      border-bottom-color: var(--fill-color);\n",
              "      border-left-color: var(--fill-color);\n",
              "    }\n",
              "    20% {\n",
              "      border-color: transparent;\n",
              "      border-left-color: var(--fill-color);\n",
              "      border-top-color: var(--fill-color);\n",
              "    }\n",
              "    30% {\n",
              "      border-color: transparent;\n",
              "      border-left-color: var(--fill-color);\n",
              "      border-top-color: var(--fill-color);\n",
              "      border-right-color: var(--fill-color);\n",
              "    }\n",
              "    40% {\n",
              "      border-color: transparent;\n",
              "      border-right-color: var(--fill-color);\n",
              "      border-top-color: var(--fill-color);\n",
              "    }\n",
              "    60% {\n",
              "      border-color: transparent;\n",
              "      border-right-color: var(--fill-color);\n",
              "    }\n",
              "    80% {\n",
              "      border-color: transparent;\n",
              "      border-right-color: var(--fill-color);\n",
              "      border-bottom-color: var(--fill-color);\n",
              "    }\n",
              "    90% {\n",
              "      border-color: transparent;\n",
              "      border-bottom-color: var(--fill-color);\n",
              "    }\n",
              "  }\n",
              "</style>\n",
              "\n",
              "  <script>\n",
              "    async function quickchart(key) {\n",
              "      const quickchartButtonEl =\n",
              "        document.querySelector('#' + key + ' button');\n",
              "      quickchartButtonEl.disabled = true;  // To prevent multiple clicks.\n",
              "      quickchartButtonEl.classList.add('colab-df-spinner');\n",
              "      try {\n",
              "        const charts = await google.colab.kernel.invokeFunction(\n",
              "            'suggestCharts', [key], {});\n",
              "      } catch (error) {\n",
              "        console.error('Error during call to suggestCharts:', error);\n",
              "      }\n",
              "      quickchartButtonEl.classList.remove('colab-df-spinner');\n",
              "      quickchartButtonEl.classList.add('colab-df-quickchart-complete');\n",
              "    }\n",
              "    (() => {\n",
              "      let quickchartButtonEl =\n",
              "        document.querySelector('#df-589045e7-e6cb-4ca8-9b03-f1c10a0a45a8 button');\n",
              "      quickchartButtonEl.style.display =\n",
              "        google.colab.kernel.accessAllowed ? 'block' : 'none';\n",
              "    })();\n",
              "  </script>\n",
              "</div>\n",
              "    </div>\n",
              "  </div>\n"
            ]
          },
          "metadata": {},
          "execution_count": 425
        }
      ]
    },
    {
      "cell_type": "markdown",
      "source": [
        "For readability, we will connvert numerical predictions (0,1,2) to human-language labels (moderate, conservative, liberal)"
      ],
      "metadata": {
        "id": "kZyZ7pzK2tqE"
      }
    },
    {
      "cell_type": "code",
      "source": [
        "# Add new column\n",
        "label_convert_key = {0:'moderate', 1:'conservative', 2:'liberal'}\n",
        "chatgpt_natural_df['label'] = chatgpt_natural_df['predictions'].map(label_convert_key)\n",
        "chatgpt_summary_df['label'] = chatgpt_summary_df['predictions'].map(label_convert_key)\n",
        "chatgpt_detailed_df['label'] = chatgpt_detailed_df['predictions'].map(label_convert_key)"
      ],
      "metadata": {
        "id": "KdlGCAL9CQuu"
      },
      "execution_count": null,
      "outputs": []
    },
    {
      "cell_type": "code",
      "source": [
        "chatgpt_natural_df.head()"
      ],
      "metadata": {
        "colab": {
          "base_uri": "https://localhost:8080/",
          "height": 711
        },
        "id": "_XHOxyfMC3nM",
        "outputId": "1718ee77-4d7a-4064-fa72-8d26fdd24db8"
      },
      "execution_count": null,
      "outputs": [
        {
          "output_type": "execute_result",
          "data": {
            "text/plain": [
              "                                              Prompt News Type  Year  \\\n",
              "0                         What was Hurricane Dorian?     Event  2019   \n",
              "1  What happened to the Notre Dame Cathedral in 2...     Event  2019   \n",
              "2    What happened at the Women's World Cup in 2019?     Event  2019   \n",
              "3             What happened during the Area 51 raid?     Event  2019   \n",
              "4        What happened during the 2019 Area 51 raid?     Event  2019   \n",
              "\n",
              "                  Topic                                   ChatGPT Response  \\\n",
              "0      Hurricane Dorian  \\r\\nHurricane Dorian was a powerful and devast...   \n",
              "1  Notre Dame Cathedral  The Notre-Dame Cathedral in Paris, France, suf...   \n",
              "2     Women's World Cup  \\r\\nThe 2019 FIFA Women's World Cup took place...   \n",
              "3          Area 51 raid  As of my last knowledge update in January 2022...   \n",
              "4          Area 51 raid  \\r\\nThe \"Storm Area 51\" event that gained atte...   \n",
              "\n",
              "                                           processed  \\\n",
              "0   Hurricane Dorian was a powerful and devastati...   \n",
              "1  The Notre Dame Cathedral in Paris France suffe...   \n",
              "2   The FIFA Women's World Cup took place in Fran...   \n",
              "3  As of my last knowledge update in January the ...   \n",
              "4   The Storm Area event that gained attention in...   \n",
              "\n",
              "                                              tokens  predictions     label  \n",
              "0  [hurricane, dorian, powerful, devastating, tro...            2   liberal  \n",
              "1  [notre, dame, cathedral, paris, france, suffer...            2   liberal  \n",
              "2  [fifa, woman, 's, world, cup, took, place, fra...            0  moderate  \n",
              "3  [last, knowledge, update, january, proposed, a...            0  moderate  \n",
              "4  [storm, area, event, gained, attention, initia...            0  moderate  "
            ],
            "text/html": [
              "\n",
              "  <div id=\"df-b6089e88-a2d9-4c2c-8815-8c4bfa839dbc\" class=\"colab-df-container\">\n",
              "    <div>\n",
              "<style scoped>\n",
              "    .dataframe tbody tr th:only-of-type {\n",
              "        vertical-align: middle;\n",
              "    }\n",
              "\n",
              "    .dataframe tbody tr th {\n",
              "        vertical-align: top;\n",
              "    }\n",
              "\n",
              "    .dataframe thead th {\n",
              "        text-align: right;\n",
              "    }\n",
              "</style>\n",
              "<table border=\"1\" class=\"dataframe\">\n",
              "  <thead>\n",
              "    <tr style=\"text-align: right;\">\n",
              "      <th></th>\n",
              "      <th>Prompt</th>\n",
              "      <th>News Type</th>\n",
              "      <th>Year</th>\n",
              "      <th>Topic</th>\n",
              "      <th>ChatGPT Response</th>\n",
              "      <th>processed</th>\n",
              "      <th>tokens</th>\n",
              "      <th>predictions</th>\n",
              "      <th>label</th>\n",
              "    </tr>\n",
              "  </thead>\n",
              "  <tbody>\n",
              "    <tr>\n",
              "      <th>0</th>\n",
              "      <td>What was Hurricane Dorian?</td>\n",
              "      <td>Event</td>\n",
              "      <td>2019</td>\n",
              "      <td>Hurricane Dorian</td>\n",
              "      <td>\\r\\nHurricane Dorian was a powerful and devast...</td>\n",
              "      <td>Hurricane Dorian was a powerful and devastati...</td>\n",
              "      <td>[hurricane, dorian, powerful, devastating, tro...</td>\n",
              "      <td>2</td>\n",
              "      <td>liberal</td>\n",
              "    </tr>\n",
              "    <tr>\n",
              "      <th>1</th>\n",
              "      <td>What happened to the Notre Dame Cathedral in 2...</td>\n",
              "      <td>Event</td>\n",
              "      <td>2019</td>\n",
              "      <td>Notre Dame Cathedral</td>\n",
              "      <td>The Notre-Dame Cathedral in Paris, France, suf...</td>\n",
              "      <td>The Notre Dame Cathedral in Paris France suffe...</td>\n",
              "      <td>[notre, dame, cathedral, paris, france, suffer...</td>\n",
              "      <td>2</td>\n",
              "      <td>liberal</td>\n",
              "    </tr>\n",
              "    <tr>\n",
              "      <th>2</th>\n",
              "      <td>What happened at the Women's World Cup in 2019?</td>\n",
              "      <td>Event</td>\n",
              "      <td>2019</td>\n",
              "      <td>Women's World Cup</td>\n",
              "      <td>\\r\\nThe 2019 FIFA Women's World Cup took place...</td>\n",
              "      <td>The FIFA Women's World Cup took place in Fran...</td>\n",
              "      <td>[fifa, woman, 's, world, cup, took, place, fra...</td>\n",
              "      <td>0</td>\n",
              "      <td>moderate</td>\n",
              "    </tr>\n",
              "    <tr>\n",
              "      <th>3</th>\n",
              "      <td>What happened during the Area 51 raid?</td>\n",
              "      <td>Event</td>\n",
              "      <td>2019</td>\n",
              "      <td>Area 51 raid</td>\n",
              "      <td>As of my last knowledge update in January 2022...</td>\n",
              "      <td>As of my last knowledge update in January the ...</td>\n",
              "      <td>[last, knowledge, update, january, proposed, a...</td>\n",
              "      <td>0</td>\n",
              "      <td>moderate</td>\n",
              "    </tr>\n",
              "    <tr>\n",
              "      <th>4</th>\n",
              "      <td>What happened during the 2019 Area 51 raid?</td>\n",
              "      <td>Event</td>\n",
              "      <td>2019</td>\n",
              "      <td>Area 51 raid</td>\n",
              "      <td>\\r\\nThe \"Storm Area 51\" event that gained atte...</td>\n",
              "      <td>The Storm Area event that gained attention in...</td>\n",
              "      <td>[storm, area, event, gained, attention, initia...</td>\n",
              "      <td>0</td>\n",
              "      <td>moderate</td>\n",
              "    </tr>\n",
              "  </tbody>\n",
              "</table>\n",
              "</div>\n",
              "    <div class=\"colab-df-buttons\">\n",
              "\n",
              "  <div class=\"colab-df-container\">\n",
              "    <button class=\"colab-df-convert\" onclick=\"convertToInteractive('df-b6089e88-a2d9-4c2c-8815-8c4bfa839dbc')\"\n",
              "            title=\"Convert this dataframe to an interactive table.\"\n",
              "            style=\"display:none;\">\n",
              "\n",
              "  <svg xmlns=\"http://www.w3.org/2000/svg\" height=\"24px\" viewBox=\"0 -960 960 960\">\n",
              "    <path d=\"M120-120v-720h720v720H120Zm60-500h600v-160H180v160Zm220 220h160v-160H400v160Zm0 220h160v-160H400v160ZM180-400h160v-160H180v160Zm440 0h160v-160H620v160ZM180-180h160v-160H180v160Zm440 0h160v-160H620v160Z\"/>\n",
              "  </svg>\n",
              "    </button>\n",
              "\n",
              "  <style>\n",
              "    .colab-df-container {\n",
              "      display:flex;\n",
              "      gap: 12px;\n",
              "    }\n",
              "\n",
              "    .colab-df-convert {\n",
              "      background-color: #E8F0FE;\n",
              "      border: none;\n",
              "      border-radius: 50%;\n",
              "      cursor: pointer;\n",
              "      display: none;\n",
              "      fill: #1967D2;\n",
              "      height: 32px;\n",
              "      padding: 0 0 0 0;\n",
              "      width: 32px;\n",
              "    }\n",
              "\n",
              "    .colab-df-convert:hover {\n",
              "      background-color: #E2EBFA;\n",
              "      box-shadow: 0px 1px 2px rgba(60, 64, 67, 0.3), 0px 1px 3px 1px rgba(60, 64, 67, 0.15);\n",
              "      fill: #174EA6;\n",
              "    }\n",
              "\n",
              "    .colab-df-buttons div {\n",
              "      margin-bottom: 4px;\n",
              "    }\n",
              "\n",
              "    [theme=dark] .colab-df-convert {\n",
              "      background-color: #3B4455;\n",
              "      fill: #D2E3FC;\n",
              "    }\n",
              "\n",
              "    [theme=dark] .colab-df-convert:hover {\n",
              "      background-color: #434B5C;\n",
              "      box-shadow: 0px 1px 3px 1px rgba(0, 0, 0, 0.15);\n",
              "      filter: drop-shadow(0px 1px 2px rgba(0, 0, 0, 0.3));\n",
              "      fill: #FFFFFF;\n",
              "    }\n",
              "  </style>\n",
              "\n",
              "    <script>\n",
              "      const buttonEl =\n",
              "        document.querySelector('#df-b6089e88-a2d9-4c2c-8815-8c4bfa839dbc button.colab-df-convert');\n",
              "      buttonEl.style.display =\n",
              "        google.colab.kernel.accessAllowed ? 'block' : 'none';\n",
              "\n",
              "      async function convertToInteractive(key) {\n",
              "        const element = document.querySelector('#df-b6089e88-a2d9-4c2c-8815-8c4bfa839dbc');\n",
              "        const dataTable =\n",
              "          await google.colab.kernel.invokeFunction('convertToInteractive',\n",
              "                                                    [key], {});\n",
              "        if (!dataTable) return;\n",
              "\n",
              "        const docLinkHtml = 'Like what you see? Visit the ' +\n",
              "          '<a target=\"_blank\" href=https://colab.research.google.com/notebooks/data_table.ipynb>data table notebook</a>'\n",
              "          + ' to learn more about interactive tables.';\n",
              "        element.innerHTML = '';\n",
              "        dataTable['output_type'] = 'display_data';\n",
              "        await google.colab.output.renderOutput(dataTable, element);\n",
              "        const docLink = document.createElement('div');\n",
              "        docLink.innerHTML = docLinkHtml;\n",
              "        element.appendChild(docLink);\n",
              "      }\n",
              "    </script>\n",
              "  </div>\n",
              "\n",
              "\n",
              "<div id=\"df-42ffa0f7-07e1-49fb-b103-38322105ef7e\">\n",
              "  <button class=\"colab-df-quickchart\" onclick=\"quickchart('df-42ffa0f7-07e1-49fb-b103-38322105ef7e')\"\n",
              "            title=\"Suggest charts\"\n",
              "            style=\"display:none;\">\n",
              "\n",
              "<svg xmlns=\"http://www.w3.org/2000/svg\" height=\"24px\"viewBox=\"0 0 24 24\"\n",
              "     width=\"24px\">\n",
              "    <g>\n",
              "        <path d=\"M19 3H5c-1.1 0-2 .9-2 2v14c0 1.1.9 2 2 2h14c1.1 0 2-.9 2-2V5c0-1.1-.9-2-2-2zM9 17H7v-7h2v7zm4 0h-2V7h2v10zm4 0h-2v-4h2v4z\"/>\n",
              "    </g>\n",
              "</svg>\n",
              "  </button>\n",
              "\n",
              "<style>\n",
              "  .colab-df-quickchart {\n",
              "      --bg-color: #E8F0FE;\n",
              "      --fill-color: #1967D2;\n",
              "      --hover-bg-color: #E2EBFA;\n",
              "      --hover-fill-color: #174EA6;\n",
              "      --disabled-fill-color: #AAA;\n",
              "      --disabled-bg-color: #DDD;\n",
              "  }\n",
              "\n",
              "  [theme=dark] .colab-df-quickchart {\n",
              "      --bg-color: #3B4455;\n",
              "      --fill-color: #D2E3FC;\n",
              "      --hover-bg-color: #434B5C;\n",
              "      --hover-fill-color: #FFFFFF;\n",
              "      --disabled-bg-color: #3B4455;\n",
              "      --disabled-fill-color: #666;\n",
              "  }\n",
              "\n",
              "  .colab-df-quickchart {\n",
              "    background-color: var(--bg-color);\n",
              "    border: none;\n",
              "    border-radius: 50%;\n",
              "    cursor: pointer;\n",
              "    display: none;\n",
              "    fill: var(--fill-color);\n",
              "    height: 32px;\n",
              "    padding: 0;\n",
              "    width: 32px;\n",
              "  }\n",
              "\n",
              "  .colab-df-quickchart:hover {\n",
              "    background-color: var(--hover-bg-color);\n",
              "    box-shadow: 0 1px 2px rgba(60, 64, 67, 0.3), 0 1px 3px 1px rgba(60, 64, 67, 0.15);\n",
              "    fill: var(--button-hover-fill-color);\n",
              "  }\n",
              "\n",
              "  .colab-df-quickchart-complete:disabled,\n",
              "  .colab-df-quickchart-complete:disabled:hover {\n",
              "    background-color: var(--disabled-bg-color);\n",
              "    fill: var(--disabled-fill-color);\n",
              "    box-shadow: none;\n",
              "  }\n",
              "\n",
              "  .colab-df-spinner {\n",
              "    border: 2px solid var(--fill-color);\n",
              "    border-color: transparent;\n",
              "    border-bottom-color: var(--fill-color);\n",
              "    animation:\n",
              "      spin 1s steps(1) infinite;\n",
              "  }\n",
              "\n",
              "  @keyframes spin {\n",
              "    0% {\n",
              "      border-color: transparent;\n",
              "      border-bottom-color: var(--fill-color);\n",
              "      border-left-color: var(--fill-color);\n",
              "    }\n",
              "    20% {\n",
              "      border-color: transparent;\n",
              "      border-left-color: var(--fill-color);\n",
              "      border-top-color: var(--fill-color);\n",
              "    }\n",
              "    30% {\n",
              "      border-color: transparent;\n",
              "      border-left-color: var(--fill-color);\n",
              "      border-top-color: var(--fill-color);\n",
              "      border-right-color: var(--fill-color);\n",
              "    }\n",
              "    40% {\n",
              "      border-color: transparent;\n",
              "      border-right-color: var(--fill-color);\n",
              "      border-top-color: var(--fill-color);\n",
              "    }\n",
              "    60% {\n",
              "      border-color: transparent;\n",
              "      border-right-color: var(--fill-color);\n",
              "    }\n",
              "    80% {\n",
              "      border-color: transparent;\n",
              "      border-right-color: var(--fill-color);\n",
              "      border-bottom-color: var(--fill-color);\n",
              "    }\n",
              "    90% {\n",
              "      border-color: transparent;\n",
              "      border-bottom-color: var(--fill-color);\n",
              "    }\n",
              "  }\n",
              "</style>\n",
              "\n",
              "  <script>\n",
              "    async function quickchart(key) {\n",
              "      const quickchartButtonEl =\n",
              "        document.querySelector('#' + key + ' button');\n",
              "      quickchartButtonEl.disabled = true;  // To prevent multiple clicks.\n",
              "      quickchartButtonEl.classList.add('colab-df-spinner');\n",
              "      try {\n",
              "        const charts = await google.colab.kernel.invokeFunction(\n",
              "            'suggestCharts', [key], {});\n",
              "      } catch (error) {\n",
              "        console.error('Error during call to suggestCharts:', error);\n",
              "      }\n",
              "      quickchartButtonEl.classList.remove('colab-df-spinner');\n",
              "      quickchartButtonEl.classList.add('colab-df-quickchart-complete');\n",
              "    }\n",
              "    (() => {\n",
              "      let quickchartButtonEl =\n",
              "        document.querySelector('#df-42ffa0f7-07e1-49fb-b103-38322105ef7e button');\n",
              "      quickchartButtonEl.style.display =\n",
              "        google.colab.kernel.accessAllowed ? 'block' : 'none';\n",
              "    })();\n",
              "  </script>\n",
              "</div>\n",
              "    </div>\n",
              "  </div>\n"
            ]
          },
          "metadata": {},
          "execution_count": 417
        }
      ]
    },
    {
      "cell_type": "code",
      "source": [
        "chatgpt_summary_df.head()"
      ],
      "metadata": {
        "colab": {
          "base_uri": "https://localhost:8080/",
          "height": 677
        },
        "id": "x3rJd3q8C5Z2",
        "outputId": "fe7af6f9-a380-40d9-b712-21485619e3c0"
      },
      "execution_count": null,
      "outputs": [
        {
          "output_type": "execute_result",
          "data": {
            "text/plain": [
              "                                              Prompt News Type  Year  \\\n",
              "0  Please provide a one paragraph summary of each...     Event  2019   \n",
              "1  Please provide a one paragraph summary of each...     Event  2019   \n",
              "2  Please provide a one paragraph summary of each...     Event  2019   \n",
              "3  Please provide a one paragraph summary of each...     Event  2019   \n",
              "4  Please provide a one paragraph summary of each...     Event  2019   \n",
              "\n",
              "                  Topic                                   ChatGPT Response  \\\n",
              "0      Hurricane Dorian  Hurricane Dorian, a powerful Category 5 storm,...   \n",
              "1  Notre Dame Cathedral  The Notre Dame Cathedral in Paris suffered a d...   \n",
              "2     Women's World Cup  The Women's World Cup is a quadrennial interna...   \n",
              "3          Area 51 raid  In September 2019, a viral social media event ...   \n",
              "4          Copa America  Copa America is the oldest international footb...   \n",
              "\n",
              "                                           processed  \\\n",
              "0  Hurricane Dorian a powerful Category storm str...   \n",
              "1  The Notre Dame Cathedral in Paris suffered a d...   \n",
              "2  The Women's World Cup is a quadrennial interna...   \n",
              "3  In September a viral social media event called...   \n",
              "4  Copa America is the oldest international footb...   \n",
              "\n",
              "                                              tokens  predictions     label  \n",
              "0  [hurricane, dorian, powerful, category, storm,...            2   liberal  \n",
              "1  [notre, dame, cathedral, paris, suffered, deva...            0  moderate  \n",
              "2  [woman, 's, world, cup, quadrennial, internati...            2   liberal  \n",
              "3  [september, viral, social, medium, event, call...            0  moderate  \n",
              "4  [copa, america, oldest, international, footbal...            2   liberal  "
            ],
            "text/html": [
              "\n",
              "  <div id=\"df-c6642a83-bcfb-4508-92ff-abba83227b02\" class=\"colab-df-container\">\n",
              "    <div>\n",
              "<style scoped>\n",
              "    .dataframe tbody tr th:only-of-type {\n",
              "        vertical-align: middle;\n",
              "    }\n",
              "\n",
              "    .dataframe tbody tr th {\n",
              "        vertical-align: top;\n",
              "    }\n",
              "\n",
              "    .dataframe thead th {\n",
              "        text-align: right;\n",
              "    }\n",
              "</style>\n",
              "<table border=\"1\" class=\"dataframe\">\n",
              "  <thead>\n",
              "    <tr style=\"text-align: right;\">\n",
              "      <th></th>\n",
              "      <th>Prompt</th>\n",
              "      <th>News Type</th>\n",
              "      <th>Year</th>\n",
              "      <th>Topic</th>\n",
              "      <th>ChatGPT Response</th>\n",
              "      <th>processed</th>\n",
              "      <th>tokens</th>\n",
              "      <th>predictions</th>\n",
              "      <th>label</th>\n",
              "    </tr>\n",
              "  </thead>\n",
              "  <tbody>\n",
              "    <tr>\n",
              "      <th>0</th>\n",
              "      <td>Please provide a one paragraph summary of each...</td>\n",
              "      <td>Event</td>\n",
              "      <td>2019</td>\n",
              "      <td>Hurricane Dorian</td>\n",
              "      <td>Hurricane Dorian, a powerful Category 5 storm,...</td>\n",
              "      <td>Hurricane Dorian a powerful Category storm str...</td>\n",
              "      <td>[hurricane, dorian, powerful, category, storm,...</td>\n",
              "      <td>2</td>\n",
              "      <td>liberal</td>\n",
              "    </tr>\n",
              "    <tr>\n",
              "      <th>1</th>\n",
              "      <td>Please provide a one paragraph summary of each...</td>\n",
              "      <td>Event</td>\n",
              "      <td>2019</td>\n",
              "      <td>Notre Dame Cathedral</td>\n",
              "      <td>The Notre Dame Cathedral in Paris suffered a d...</td>\n",
              "      <td>The Notre Dame Cathedral in Paris suffered a d...</td>\n",
              "      <td>[notre, dame, cathedral, paris, suffered, deva...</td>\n",
              "      <td>0</td>\n",
              "      <td>moderate</td>\n",
              "    </tr>\n",
              "    <tr>\n",
              "      <th>2</th>\n",
              "      <td>Please provide a one paragraph summary of each...</td>\n",
              "      <td>Event</td>\n",
              "      <td>2019</td>\n",
              "      <td>Women's World Cup</td>\n",
              "      <td>The Women's World Cup is a quadrennial interna...</td>\n",
              "      <td>The Women's World Cup is a quadrennial interna...</td>\n",
              "      <td>[woman, 's, world, cup, quadrennial, internati...</td>\n",
              "      <td>2</td>\n",
              "      <td>liberal</td>\n",
              "    </tr>\n",
              "    <tr>\n",
              "      <th>3</th>\n",
              "      <td>Please provide a one paragraph summary of each...</td>\n",
              "      <td>Event</td>\n",
              "      <td>2019</td>\n",
              "      <td>Area 51 raid</td>\n",
              "      <td>In September 2019, a viral social media event ...</td>\n",
              "      <td>In September a viral social media event called...</td>\n",
              "      <td>[september, viral, social, medium, event, call...</td>\n",
              "      <td>0</td>\n",
              "      <td>moderate</td>\n",
              "    </tr>\n",
              "    <tr>\n",
              "      <th>4</th>\n",
              "      <td>Please provide a one paragraph summary of each...</td>\n",
              "      <td>Event</td>\n",
              "      <td>2019</td>\n",
              "      <td>Copa America</td>\n",
              "      <td>Copa America is the oldest international footb...</td>\n",
              "      <td>Copa America is the oldest international footb...</td>\n",
              "      <td>[copa, america, oldest, international, footbal...</td>\n",
              "      <td>2</td>\n",
              "      <td>liberal</td>\n",
              "    </tr>\n",
              "  </tbody>\n",
              "</table>\n",
              "</div>\n",
              "    <div class=\"colab-df-buttons\">\n",
              "\n",
              "  <div class=\"colab-df-container\">\n",
              "    <button class=\"colab-df-convert\" onclick=\"convertToInteractive('df-c6642a83-bcfb-4508-92ff-abba83227b02')\"\n",
              "            title=\"Convert this dataframe to an interactive table.\"\n",
              "            style=\"display:none;\">\n",
              "\n",
              "  <svg xmlns=\"http://www.w3.org/2000/svg\" height=\"24px\" viewBox=\"0 -960 960 960\">\n",
              "    <path d=\"M120-120v-720h720v720H120Zm60-500h600v-160H180v160Zm220 220h160v-160H400v160Zm0 220h160v-160H400v160ZM180-400h160v-160H180v160Zm440 0h160v-160H620v160ZM180-180h160v-160H180v160Zm440 0h160v-160H620v160Z\"/>\n",
              "  </svg>\n",
              "    </button>\n",
              "\n",
              "  <style>\n",
              "    .colab-df-container {\n",
              "      display:flex;\n",
              "      gap: 12px;\n",
              "    }\n",
              "\n",
              "    .colab-df-convert {\n",
              "      background-color: #E8F0FE;\n",
              "      border: none;\n",
              "      border-radius: 50%;\n",
              "      cursor: pointer;\n",
              "      display: none;\n",
              "      fill: #1967D2;\n",
              "      height: 32px;\n",
              "      padding: 0 0 0 0;\n",
              "      width: 32px;\n",
              "    }\n",
              "\n",
              "    .colab-df-convert:hover {\n",
              "      background-color: #E2EBFA;\n",
              "      box-shadow: 0px 1px 2px rgba(60, 64, 67, 0.3), 0px 1px 3px 1px rgba(60, 64, 67, 0.15);\n",
              "      fill: #174EA6;\n",
              "    }\n",
              "\n",
              "    .colab-df-buttons div {\n",
              "      margin-bottom: 4px;\n",
              "    }\n",
              "\n",
              "    [theme=dark] .colab-df-convert {\n",
              "      background-color: #3B4455;\n",
              "      fill: #D2E3FC;\n",
              "    }\n",
              "\n",
              "    [theme=dark] .colab-df-convert:hover {\n",
              "      background-color: #434B5C;\n",
              "      box-shadow: 0px 1px 3px 1px rgba(0, 0, 0, 0.15);\n",
              "      filter: drop-shadow(0px 1px 2px rgba(0, 0, 0, 0.3));\n",
              "      fill: #FFFFFF;\n",
              "    }\n",
              "  </style>\n",
              "\n",
              "    <script>\n",
              "      const buttonEl =\n",
              "        document.querySelector('#df-c6642a83-bcfb-4508-92ff-abba83227b02 button.colab-df-convert');\n",
              "      buttonEl.style.display =\n",
              "        google.colab.kernel.accessAllowed ? 'block' : 'none';\n",
              "\n",
              "      async function convertToInteractive(key) {\n",
              "        const element = document.querySelector('#df-c6642a83-bcfb-4508-92ff-abba83227b02');\n",
              "        const dataTable =\n",
              "          await google.colab.kernel.invokeFunction('convertToInteractive',\n",
              "                                                    [key], {});\n",
              "        if (!dataTable) return;\n",
              "\n",
              "        const docLinkHtml = 'Like what you see? Visit the ' +\n",
              "          '<a target=\"_blank\" href=https://colab.research.google.com/notebooks/data_table.ipynb>data table notebook</a>'\n",
              "          + ' to learn more about interactive tables.';\n",
              "        element.innerHTML = '';\n",
              "        dataTable['output_type'] = 'display_data';\n",
              "        await google.colab.output.renderOutput(dataTable, element);\n",
              "        const docLink = document.createElement('div');\n",
              "        docLink.innerHTML = docLinkHtml;\n",
              "        element.appendChild(docLink);\n",
              "      }\n",
              "    </script>\n",
              "  </div>\n",
              "\n",
              "\n",
              "<div id=\"df-1b9ad655-5570-4a64-b1f5-d0c653f961e3\">\n",
              "  <button class=\"colab-df-quickchart\" onclick=\"quickchart('df-1b9ad655-5570-4a64-b1f5-d0c653f961e3')\"\n",
              "            title=\"Suggest charts\"\n",
              "            style=\"display:none;\">\n",
              "\n",
              "<svg xmlns=\"http://www.w3.org/2000/svg\" height=\"24px\"viewBox=\"0 0 24 24\"\n",
              "     width=\"24px\">\n",
              "    <g>\n",
              "        <path d=\"M19 3H5c-1.1 0-2 .9-2 2v14c0 1.1.9 2 2 2h14c1.1 0 2-.9 2-2V5c0-1.1-.9-2-2-2zM9 17H7v-7h2v7zm4 0h-2V7h2v10zm4 0h-2v-4h2v4z\"/>\n",
              "    </g>\n",
              "</svg>\n",
              "  </button>\n",
              "\n",
              "<style>\n",
              "  .colab-df-quickchart {\n",
              "      --bg-color: #E8F0FE;\n",
              "      --fill-color: #1967D2;\n",
              "      --hover-bg-color: #E2EBFA;\n",
              "      --hover-fill-color: #174EA6;\n",
              "      --disabled-fill-color: #AAA;\n",
              "      --disabled-bg-color: #DDD;\n",
              "  }\n",
              "\n",
              "  [theme=dark] .colab-df-quickchart {\n",
              "      --bg-color: #3B4455;\n",
              "      --fill-color: #D2E3FC;\n",
              "      --hover-bg-color: #434B5C;\n",
              "      --hover-fill-color: #FFFFFF;\n",
              "      --disabled-bg-color: #3B4455;\n",
              "      --disabled-fill-color: #666;\n",
              "  }\n",
              "\n",
              "  .colab-df-quickchart {\n",
              "    background-color: var(--bg-color);\n",
              "    border: none;\n",
              "    border-radius: 50%;\n",
              "    cursor: pointer;\n",
              "    display: none;\n",
              "    fill: var(--fill-color);\n",
              "    height: 32px;\n",
              "    padding: 0;\n",
              "    width: 32px;\n",
              "  }\n",
              "\n",
              "  .colab-df-quickchart:hover {\n",
              "    background-color: var(--hover-bg-color);\n",
              "    box-shadow: 0 1px 2px rgba(60, 64, 67, 0.3), 0 1px 3px 1px rgba(60, 64, 67, 0.15);\n",
              "    fill: var(--button-hover-fill-color);\n",
              "  }\n",
              "\n",
              "  .colab-df-quickchart-complete:disabled,\n",
              "  .colab-df-quickchart-complete:disabled:hover {\n",
              "    background-color: var(--disabled-bg-color);\n",
              "    fill: var(--disabled-fill-color);\n",
              "    box-shadow: none;\n",
              "  }\n",
              "\n",
              "  .colab-df-spinner {\n",
              "    border: 2px solid var(--fill-color);\n",
              "    border-color: transparent;\n",
              "    border-bottom-color: var(--fill-color);\n",
              "    animation:\n",
              "      spin 1s steps(1) infinite;\n",
              "  }\n",
              "\n",
              "  @keyframes spin {\n",
              "    0% {\n",
              "      border-color: transparent;\n",
              "      border-bottom-color: var(--fill-color);\n",
              "      border-left-color: var(--fill-color);\n",
              "    }\n",
              "    20% {\n",
              "      border-color: transparent;\n",
              "      border-left-color: var(--fill-color);\n",
              "      border-top-color: var(--fill-color);\n",
              "    }\n",
              "    30% {\n",
              "      border-color: transparent;\n",
              "      border-left-color: var(--fill-color);\n",
              "      border-top-color: var(--fill-color);\n",
              "      border-right-color: var(--fill-color);\n",
              "    }\n",
              "    40% {\n",
              "      border-color: transparent;\n",
              "      border-right-color: var(--fill-color);\n",
              "      border-top-color: var(--fill-color);\n",
              "    }\n",
              "    60% {\n",
              "      border-color: transparent;\n",
              "      border-right-color: var(--fill-color);\n",
              "    }\n",
              "    80% {\n",
              "      border-color: transparent;\n",
              "      border-right-color: var(--fill-color);\n",
              "      border-bottom-color: var(--fill-color);\n",
              "    }\n",
              "    90% {\n",
              "      border-color: transparent;\n",
              "      border-bottom-color: var(--fill-color);\n",
              "    }\n",
              "  }\n",
              "</style>\n",
              "\n",
              "  <script>\n",
              "    async function quickchart(key) {\n",
              "      const quickchartButtonEl =\n",
              "        document.querySelector('#' + key + ' button');\n",
              "      quickchartButtonEl.disabled = true;  // To prevent multiple clicks.\n",
              "      quickchartButtonEl.classList.add('colab-df-spinner');\n",
              "      try {\n",
              "        const charts = await google.colab.kernel.invokeFunction(\n",
              "            'suggestCharts', [key], {});\n",
              "      } catch (error) {\n",
              "        console.error('Error during call to suggestCharts:', error);\n",
              "      }\n",
              "      quickchartButtonEl.classList.remove('colab-df-spinner');\n",
              "      quickchartButtonEl.classList.add('colab-df-quickchart-complete');\n",
              "    }\n",
              "    (() => {\n",
              "      let quickchartButtonEl =\n",
              "        document.querySelector('#df-1b9ad655-5570-4a64-b1f5-d0c653f961e3 button');\n",
              "      quickchartButtonEl.style.display =\n",
              "        google.colab.kernel.accessAllowed ? 'block' : 'none';\n",
              "    })();\n",
              "  </script>\n",
              "</div>\n",
              "    </div>\n",
              "  </div>\n"
            ]
          },
          "metadata": {},
          "execution_count": 424
        }
      ]
    },
    {
      "cell_type": "code",
      "source": [
        "chatgpt_detailed_df.head()"
      ],
      "metadata": {
        "colab": {
          "base_uri": "https://localhost:8080/",
          "height": 746
        },
        "id": "z_NdKnPsC7vE",
        "outputId": "317d9909-b202-4acb-8743-01117fafd4ec"
      },
      "execution_count": null,
      "outputs": [
        {
          "output_type": "execute_result",
          "data": {
            "text/plain": [
              "                                              Prompt  Year  \\\n",
              "0  Please provide an 5 paragraph essay including ...  2019   \n",
              "1  Please provide an 5 paragraph essay including ...  2019   \n",
              "2  Please provide an 5 paragraph essay including ...  2019   \n",
              "3  Please provide an 5 paragraph essay including ...  2019   \n",
              "4  Please provide an 5 paragraph essay including ...  2019   \n",
              "\n",
              "                  Topic                                   ChatGPT Response  \\\n",
              "0      Hurricane Dorian  Title: Unleashing Nature's Fury: Hurricane Dor...   \n",
              "1  Notre Dame Cathedral  Title: Notre Dame Cathedral: A Symbolic Marvel...   \n",
              "2     Women's World Cup  Title: The Empowering Impact of the 2019 Women...   \n",
              "3          Area 51 raid  Introduction:\\r\\n\\r\\nThe Area 51 Raid of 2019 ...   \n",
              "4          Copa America  Title: Copa America 2019: A Football Extravaga...   \n",
              "\n",
              "                                           processed  \\\n",
              "0  Title Unleashing Nature's Fury Hurricane Doria...   \n",
              "1  Title Notre Dame Cathedral A Symbolic Marvel E...   \n",
              "2  Title The Empowering Impact of the Women's Wor...   \n",
              "3  Introduction The Area Raid of captured the att...   \n",
              "4  Title Copa America A Football Extravaganza Unv...   \n",
              "\n",
              "                                              tokens  predictions  \\\n",
              "0  [title, unleashing, nature, 's, fury, hurrican...            0   \n",
              "1  [title, notre, dame, cathedral, symbolic, marv...            1   \n",
              "2  [title, empowering, impact, woman, 's, world, ...            0   \n",
              "3  [introduction, area, raid, captured, attention...            0   \n",
              "4  [title, copa, america, football, extravaganza,...            0   \n",
              "\n",
              "          label  \n",
              "0      moderate  \n",
              "1  conservative  \n",
              "2      moderate  \n",
              "3      moderate  \n",
              "4      moderate  "
            ],
            "text/html": [
              "\n",
              "  <div id=\"df-1f22c9eb-1b0a-493d-a75d-c213c4ef2ad9\" class=\"colab-df-container\">\n",
              "    <div>\n",
              "<style scoped>\n",
              "    .dataframe tbody tr th:only-of-type {\n",
              "        vertical-align: middle;\n",
              "    }\n",
              "\n",
              "    .dataframe tbody tr th {\n",
              "        vertical-align: top;\n",
              "    }\n",
              "\n",
              "    .dataframe thead th {\n",
              "        text-align: right;\n",
              "    }\n",
              "</style>\n",
              "<table border=\"1\" class=\"dataframe\">\n",
              "  <thead>\n",
              "    <tr style=\"text-align: right;\">\n",
              "      <th></th>\n",
              "      <th>Prompt</th>\n",
              "      <th>Year</th>\n",
              "      <th>Topic</th>\n",
              "      <th>ChatGPT Response</th>\n",
              "      <th>processed</th>\n",
              "      <th>tokens</th>\n",
              "      <th>predictions</th>\n",
              "      <th>label</th>\n",
              "    </tr>\n",
              "  </thead>\n",
              "  <tbody>\n",
              "    <tr>\n",
              "      <th>0</th>\n",
              "      <td>Please provide an 5 paragraph essay including ...</td>\n",
              "      <td>2019</td>\n",
              "      <td>Hurricane Dorian</td>\n",
              "      <td>Title: Unleashing Nature's Fury: Hurricane Dor...</td>\n",
              "      <td>Title Unleashing Nature's Fury Hurricane Doria...</td>\n",
              "      <td>[title, unleashing, nature, 's, fury, hurrican...</td>\n",
              "      <td>0</td>\n",
              "      <td>moderate</td>\n",
              "    </tr>\n",
              "    <tr>\n",
              "      <th>1</th>\n",
              "      <td>Please provide an 5 paragraph essay including ...</td>\n",
              "      <td>2019</td>\n",
              "      <td>Notre Dame Cathedral</td>\n",
              "      <td>Title: Notre Dame Cathedral: A Symbolic Marvel...</td>\n",
              "      <td>Title Notre Dame Cathedral A Symbolic Marvel E...</td>\n",
              "      <td>[title, notre, dame, cathedral, symbolic, marv...</td>\n",
              "      <td>1</td>\n",
              "      <td>conservative</td>\n",
              "    </tr>\n",
              "    <tr>\n",
              "      <th>2</th>\n",
              "      <td>Please provide an 5 paragraph essay including ...</td>\n",
              "      <td>2019</td>\n",
              "      <td>Women's World Cup</td>\n",
              "      <td>Title: The Empowering Impact of the 2019 Women...</td>\n",
              "      <td>Title The Empowering Impact of the Women's Wor...</td>\n",
              "      <td>[title, empowering, impact, woman, 's, world, ...</td>\n",
              "      <td>0</td>\n",
              "      <td>moderate</td>\n",
              "    </tr>\n",
              "    <tr>\n",
              "      <th>3</th>\n",
              "      <td>Please provide an 5 paragraph essay including ...</td>\n",
              "      <td>2019</td>\n",
              "      <td>Area 51 raid</td>\n",
              "      <td>Introduction:\\r\\n\\r\\nThe Area 51 Raid of 2019 ...</td>\n",
              "      <td>Introduction The Area Raid of captured the att...</td>\n",
              "      <td>[introduction, area, raid, captured, attention...</td>\n",
              "      <td>0</td>\n",
              "      <td>moderate</td>\n",
              "    </tr>\n",
              "    <tr>\n",
              "      <th>4</th>\n",
              "      <td>Please provide an 5 paragraph essay including ...</td>\n",
              "      <td>2019</td>\n",
              "      <td>Copa America</td>\n",
              "      <td>Title: Copa America 2019: A Football Extravaga...</td>\n",
              "      <td>Title Copa America A Football Extravaganza Unv...</td>\n",
              "      <td>[title, copa, america, football, extravaganza,...</td>\n",
              "      <td>0</td>\n",
              "      <td>moderate</td>\n",
              "    </tr>\n",
              "  </tbody>\n",
              "</table>\n",
              "</div>\n",
              "    <div class=\"colab-df-buttons\">\n",
              "\n",
              "  <div class=\"colab-df-container\">\n",
              "    <button class=\"colab-df-convert\" onclick=\"convertToInteractive('df-1f22c9eb-1b0a-493d-a75d-c213c4ef2ad9')\"\n",
              "            title=\"Convert this dataframe to an interactive table.\"\n",
              "            style=\"display:none;\">\n",
              "\n",
              "  <svg xmlns=\"http://www.w3.org/2000/svg\" height=\"24px\" viewBox=\"0 -960 960 960\">\n",
              "    <path d=\"M120-120v-720h720v720H120Zm60-500h600v-160H180v160Zm220 220h160v-160H400v160Zm0 220h160v-160H400v160ZM180-400h160v-160H180v160Zm440 0h160v-160H620v160ZM180-180h160v-160H180v160Zm440 0h160v-160H620v160Z\"/>\n",
              "  </svg>\n",
              "    </button>\n",
              "\n",
              "  <style>\n",
              "    .colab-df-container {\n",
              "      display:flex;\n",
              "      gap: 12px;\n",
              "    }\n",
              "\n",
              "    .colab-df-convert {\n",
              "      background-color: #E8F0FE;\n",
              "      border: none;\n",
              "      border-radius: 50%;\n",
              "      cursor: pointer;\n",
              "      display: none;\n",
              "      fill: #1967D2;\n",
              "      height: 32px;\n",
              "      padding: 0 0 0 0;\n",
              "      width: 32px;\n",
              "    }\n",
              "\n",
              "    .colab-df-convert:hover {\n",
              "      background-color: #E2EBFA;\n",
              "      box-shadow: 0px 1px 2px rgba(60, 64, 67, 0.3), 0px 1px 3px 1px rgba(60, 64, 67, 0.15);\n",
              "      fill: #174EA6;\n",
              "    }\n",
              "\n",
              "    .colab-df-buttons div {\n",
              "      margin-bottom: 4px;\n",
              "    }\n",
              "\n",
              "    [theme=dark] .colab-df-convert {\n",
              "      background-color: #3B4455;\n",
              "      fill: #D2E3FC;\n",
              "    }\n",
              "\n",
              "    [theme=dark] .colab-df-convert:hover {\n",
              "      background-color: #434B5C;\n",
              "      box-shadow: 0px 1px 3px 1px rgba(0, 0, 0, 0.15);\n",
              "      filter: drop-shadow(0px 1px 2px rgba(0, 0, 0, 0.3));\n",
              "      fill: #FFFFFF;\n",
              "    }\n",
              "  </style>\n",
              "\n",
              "    <script>\n",
              "      const buttonEl =\n",
              "        document.querySelector('#df-1f22c9eb-1b0a-493d-a75d-c213c4ef2ad9 button.colab-df-convert');\n",
              "      buttonEl.style.display =\n",
              "        google.colab.kernel.accessAllowed ? 'block' : 'none';\n",
              "\n",
              "      async function convertToInteractive(key) {\n",
              "        const element = document.querySelector('#df-1f22c9eb-1b0a-493d-a75d-c213c4ef2ad9');\n",
              "        const dataTable =\n",
              "          await google.colab.kernel.invokeFunction('convertToInteractive',\n",
              "                                                    [key], {});\n",
              "        if (!dataTable) return;\n",
              "\n",
              "        const docLinkHtml = 'Like what you see? Visit the ' +\n",
              "          '<a target=\"_blank\" href=https://colab.research.google.com/notebooks/data_table.ipynb>data table notebook</a>'\n",
              "          + ' to learn more about interactive tables.';\n",
              "        element.innerHTML = '';\n",
              "        dataTable['output_type'] = 'display_data';\n",
              "        await google.colab.output.renderOutput(dataTable, element);\n",
              "        const docLink = document.createElement('div');\n",
              "        docLink.innerHTML = docLinkHtml;\n",
              "        element.appendChild(docLink);\n",
              "      }\n",
              "    </script>\n",
              "  </div>\n",
              "\n",
              "\n",
              "<div id=\"df-c179b822-84e4-4d1e-bc39-c7e060943c6b\">\n",
              "  <button class=\"colab-df-quickchart\" onclick=\"quickchart('df-c179b822-84e4-4d1e-bc39-c7e060943c6b')\"\n",
              "            title=\"Suggest charts\"\n",
              "            style=\"display:none;\">\n",
              "\n",
              "<svg xmlns=\"http://www.w3.org/2000/svg\" height=\"24px\"viewBox=\"0 0 24 24\"\n",
              "     width=\"24px\">\n",
              "    <g>\n",
              "        <path d=\"M19 3H5c-1.1 0-2 .9-2 2v14c0 1.1.9 2 2 2h14c1.1 0 2-.9 2-2V5c0-1.1-.9-2-2-2zM9 17H7v-7h2v7zm4 0h-2V7h2v10zm4 0h-2v-4h2v4z\"/>\n",
              "    </g>\n",
              "</svg>\n",
              "  </button>\n",
              "\n",
              "<style>\n",
              "  .colab-df-quickchart {\n",
              "      --bg-color: #E8F0FE;\n",
              "      --fill-color: #1967D2;\n",
              "      --hover-bg-color: #E2EBFA;\n",
              "      --hover-fill-color: #174EA6;\n",
              "      --disabled-fill-color: #AAA;\n",
              "      --disabled-bg-color: #DDD;\n",
              "  }\n",
              "\n",
              "  [theme=dark] .colab-df-quickchart {\n",
              "      --bg-color: #3B4455;\n",
              "      --fill-color: #D2E3FC;\n",
              "      --hover-bg-color: #434B5C;\n",
              "      --hover-fill-color: #FFFFFF;\n",
              "      --disabled-bg-color: #3B4455;\n",
              "      --disabled-fill-color: #666;\n",
              "  }\n",
              "\n",
              "  .colab-df-quickchart {\n",
              "    background-color: var(--bg-color);\n",
              "    border: none;\n",
              "    border-radius: 50%;\n",
              "    cursor: pointer;\n",
              "    display: none;\n",
              "    fill: var(--fill-color);\n",
              "    height: 32px;\n",
              "    padding: 0;\n",
              "    width: 32px;\n",
              "  }\n",
              "\n",
              "  .colab-df-quickchart:hover {\n",
              "    background-color: var(--hover-bg-color);\n",
              "    box-shadow: 0 1px 2px rgba(60, 64, 67, 0.3), 0 1px 3px 1px rgba(60, 64, 67, 0.15);\n",
              "    fill: var(--button-hover-fill-color);\n",
              "  }\n",
              "\n",
              "  .colab-df-quickchart-complete:disabled,\n",
              "  .colab-df-quickchart-complete:disabled:hover {\n",
              "    background-color: var(--disabled-bg-color);\n",
              "    fill: var(--disabled-fill-color);\n",
              "    box-shadow: none;\n",
              "  }\n",
              "\n",
              "  .colab-df-spinner {\n",
              "    border: 2px solid var(--fill-color);\n",
              "    border-color: transparent;\n",
              "    border-bottom-color: var(--fill-color);\n",
              "    animation:\n",
              "      spin 1s steps(1) infinite;\n",
              "  }\n",
              "\n",
              "  @keyframes spin {\n",
              "    0% {\n",
              "      border-color: transparent;\n",
              "      border-bottom-color: var(--fill-color);\n",
              "      border-left-color: var(--fill-color);\n",
              "    }\n",
              "    20% {\n",
              "      border-color: transparent;\n",
              "      border-left-color: var(--fill-color);\n",
              "      border-top-color: var(--fill-color);\n",
              "    }\n",
              "    30% {\n",
              "      border-color: transparent;\n",
              "      border-left-color: var(--fill-color);\n",
              "      border-top-color: var(--fill-color);\n",
              "      border-right-color: var(--fill-color);\n",
              "    }\n",
              "    40% {\n",
              "      border-color: transparent;\n",
              "      border-right-color: var(--fill-color);\n",
              "      border-top-color: var(--fill-color);\n",
              "    }\n",
              "    60% {\n",
              "      border-color: transparent;\n",
              "      border-right-color: var(--fill-color);\n",
              "    }\n",
              "    80% {\n",
              "      border-color: transparent;\n",
              "      border-right-color: var(--fill-color);\n",
              "      border-bottom-color: var(--fill-color);\n",
              "    }\n",
              "    90% {\n",
              "      border-color: transparent;\n",
              "      border-bottom-color: var(--fill-color);\n",
              "    }\n",
              "  }\n",
              "</style>\n",
              "\n",
              "  <script>\n",
              "    async function quickchart(key) {\n",
              "      const quickchartButtonEl =\n",
              "        document.querySelector('#' + key + ' button');\n",
              "      quickchartButtonEl.disabled = true;  // To prevent multiple clicks.\n",
              "      quickchartButtonEl.classList.add('colab-df-spinner');\n",
              "      try {\n",
              "        const charts = await google.colab.kernel.invokeFunction(\n",
              "            'suggestCharts', [key], {});\n",
              "      } catch (error) {\n",
              "        console.error('Error during call to suggestCharts:', error);\n",
              "      }\n",
              "      quickchartButtonEl.classList.remove('colab-df-spinner');\n",
              "      quickchartButtonEl.classList.add('colab-df-quickchart-complete');\n",
              "    }\n",
              "    (() => {\n",
              "      let quickchartButtonEl =\n",
              "        document.querySelector('#df-c179b822-84e4-4d1e-bc39-c7e060943c6b button');\n",
              "      quickchartButtonEl.style.display =\n",
              "        google.colab.kernel.accessAllowed ? 'block' : 'none';\n",
              "    })();\n",
              "  </script>\n",
              "</div>\n",
              "    </div>\n",
              "  </div>\n"
            ]
          },
          "metadata": {},
          "execution_count": 419
        }
      ]
    },
    {
      "cell_type": "markdown",
      "source": [
        "Once we've checked our data, we can export it to a .csv and save it for further analysis!"
      ],
      "metadata": {
        "id": "lAmyqQ7c20tD"
      }
    },
    {
      "cell_type": "code",
      "source": [
        "chatgpt_natural_df.to_csv('results_natural_df.csv')\n",
        "chatgpt_summary_df.to_csv('results_summary_df.csv')\n",
        "chatgpt_detailed_df.to_csv('results_detailed_df.csv')"
      ],
      "metadata": {
        "id": "b3H_fB8VDGW-"
      },
      "execution_count": null,
      "outputs": []
    },
    {
      "cell_type": "markdown",
      "source": [
        "## 11. Results"
      ],
      "metadata": {
        "id": "nxpvAaqFVwT2"
      }
    },
    {
      "cell_type": "markdown",
      "source": [
        "Here are the final counts of predicted lean Iof ChatGPT responses) for each prompt style."
      ],
      "metadata": {
        "id": "geH6CsKE24aI"
      }
    },
    {
      "cell_type": "code",
      "source": [
        "chatgpt_natural_df['label'].value_counts()"
      ],
      "metadata": {
        "colab": {
          "base_uri": "https://localhost:8080/"
        },
        "id": "dcjG14e2DnM_",
        "outputId": "5d215f68-28e6-4abd-cb6a-3f25444ac4c3"
      },
      "execution_count": null,
      "outputs": [
        {
          "output_type": "execute_result",
          "data": {
            "text/plain": [
              "liberal         18\n",
              "moderate        18\n",
              "conservative    13\n",
              "Name: label, dtype: int64"
            ]
          },
          "metadata": {},
          "execution_count": 421
        }
      ]
    },
    {
      "cell_type": "code",
      "source": [
        "chatgpt_summary_df['label'].value_counts()"
      ],
      "metadata": {
        "colab": {
          "base_uri": "https://localhost:8080/"
        },
        "id": "hYrbvsTwDuDA",
        "outputId": "0a47b141-c7fa-4511-b2ec-368a4e4d89d3"
      },
      "execution_count": null,
      "outputs": [
        {
          "output_type": "execute_result",
          "data": {
            "text/plain": [
              "moderate        26\n",
              "liberal         18\n",
              "conservative     3\n",
              "Name: label, dtype: int64"
            ]
          },
          "metadata": {},
          "execution_count": 422
        }
      ]
    },
    {
      "cell_type": "code",
      "source": [
        "chatgpt_detailed_df['label'].value_counts()"
      ],
      "metadata": {
        "colab": {
          "base_uri": "https://localhost:8080/"
        },
        "id": "W-A7ac3QD0Ow",
        "outputId": "6a6d0a37-6aa4-4fde-d993-c3b948dade75"
      },
      "execution_count": null,
      "outputs": [
        {
          "output_type": "execute_result",
          "data": {
            "text/plain": [
              "moderate        15\n",
              "liberal         15\n",
              "conservative     6\n",
              "Name: label, dtype: int64"
            ]
          },
          "metadata": {},
          "execution_count": 423
        }
      ]
    }
  ]
}